{
  "nbformat": 4,
  "nbformat_minor": 0,
  "metadata": {
    "colab": {
      "provenance": []
    },
    "kernelspec": {
      "name": "python3",
      "display_name": "Python 3"
    },
    "language_info": {
      "name": "python"
    }
  },
  "cells": [
    {
      "cell_type": "markdown",
      "source": [
        "### CF HybridBERT4Rec"
      ],
      "metadata": {
        "id": "IWzjQOBuLbVX"
      }
    },
    {
      "cell_type": "code",
      "source": [
        "!pip install transformers"
      ],
      "metadata": {
        "colab": {
          "base_uri": "https://localhost:8080/"
        },
        "id": "HSQzEHO8LzbQ",
        "outputId": "bcafb6c6-b00c-48da-f616-5a1aa58af307"
      },
      "execution_count": 2,
      "outputs": [
        {
          "output_type": "stream",
          "name": "stdout",
          "text": [
            "Looking in indexes: https://pypi.org/simple, https://us-python.pkg.dev/colab-wheels/public/simple/\n",
            "Requirement already satisfied: transformers in /usr/local/lib/python3.10/dist-packages (4.30.2)\n",
            "Requirement already satisfied: filelock in /usr/local/lib/python3.10/dist-packages (from transformers) (3.12.0)\n",
            "Requirement already satisfied: huggingface-hub<1.0,>=0.14.1 in /usr/local/lib/python3.10/dist-packages (from transformers) (0.15.1)\n",
            "Requirement already satisfied: numpy>=1.17 in /usr/local/lib/python3.10/dist-packages (from transformers) (1.22.4)\n",
            "Requirement already satisfied: packaging>=20.0 in /usr/local/lib/python3.10/dist-packages (from transformers) (23.1)\n",
            "Requirement already satisfied: pyyaml>=5.1 in /usr/local/lib/python3.10/dist-packages (from transformers) (6.0)\n",
            "Requirement already satisfied: regex!=2019.12.17 in /usr/local/lib/python3.10/dist-packages (from transformers) (2022.10.31)\n",
            "Requirement already satisfied: requests in /usr/local/lib/python3.10/dist-packages (from transformers) (2.27.1)\n",
            "Requirement already satisfied: tokenizers!=0.11.3,<0.14,>=0.11.1 in /usr/local/lib/python3.10/dist-packages (from transformers) (0.13.3)\n",
            "Requirement already satisfied: safetensors>=0.3.1 in /usr/local/lib/python3.10/dist-packages (from transformers) (0.3.1)\n",
            "Requirement already satisfied: tqdm>=4.27 in /usr/local/lib/python3.10/dist-packages (from transformers) (4.65.0)\n",
            "Requirement already satisfied: fsspec in /usr/local/lib/python3.10/dist-packages (from huggingface-hub<1.0,>=0.14.1->transformers) (2023.4.0)\n",
            "Requirement already satisfied: typing-extensions>=3.7.4.3 in /usr/local/lib/python3.10/dist-packages (from huggingface-hub<1.0,>=0.14.1->transformers) (4.5.0)\n",
            "Requirement already satisfied: urllib3<1.27,>=1.21.1 in /usr/local/lib/python3.10/dist-packages (from requests->transformers) (1.26.15)\n",
            "Requirement already satisfied: certifi>=2017.4.17 in /usr/local/lib/python3.10/dist-packages (from requests->transformers) (2022.12.7)\n",
            "Requirement already satisfied: charset-normalizer~=2.0.0 in /usr/local/lib/python3.10/dist-packages (from requests->transformers) (2.0.12)\n",
            "Requirement already satisfied: idna<4,>=2.5 in /usr/local/lib/python3.10/dist-packages (from requests->transformers) (3.4)\n"
          ]
        }
      ]
    },
    {
      "cell_type": "code",
      "execution_count": 62,
      "metadata": {
        "id": "_WrqaW2fLXul"
      },
      "outputs": [],
      "source": [
        "import tensorflow as tf\n",
        "from transformers import TFBertModel\n",
        "\n",
        "class CFHybridBERT4Rec(tf.keras.Model):\n",
        "    def __init__(self, num_users, num_items, num_numeric_features, bert_model_name, hidden_size, dropout_prob):\n",
        "        super(CFHybridBERT4Rec, self).__init__()\n",
        "        self.num_users = num_users\n",
        "        self.num_items = num_items\n",
        "        self.num_numeric_features = num_numeric_features\n",
        "        self.hidden_size = hidden_size\n",
        "        self.dropout_prob = dropout_prob\n",
        "\n",
        "        # Embedding layers for users and items\n",
        "        self.user_embedding = tf.keras.layers.Embedding(num_users, hidden_size)\n",
        "        self.item_embedding = tf.keras.layers.Embedding(num_items, hidden_size)\n",
        "\n",
        "        # Numeric features layer\n",
        "        self.numeric_layer = tf.keras.layers.Dense(hidden_size)\n",
        "\n",
        "        # BERT model for item tokens\n",
        "        self.bert_model = TFBertModel.from_pretrained(bert_model_name)\n",
        "\n",
        "        # Dropout layer\n",
        "        self.dropout = tf.keras.layers.Dropout(dropout_prob)\n",
        "\n",
        "        # Fully connected layers\n",
        "        self.fc1 = tf.keras.layers.Dense(hidden_size, activation='relu')\n",
        "        self.fc2 = tf.keras.layers.Dense(1, activation='sigmoid')\n",
        "\n",
        "    def call(self, user_ids, item_ids, item_tokens, attention_mask, numeric_features):\n",
        "        # Embedding lookup for users and items\n",
        "        user_embedded = self.user_embedding(user_ids)\n",
        "        item_embedded = self.item_embedding(item_ids)\n",
        "\n",
        "        # BERT encoding for item tokens\n",
        "        _, item_token_embeddings = self.bert_model(item_tokens, attention_mask=attention_mask)\n",
        "\n",
        "        # Combine item embeddings with BERT embeddings\n",
        "        #item_embedded = item_embedded + item_token_embeddings[:, 0, :]\n",
        "        #item_embedded = self.dropout(item_embedded)\n",
        "        # Convert item_embedded to int64 data type\n",
        "        item_embedded = tf.dtypes.cast(item_embedded, tf.int64)\n",
        "\n",
        "        # Combine item embeddings with BERT embeddings\n",
        "        # item_embedded = item_embedded + item_token_embeddings[:, 0]\n",
        "        # item_embedded = self.dropout(item_embedded)\n",
        "        # print('item token embeddings')\n",
        "        # print(item_token_embeddings)\n",
        "        # print('item embedded')\n",
        "        # print(item_embedded)\n",
        "\n",
        "        # Combine item embeddings with BERT embeddings\n",
        "        item_embedded = item_embedded + item_token_embeddings[:, 0]\n",
        "        item_embedded = self.dropout(item_embedded)\n",
        "\n",
        "\n",
        "        # Numeric features layer\n",
        "        numeric_embedded = self.numeric_layer(numeric_features)\n",
        "\n",
        "        # Concatenate user and item embeddings with numeric features\n",
        "        user_item_concat = tf.concat((user_embedded, item_embedded, numeric_embedded), axis=1)\n",
        "\n",
        "        # Hidden layer and dropout\n",
        "        user_item_hidden = self.fc1(user_item_concat)\n",
        "        user_item_hidden = self.dropout(user_item_hidden)\n",
        "\n",
        "        # Output prediction\n",
        "        prediction = self.fc2(user_item_hidden)\n",
        "\n",
        "        return prediction\n"
      ]
    },
    {
      "cell_type": "code",
      "source": [
        "import tensorflow as tf\n",
        "from transformers import TFBertModel\n",
        "\n",
        "class CFHybridBERT4Rec(tf.keras.Model):\n",
        "    def __init__(self, num_users, num_items, num_numeric_features, bert_model_name, hidden_size, dropout_prob):\n",
        "        super(CFHybridBERT4Rec, self).__init__()\n",
        "        self.num_users = num_users\n",
        "        self.num_items = num_items\n",
        "        self.num_numeric_features = num_numeric_features\n",
        "        self.hidden_size = hidden_size\n",
        "        self.dropout_prob = dropout_prob\n",
        "\n",
        "        # Embedding layers for users and items\n",
        "        self.user_embedding = tf.keras.layers.Embedding(num_users, hidden_size)\n",
        "        self.item_embedding = tf.keras.layers.Embedding(num_items, hidden_size)\n",
        "\n",
        "        # Numeric features layer\n",
        "        self.numeric_layer = tf.keras.layers.Dense(hidden_size)\n",
        "\n",
        "        # BERT model for item tokens\n",
        "        self.bert_model = TFBertModel.from_pretrained(bert_model_name)\n",
        "\n",
        "        # Dropout layer\n",
        "        self.dropout = tf.keras.layers.Dropout(dropout_prob)\n",
        "\n",
        "        # Fully connected layers\n",
        "        self.fc1 = tf.keras.layers.Dense(hidden_size, activation='relu')\n",
        "        self.fc2 = tf.keras.layers.Dense(1, activation='sigmoid')\n",
        "\n",
        "    def call(self, user_ids, item_ids, item_tokens, attention_mask, numeric_features):\n",
        "        # Embedding lookup for users and items\n",
        "        user_embedded = self.user_embedding(user_ids)\n",
        "        item_embedded = self.item_embedding(item_ids)\n",
        "\n",
        "        # BERT encoding for item tokens\n",
        "        outputs = self.bert_model(item_tokens, attention_mask=attention_mask)\n",
        "        item_token_embeddings = outputs['last_hidden_state']\n",
        "\n",
        "        # Combine item embeddings with BERT embeddings\n",
        "        print(item_token_embeddings[:, 0, :].numpy().shape)\n",
        "        print(item_embedded.numpy().shape)\n",
        "        item_embedded = item_embedded + item_token_embeddings[:, 0, :]\n",
        "        item_embedded = self.dropout(item_embedded)\n",
        "\n",
        "        # Numeric features layer\n",
        "        numeric_embedded = self.numeric_layer(numeric_features)\n",
        "\n",
        "        # Concatenate user and item embeddings with numeric features\n",
        "        user_item_concat = tf.concat((user_embedded, item_embedded, numeric_embedded), axis=1)\n",
        "\n",
        "        # Hidden layer and dropout\n",
        "        user_item_hidden = self.fc1(user_item_concat)\n",
        "        user_item_hidden = self.dropout(user_item_hidden)\n",
        "\n",
        "        # Output prediction\n",
        "        prediction = self.fc2(user_item_hidden)\n",
        "\n",
        "        return prediction\n"
      ],
      "metadata": {
        "id": "Cx5pLvbLE90m"
      },
      "execution_count": 94,
      "outputs": []
    },
    {
      "cell_type": "code",
      "source": [
        "import tensorflow as tf\n",
        "from transformers import TFBertModel\n",
        "\n",
        "class CFHybridBERT4Rec(tf.keras.Model):\n",
        "    def __init__(self, num_users, num_items, num_numeric_features, bert_model_name, hidden_size, dropout_prob):\n",
        "        super(CFHybridBERT4Rec, self).__init__()\n",
        "        self.num_users = num_users\n",
        "        self.num_items = num_items\n",
        "        self.num_numeric_features = num_numeric_features\n",
        "        self.hidden_size = hidden_size\n",
        "        self.dropout_prob = dropout_prob\n",
        "\n",
        "        # Embedding layers for users and items\n",
        "        self.user_embedding = tf.keras.layers.Embedding(num_users, hidden_size)\n",
        "        self.item_embedding = tf.keras.layers.Embedding(num_items, hidden_size)\n",
        "\n",
        "        # Numeric features layer\n",
        "        self.numeric_layer = tf.keras.layers.Dense(hidden_size)\n",
        "\n",
        "        # BERT model for item tokens\n",
        "        self.bert_model = TFBertModel.from_pretrained(bert_model_name)\n",
        "\n",
        "        # Dropout layer\n",
        "        self.dropout = tf.keras.layers.Dropout(dropout_prob)\n",
        "\n",
        "        # Linear transformation for item embeddings\n",
        "        self.linear_transform = tf.keras.layers.Dense(hidden_size)\n",
        "\n",
        "        # Fully connected layers\n",
        "        self.fc1 = tf.keras.layers.Dense(hidden_size, activation='relu')\n",
        "        self.fc2 = tf.keras.layers.Dense(1, activation='sigmoid')\n",
        "\n",
        "    def call(self, user_ids, item_ids, item_tokens, attention_mask, numeric_features):\n",
        "        # Embedding lookup for users and items\n",
        "        user_embedded = self.user_embedding(user_ids)\n",
        "        item_embedded = self.item_embedding(item_ids)\n",
        "\n",
        "        # BERT encoding for item tokens\n",
        "        outputs = self.bert_model(item_tokens, attention_mask=attention_mask)\n",
        "        item_token_embeddings = outputs['last_hidden_state']\n",
        "\n",
        "        # Linear transformation for item embeddings\n",
        "        item_embedded_transformed = self.linear_transform(item_embedded)\n",
        "        print(item_embedded_transformed.numpy().shape)\n",
        "\n",
        "        # Combine item embeddings with BERT embeddings\n",
        "        item_combined = item_embedded_transformed + item_token_embeddings[:, 0, :]\n",
        "        item_combined = self.dropout(item_combined)\n",
        "\n",
        "        # Numeric features layer\n",
        "        numeric_embedded = self.numeric_layer(numeric_features)\n",
        "\n",
        "        # Concatenate user and item embeddings with numeric features\n",
        "        user_item_concat = tf.concat((user_embedded, item_combined, numeric_embedded), axis=1)\n",
        "\n",
        "        # Hidden layer and dropout\n",
        "        user_item_hidden = self.fc1(user_item_concat)\n",
        "        user_item_hidden = self.dropout(user_item_hidden)\n",
        "\n",
        "        # Output prediction\n",
        "        prediction = self.fc2(user_item_hidden)\n",
        "\n",
        "        return prediction\n"
      ],
      "metadata": {
        "id": "sTq_TAsMF-Up"
      },
      "execution_count": 98,
      "outputs": []
    },
    {
      "cell_type": "code",
      "source": [
        "class CFHybridBERT4Rec(tf.keras.Model):\n",
        "    def __init__(self, num_users, num_items, num_numeric_features, bert_model_name, hidden_size, dropout_prob):\n",
        "        super(CFHybridBERT4Rec, self).__init__()\n",
        "        self.num_users = num_users\n",
        "        self.num_items = num_items\n",
        "        self.num_numeric_features = num_numeric_features\n",
        "        self.hidden_size = hidden_size\n",
        "        self.dropout_prob = dropout_prob\n",
        "\n",
        "        # Embedding layers for users and items\n",
        "        self.user_embedding = tf.keras.layers.Embedding(num_users, hidden_size)\n",
        "        self.item_embedding = tf.keras.layers.Embedding(num_items, hidden_size)\n",
        "\n",
        "        # Numeric features layer\n",
        "        self.numeric_layer = tf.keras.layers.Dense(hidden_size)\n",
        "\n",
        "        # BERT model for item tokens\n",
        "        self.bert_model = TFBertModel.from_pretrained(bert_model_name)\n",
        "\n",
        "        # Dropout layer\n",
        "        self.dropout = tf.keras.layers.Dropout(dropout_prob)\n",
        "\n",
        "        # Linear transformation for item embeddings\n",
        "        self.linear_transform = tf.keras.layers.Dense(hidden_size)\n",
        "\n",
        "        # Fully connected layers\n",
        "        self.fc1 = tf.keras.layers.Dense(hidden_size, activation='relu')\n",
        "        self.fc2 = tf.keras.layers.Dense(1, activation='sigmoid')\n",
        "\n",
        "    def call(self, user_ids, item_ids, item_tokens, attention_mask, numeric_features):\n",
        "        # Embedding lookup for users and items\n",
        "        user_embedded = self.user_embedding(user_ids)\n",
        "        item_embedded = self.item_embedding(item_ids)\n",
        "\n",
        "        # BERT encoding for item tokens\n",
        "        #attention_mask = tf.expand_dims(attention_mask,axis=1)\n",
        "        outputs = self.bert_model(item_tokens, attention_mask=attention_mask)#tf.squeeze(attention_mask, axis=1))\n",
        "        item_token_embeddings = outputs['last_hidden_state']\n",
        "\n",
        "        # Linear transformation for item embeddings\n",
        "        #item_embedded_transformed = self.linear_transform(item_embedded)\n",
        "        item_token_embeddings_transformed = self.linear_transform(item_token_embeddings)\n",
        "\n",
        "\n",
        "        # Reshape item_embedded to match the shape of item_token_embeddings_transformed\n",
        "        item_embedded = tf.reshape(item_embedded, (-1, 1, self.hidden_size))\n",
        "\n",
        "        print(item_token_embeddings_transformed.numpy().shape)\n",
        "        print(item_embedded.numpy().shape)\n",
        "\n",
        "        # Combine item embeddings with BERT embeddings\n",
        "        #item_combined = item_embedded_transformed + item_token_embeddings\n",
        "        item_combined = item_embedded + item_token_embeddings_transformed\n",
        "        item_combined = self.dropout(item_combined)\n",
        "\n",
        "\n",
        "        # Numeric features layer\n",
        "        numeric_embedded = self.numeric_layer(numeric_features)\n",
        "\n",
        "        # Reshape item_combined to match the shape of numeric_embedded\n",
        "\n",
        "        # Reshape item_combined to match the batch size of user_embedded and numeric_embedded\n",
        "        batch_size = tf.shape(user_embedded)[0]\n",
        "        item_combined = tf.reshape(item_combined, (batch_size, -1, self.hidden_size))\n",
        "\n",
        "        # Reshape item_combined to match the shape of numeric_embedded\n",
        "        item_combined_reshaped = tf.reshape(item_combined, (batch_size, -1))\n",
        "\n",
        "\n",
        "        # Concatenate user and item embeddings with numeric features\n",
        "        print(user_embedded.numpy().shape, item_combined_reshaped.numpy().shape, numeric_embedded.numpy().shape)\n",
        "        user_item_concat = tf.concat((user_embedded, item_combined_reshaped, numeric_embedded), axis=1)\n",
        "\n",
        "        # Hidden layer and dropout\n",
        "        user_item_hidden = self.fc1(user_item_concat)\n",
        "        user_item_hidden = self.dropout(user_item_hidden)\n",
        "\n",
        "        # Output prediction\n",
        "        prediction = self.fc2(user_item_hidden)\n",
        "\n",
        "        return prediction"
      ],
      "metadata": {
        "id": "PGdBOja-HUgz"
      },
      "execution_count": 180,
      "outputs": []
    },
    {
      "cell_type": "code",
      "source": [],
      "metadata": {
        "id": "EDSA0Kh8Jpyp"
      },
      "execution_count": 168,
      "outputs": []
    },
    {
      "cell_type": "code",
      "source": [
        "#"
      ],
      "metadata": {
        "id": "-fwaWYNYE9tG"
      },
      "execution_count": 147,
      "outputs": []
    },
    {
      "cell_type": "code",
      "source": [
        "bert_model_test = TFBertModel.from_pretrained(bert_model_name)"
      ],
      "metadata": {
        "colab": {
          "base_uri": "https://localhost:8080/"
        },
        "id": "y1XYNLtoCKUx",
        "outputId": "65db6922-0d87-48c6-a521-de2901aaf3e4"
      },
      "execution_count": 67,
      "outputs": [
        {
          "output_type": "stream",
          "name": "stderr",
          "text": [
            "Some weights of the PyTorch model were not used when initializing the TF 2.0 model TFBertModel: ['cls.predictions.transform.dense.weight', 'cls.seq_relationship.weight', 'cls.seq_relationship.bias', 'cls.predictions.transform.LayerNorm.weight', 'cls.predictions.transform.LayerNorm.bias', 'cls.predictions.transform.dense.bias', 'cls.predictions.bias']\n",
            "- This IS expected if you are initializing TFBertModel from a PyTorch model trained on another task or with another architecture (e.g. initializing a TFBertForSequenceClassification model from a BertForPreTraining model).\n",
            "- This IS NOT expected if you are initializing TFBertModel from a PyTorch model that you expect to be exactly identical (e.g. initializing a TFBertForSequenceClassification model from a BertForSequenceClassification model).\n",
            "All the weights of TFBertModel were initialized from the PyTorch model.\n",
            "If your task is similar to the task the model of the checkpoint was trained on, you can already use TFBertModel for predictions without further training.\n"
          ]
        }
      ]
    },
    {
      "cell_type": "code",
      "source": [
        "attention_mask.shape"
      ],
      "metadata": {
        "colab": {
          "base_uri": "https://localhost:8080/"
        },
        "id": "Td0zyHw_E8IN",
        "outputId": "c21ab1ba-0380-496f-99db-2e10de6e7c52"
      },
      "execution_count": 139,
      "outputs": [
        {
          "output_type": "execute_result",
          "data": {
            "text/plain": [
              "TensorShape([1000, 10])"
            ]
          },
          "metadata": {},
          "execution_count": 139
        }
      ]
    },
    {
      "cell_type": "code",
      "source": [
        "tf.expand_dims(attention_mask,axis=1)"
      ],
      "metadata": {
        "colab": {
          "base_uri": "https://localhost:8080/"
        },
        "id": "FtgrGFYVE79-",
        "outputId": "46ab1206-e0af-4f46-9ee5-addd8a07cb4f"
      },
      "execution_count": 140,
      "outputs": [
        {
          "output_type": "execute_result",
          "data": {
            "text/plain": [
              "<tf.Tensor: shape=(1000, 1, 10), dtype=int32, numpy=\n",
              "array([[[1, 1, 1, ..., 1, 1, 1]],\n",
              "\n",
              "       [[1, 1, 1, ..., 1, 1, 1]],\n",
              "\n",
              "       [[1, 1, 1, ..., 1, 1, 1]],\n",
              "\n",
              "       ...,\n",
              "\n",
              "       [[1, 1, 1, ..., 1, 1, 1]],\n",
              "\n",
              "       [[1, 1, 1, ..., 1, 1, 1]],\n",
              "\n",
              "       [[1, 1, 1, ..., 1, 1, 1]]], dtype=int32)>"
            ]
          },
          "metadata": {},
          "execution_count": 140
        }
      ]
    },
    {
      "cell_type": "code",
      "source": [
        "tf.squeeze(attention_mask, axis=1)"
      ],
      "metadata": {
        "colab": {
          "base_uri": "https://localhost:8080/",
          "height": 311
        },
        "id": "PVXQ8sQWMLRH",
        "outputId": "34ab043b-b5ad-4a2b-cdac-f4e21cc15d30"
      },
      "execution_count": 138,
      "outputs": [
        {
          "output_type": "error",
          "ename": "InvalidArgumentError",
          "evalue": "ignored",
          "traceback": [
            "\u001b[0;31m---------------------------------------------------------------------------\u001b[0m",
            "\u001b[0;31mInvalidArgumentError\u001b[0m                      Traceback (most recent call last)",
            "\u001b[0;32m<ipython-input-138-6ada5a7ba238>\u001b[0m in \u001b[0;36m<cell line: 1>\u001b[0;34m()\u001b[0m\n\u001b[0;32m----> 1\u001b[0;31m \u001b[0mtf\u001b[0m\u001b[0;34m.\u001b[0m\u001b[0msqueeze\u001b[0m\u001b[0;34m(\u001b[0m\u001b[0mattention_mask\u001b[0m\u001b[0;34m,\u001b[0m \u001b[0maxis\u001b[0m\u001b[0;34m=\u001b[0m\u001b[0;36m1\u001b[0m\u001b[0;34m)\u001b[0m\u001b[0;34m\u001b[0m\u001b[0;34m\u001b[0m\u001b[0m\n\u001b[0m",
            "\u001b[0;32m/usr/local/lib/python3.10/dist-packages/tensorflow/python/util/traceback_utils.py\u001b[0m in \u001b[0;36merror_handler\u001b[0;34m(*args, **kwargs)\u001b[0m\n\u001b[1;32m    151\u001b[0m     \u001b[0;32mexcept\u001b[0m \u001b[0mException\u001b[0m \u001b[0;32mas\u001b[0m \u001b[0me\u001b[0m\u001b[0;34m:\u001b[0m\u001b[0;34m\u001b[0m\u001b[0;34m\u001b[0m\u001b[0m\n\u001b[1;32m    152\u001b[0m       \u001b[0mfiltered_tb\u001b[0m \u001b[0;34m=\u001b[0m \u001b[0m_process_traceback_frames\u001b[0m\u001b[0;34m(\u001b[0m\u001b[0me\u001b[0m\u001b[0;34m.\u001b[0m\u001b[0m__traceback__\u001b[0m\u001b[0;34m)\u001b[0m\u001b[0;34m\u001b[0m\u001b[0;34m\u001b[0m\u001b[0m\n\u001b[0;32m--> 153\u001b[0;31m       \u001b[0;32mraise\u001b[0m \u001b[0me\u001b[0m\u001b[0;34m.\u001b[0m\u001b[0mwith_traceback\u001b[0m\u001b[0;34m(\u001b[0m\u001b[0mfiltered_tb\u001b[0m\u001b[0;34m)\u001b[0m \u001b[0;32mfrom\u001b[0m \u001b[0;32mNone\u001b[0m\u001b[0;34m\u001b[0m\u001b[0;34m\u001b[0m\u001b[0m\n\u001b[0m\u001b[1;32m    154\u001b[0m     \u001b[0;32mfinally\u001b[0m\u001b[0;34m:\u001b[0m\u001b[0;34m\u001b[0m\u001b[0;34m\u001b[0m\u001b[0m\n\u001b[1;32m    155\u001b[0m       \u001b[0;32mdel\u001b[0m \u001b[0mfiltered_tb\u001b[0m\u001b[0;34m\u001b[0m\u001b[0;34m\u001b[0m\u001b[0m\n",
            "\u001b[0;32m/usr/local/lib/python3.10/dist-packages/tensorflow/python/framework/ops.py\u001b[0m in \u001b[0;36mraise_from_not_ok_status\u001b[0;34m(e, name)\u001b[0m\n\u001b[1;32m   7260\u001b[0m \u001b[0;32mdef\u001b[0m \u001b[0mraise_from_not_ok_status\u001b[0m\u001b[0;34m(\u001b[0m\u001b[0me\u001b[0m\u001b[0;34m,\u001b[0m \u001b[0mname\u001b[0m\u001b[0;34m)\u001b[0m\u001b[0;34m:\u001b[0m\u001b[0;34m\u001b[0m\u001b[0;34m\u001b[0m\u001b[0m\n\u001b[1;32m   7261\u001b[0m   \u001b[0me\u001b[0m\u001b[0;34m.\u001b[0m\u001b[0mmessage\u001b[0m \u001b[0;34m+=\u001b[0m \u001b[0;34m(\u001b[0m\u001b[0;34m\" name: \"\u001b[0m \u001b[0;34m+\u001b[0m \u001b[0mname\u001b[0m \u001b[0;32mif\u001b[0m \u001b[0mname\u001b[0m \u001b[0;32mis\u001b[0m \u001b[0;32mnot\u001b[0m \u001b[0;32mNone\u001b[0m \u001b[0;32melse\u001b[0m \u001b[0;34m\"\"\u001b[0m\u001b[0;34m)\u001b[0m\u001b[0;34m\u001b[0m\u001b[0;34m\u001b[0m\u001b[0m\n\u001b[0;32m-> 7262\u001b[0;31m   \u001b[0;32mraise\u001b[0m \u001b[0mcore\u001b[0m\u001b[0;34m.\u001b[0m\u001b[0m_status_to_exception\u001b[0m\u001b[0;34m(\u001b[0m\u001b[0me\u001b[0m\u001b[0;34m)\u001b[0m \u001b[0;32mfrom\u001b[0m \u001b[0;32mNone\u001b[0m  \u001b[0;31m# pylint: disable=protected-access\u001b[0m\u001b[0;34m\u001b[0m\u001b[0;34m\u001b[0m\u001b[0m\n\u001b[0m\u001b[1;32m   7263\u001b[0m \u001b[0;34m\u001b[0m\u001b[0m\n\u001b[1;32m   7264\u001b[0m \u001b[0;34m\u001b[0m\u001b[0m\n",
            "\u001b[0;31mInvalidArgumentError\u001b[0m: {{function_node __wrapped__Squeeze_device_/job:localhost/replica:0/task:0/device:CPU:0}} Can not squeeze dim[1], expected a dimension of 1, got 10 [Op:Squeeze]"
          ]
        }
      ]
    },
    {
      "cell_type": "code",
      "source": [
        "a, b = ber_model_out\n",
        "a, b"
      ],
      "metadata": {
        "colab": {
          "base_uri": "https://localhost:8080/"
        },
        "id": "ONMyNmcoEAHf",
        "outputId": "db791e64-ba2a-44a4-8e1b-6b18aad01b9b"
      },
      "execution_count": 86,
      "outputs": [
        {
          "output_type": "execute_result",
          "data": {
            "text/plain": [
              "('last_hidden_state', 'pooler_output')"
            ]
          },
          "metadata": {},
          "execution_count": 86
        }
      ]
    },
    {
      "cell_type": "code",
      "source": [
        "ber_model_out = bert_model_test(item_tokens, attention_mask=attention_mask)"
      ],
      "metadata": {
        "id": "fy7iACEfCOHq"
      },
      "execution_count": 152,
      "outputs": []
    },
    {
      "cell_type": "code",
      "source": [
        "ber_model_out['last_hidden_state'].numpy().shape"
      ],
      "metadata": {
        "colab": {
          "base_uri": "https://localhost:8080/"
        },
        "id": "GCDE-K1QLEI6",
        "outputId": "a8fd49ac-e899-4038-f5a1-250520ec7de4"
      },
      "execution_count": 153,
      "outputs": [
        {
          "output_type": "execute_result",
          "data": {
            "text/plain": [
              "(1000, 10, 768)"
            ]
          },
          "metadata": {},
          "execution_count": 153
        }
      ]
    },
    {
      "cell_type": "code",
      "source": [
        "_, item_token_embeddings_some = ber_model_out"
      ],
      "metadata": {
        "id": "oqs5qzPgCVVH"
      },
      "execution_count": 72,
      "outputs": []
    },
    {
      "cell_type": "code",
      "source": [
        "ber_model_out[0].numpy().shape"
      ],
      "metadata": {
        "colab": {
          "base_uri": "https://localhost:8080/"
        },
        "id": "qKYajg1HCxIW",
        "outputId": "1b969973-37cc-4527-8874-4b4ee3e446d9"
      },
      "execution_count": 80,
      "outputs": [
        {
          "output_type": "execute_result",
          "data": {
            "text/plain": [
              "(1000, 10, 768)"
            ]
          },
          "metadata": {},
          "execution_count": 80
        }
      ]
    },
    {
      "cell_type": "code",
      "source": [
        "ber_model_out[0][:, 0, :].numpy().shape"
      ],
      "metadata": {
        "colab": {
          "base_uri": "https://localhost:8080/"
        },
        "id": "QQ7AZqrVDANZ",
        "outputId": "ab13e6f1-5328-43ec-a7ee-f75b75b04627"
      },
      "execution_count": 89,
      "outputs": [
        {
          "output_type": "execute_result",
          "data": {
            "text/plain": [
              "(1000, 768)"
            ]
          },
          "metadata": {},
          "execution_count": 89
        }
      ]
    },
    {
      "cell_type": "code",
      "source": [],
      "metadata": {
        "id": "84cQlHSqDG5i"
      },
      "execution_count": null,
      "outputs": []
    },
    {
      "cell_type": "code",
      "source": [
        "attention_mask"
      ],
      "metadata": {
        "colab": {
          "base_uri": "https://localhost:8080/"
        },
        "id": "WBR1ZVH7CVHf",
        "outputId": "880a7031-3ca2-4a3f-f30f-549bda9c2080"
      },
      "execution_count": 69,
      "outputs": [
        {
          "output_type": "execute_result",
          "data": {
            "text/plain": [
              "<tf.Tensor: shape=(1000, 10), dtype=int32, numpy=\n",
              "array([[1, 1, 1, ..., 1, 1, 1],\n",
              "       [1, 1, 1, ..., 1, 1, 1],\n",
              "       [1, 1, 1, ..., 1, 1, 1],\n",
              "       ...,\n",
              "       [1, 1, 1, ..., 1, 1, 1],\n",
              "       [1, 1, 1, ..., 1, 1, 1],\n",
              "       [1, 1, 1, ..., 1, 1, 1]], dtype=int32)>"
            ]
          },
          "metadata": {},
          "execution_count": 69
        }
      ]
    },
    {
      "cell_type": "code",
      "source": [
        "import numpy as np\n",
        "# import tensorflow as tf\n",
        "from transformers import BertTokenizer"
      ],
      "metadata": {
        "id": "DxrBaqu4MXv7"
      },
      "execution_count": 164,
      "outputs": []
    },
    {
      "cell_type": "code",
      "source": [],
      "metadata": {
        "id": "3Lxwf4G2MVHh"
      },
      "execution_count": 164,
      "outputs": []
    },
    {
      "cell_type": "code",
      "source": [
        "\n",
        "\n",
        "# Sample data\n",
        "num_users = 1000\n",
        "num_items = 2000\n",
        "num_numeric_features = 5\n",
        "max_sequence_length = 10\n",
        "bert_model_name = 'bert-base-uncased'\n",
        "\n",
        "tokenizer = BertTokenizer.from_pretrained(bert_model_name)\n",
        "\n",
        "# Generate random training data\n",
        "num_samples = 1000\n",
        "user_ids = np.random.randint(0, num_users, size=num_samples)\n",
        "item_ids = np.random.randint(0, num_items, size=num_samples)\n",
        "item_tokens = np.random.randint(0, 100, size=(num_samples, max_sequence_length))\n",
        "attention_mask = np.random.randint(0, 2, size=(num_samples, max_sequence_length))\n",
        "numeric_features = np.random.rand(num_samples, num_numeric_features)\n",
        "ratings = np.random.randint(0, 2, size=num_samples)\n",
        "\n",
        "\n",
        "\n",
        "# Sample data\n",
        "num_samples = 1000\n",
        "max_sequence_length = 10\n",
        "\n",
        "# Generate random training data\n",
        "item_tokens = []\n",
        "attention_mask = []\n",
        "for _ in range(num_samples):\n",
        "    item_text = \"This is a sample item description.\"\n",
        "    tokens = tokenizer.encode(item_text, max_length=max_sequence_length, padding='max_length')\n",
        "    item_tokens.append(tokens)\n",
        "    mask = [1] * len(tokens) + [0] * (max_sequence_length - len(tokens))\n",
        "    attention_mask.append(mask)\n",
        "\n",
        "item_tokens = np.array(item_tokens)\n",
        "attention_mask = np.array(attention_mask)\n",
        "\n",
        "\n",
        "# Convert data to TensorFlow tensors with the correct data type\n",
        "user_ids = tf.constant(user_ids, dtype=tf.int32)\n",
        "item_ids = tf.constant(item_ids, dtype=tf.int32)\n",
        "item_tokens = tf.constant(item_tokens, dtype=tf.int32)\n",
        "attention_mask = tf.constant(attention_mask, dtype=tf.int32)\n",
        "numeric_features = tf.constant(numeric_features, dtype=tf.float32)\n",
        "ratings = tf.constant(ratings, dtype=tf.float32)\n",
        "\n",
        "# Convert item_tokens and attention_mask to int64 data type\n",
        "#item_tokens = tf.cast(item_tokens, tf.int64)\n",
        "#attention_mask = tf.cast(attention_mask, tf.int64)\n",
        "\n",
        "# # Convert data to TensorFlow tensors\n",
        "# user_ids = tf.constant(user_ids, dtype=tf.int32)\n",
        "# item_ids = tf.constant(item_ids, dtype=tf.int32)\n",
        "# item_tokens = tf.constant(item_tokens, dtype=tf.int32)\n",
        "# attention_mask = tf.constant(attention_mask, dtype=tf.int32)\n",
        "# numeric_features = tf.constant(numeric_features, dtype=tf.float32)\n",
        "# ratings = tf.constant(ratings, dtype=tf.float32)\n",
        "\n",
        "# Instantiate CFHybridBERT4Rec model\n",
        "hidden_size = 128\n",
        "dropout_prob = 0.2\n",
        "model = CFHybridBERT4Rec(num_users, num_items, num_numeric_features, bert_model_name, hidden_size, dropout_prob)\n"
      ],
      "metadata": {
        "colab": {
          "base_uri": "https://localhost:8080/"
        },
        "id": "g-DOPqA5LnqV",
        "outputId": "76fb4386-d86b-410f-a286-aa7a5b4a8212"
      },
      "execution_count": 181,
      "outputs": [
        {
          "output_type": "stream",
          "name": "stderr",
          "text": [
            "Some weights of the PyTorch model were not used when initializing the TF 2.0 model TFBertModel: ['cls.predictions.transform.dense.weight', 'cls.seq_relationship.weight', 'cls.seq_relationship.bias', 'cls.predictions.transform.LayerNorm.weight', 'cls.predictions.transform.LayerNorm.bias', 'cls.predictions.transform.dense.bias', 'cls.predictions.bias']\n",
            "- This IS expected if you are initializing TFBertModel from a PyTorch model trained on another task or with another architecture (e.g. initializing a TFBertForSequenceClassification model from a BertForPreTraining model).\n",
            "- This IS NOT expected if you are initializing TFBertModel from a PyTorch model that you expect to be exactly identical (e.g. initializing a TFBertForSequenceClassification model from a BertForSequenceClassification model).\n",
            "All the weights of TFBertModel were initialized from the PyTorch model.\n",
            "If your task is similar to the task the model of the checkpoint was trained on, you can already use TFBertModel for predictions without further training.\n"
          ]
        }
      ]
    },
    {
      "cell_type": "code",
      "source": [
        "\n",
        "# Define loss function and optimizer\n",
        "loss_function = tf.keras.losses.BinaryCrossentropy()\n",
        "optimizer = tf.keras.optimizers.Adam(learning_rate=0.001)\n",
        "\n",
        "# Training loop\n",
        "num_epochs = 10\n",
        "batch_size = 32\n",
        "num_steps = num_samples // batch_size\n"
      ],
      "metadata": {
        "id": "oHHs1Xm-LvO_"
      },
      "execution_count": 182,
      "outputs": []
    },
    {
      "cell_type": "code",
      "source": [],
      "metadata": {
        "id": "y75gIey3MmsM"
      },
      "execution_count": 182,
      "outputs": []
    },
    {
      "cell_type": "code",
      "source": [
        "\n",
        "for epoch in range(num_epochs):\n",
        "    for step in range(num_steps):\n",
        "        # Extract mini-batch from the data\n",
        "        batch_start = step * batch_size\n",
        "        batch_end = batch_start + batch_size\n",
        "\n",
        "        batch_user_ids = user_ids[batch_start:batch_end]\n",
        "        batch_item_ids = item_ids[batch_start:batch_end]\n",
        "        batch_item_tokens = item_tokens[batch_start:batch_end]\n",
        "        batch_attention_mask = attention_mask[batch_start:batch_end]\n",
        "        batch_numeric_features = numeric_features[batch_start:batch_end]\n",
        "        batch_ratings = ratings[batch_start:batch_end]\n",
        "\n",
        "        # Forward pass\n",
        "        with tf.GradientTape() as tape:\n",
        "            predictions = model(batch_user_ids, batch_item_ids, batch_item_tokens, batch_attention_mask, batch_numeric_features)\n",
        "            loss = loss_function(batch_ratings, predictions)\n",
        "\n",
        "        # Backward pass\n",
        "        gradients = tape.gradient(loss, model.trainable_variables)\n",
        "        optimizer.apply_gradients(zip(gradients, model.trainable_variables))\n",
        "\n",
        "        # Print training progress\n",
        "        if (step + 1) % 10 == 0:\n",
        "            print(f\"Epoch {epoch+1}/{num_epochs} | Step {step+1}/{num_steps} | Loss: {loss.numpy():.4f}\")\n",
        "\n"
      ],
      "metadata": {
        "colab": {
          "base_uri": "https://localhost:8080/"
        },
        "id": "HBSxqG2xMF13",
        "outputId": "fff2bf39-0cb8-4ecf-d1ea-56ca24bbbbe6"
      },
      "execution_count": 183,
      "outputs": [
        {
          "output_type": "stream",
          "name": "stdout",
          "text": [
            "(32, 10, 128)\n",
            "(32, 1, 128)\n",
            "(32, 128) (32, 1280) (32, 128)\n"
          ]
        },
        {
          "output_type": "stream",
          "name": "stderr",
          "text": [
            "WARNING:tensorflow:Gradients do not exist for variables ['tf_bert_model_32/bert/pooler/dense/kernel:0', 'tf_bert_model_32/bert/pooler/dense/bias:0'] when minimizing the loss. If you're using `model.compile()`, did you forget to provide a `loss` argument?\n",
            "WARNING:tensorflow:Gradients do not exist for variables ['tf_bert_model_32/bert/pooler/dense/kernel:0', 'tf_bert_model_32/bert/pooler/dense/bias:0'] when minimizing the loss. If you're using `model.compile()`, did you forget to provide a `loss` argument?\n"
          ]
        },
        {
          "output_type": "stream",
          "name": "stdout",
          "text": [
            "(32, 10, 128)\n",
            "(32, 1, 128)\n",
            "(32, 128) (32, 1280) (32, 128)\n"
          ]
        },
        {
          "output_type": "stream",
          "name": "stderr",
          "text": [
            "WARNING:tensorflow:Gradients do not exist for variables ['tf_bert_model_32/bert/pooler/dense/kernel:0', 'tf_bert_model_32/bert/pooler/dense/bias:0'] when minimizing the loss. If you're using `model.compile()`, did you forget to provide a `loss` argument?\n",
            "WARNING:tensorflow:Gradients do not exist for variables ['tf_bert_model_32/bert/pooler/dense/kernel:0', 'tf_bert_model_32/bert/pooler/dense/bias:0'] when minimizing the loss. If you're using `model.compile()`, did you forget to provide a `loss` argument?\n"
          ]
        },
        {
          "output_type": "stream",
          "name": "stdout",
          "text": [
            "(32, 10, 128)\n",
            "(32, 1, 128)\n",
            "(32, 128) (32, 1280) (32, 128)\n"
          ]
        },
        {
          "output_type": "stream",
          "name": "stderr",
          "text": [
            "WARNING:tensorflow:Gradients do not exist for variables ['tf_bert_model_32/bert/pooler/dense/kernel:0', 'tf_bert_model_32/bert/pooler/dense/bias:0'] when minimizing the loss. If you're using `model.compile()`, did you forget to provide a `loss` argument?\n",
            "WARNING:tensorflow:Gradients do not exist for variables ['tf_bert_model_32/bert/pooler/dense/kernel:0', 'tf_bert_model_32/bert/pooler/dense/bias:0'] when minimizing the loss. If you're using `model.compile()`, did you forget to provide a `loss` argument?\n"
          ]
        },
        {
          "output_type": "stream",
          "name": "stdout",
          "text": [
            "(32, 10, 128)\n",
            "(32, 1, 128)\n",
            "(32, 128) (32, 1280) (32, 128)\n"
          ]
        },
        {
          "output_type": "stream",
          "name": "stderr",
          "text": [
            "WARNING:tensorflow:Gradients do not exist for variables ['tf_bert_model_32/bert/pooler/dense/kernel:0', 'tf_bert_model_32/bert/pooler/dense/bias:0'] when minimizing the loss. If you're using `model.compile()`, did you forget to provide a `loss` argument?\n",
            "WARNING:tensorflow:Gradients do not exist for variables ['tf_bert_model_32/bert/pooler/dense/kernel:0', 'tf_bert_model_32/bert/pooler/dense/bias:0'] when minimizing the loss. If you're using `model.compile()`, did you forget to provide a `loss` argument?\n"
          ]
        },
        {
          "output_type": "stream",
          "name": "stdout",
          "text": [
            "(32, 10, 128)\n",
            "(32, 1, 128)\n",
            "(32, 128) (32, 1280) (32, 128)\n"
          ]
        },
        {
          "output_type": "stream",
          "name": "stderr",
          "text": [
            "WARNING:tensorflow:Gradients do not exist for variables ['tf_bert_model_32/bert/pooler/dense/kernel:0', 'tf_bert_model_32/bert/pooler/dense/bias:0'] when minimizing the loss. If you're using `model.compile()`, did you forget to provide a `loss` argument?\n",
            "WARNING:tensorflow:Gradients do not exist for variables ['tf_bert_model_32/bert/pooler/dense/kernel:0', 'tf_bert_model_32/bert/pooler/dense/bias:0'] when minimizing the loss. If you're using `model.compile()`, did you forget to provide a `loss` argument?\n"
          ]
        },
        {
          "output_type": "stream",
          "name": "stdout",
          "text": [
            "(32, 10, 128)\n",
            "(32, 1, 128)\n",
            "(32, 128) (32, 1280) (32, 128)\n"
          ]
        },
        {
          "output_type": "stream",
          "name": "stderr",
          "text": [
            "WARNING:tensorflow:Gradients do not exist for variables ['tf_bert_model_32/bert/pooler/dense/kernel:0', 'tf_bert_model_32/bert/pooler/dense/bias:0'] when minimizing the loss. If you're using `model.compile()`, did you forget to provide a `loss` argument?\n",
            "WARNING:tensorflow:Gradients do not exist for variables ['tf_bert_model_32/bert/pooler/dense/kernel:0', 'tf_bert_model_32/bert/pooler/dense/bias:0'] when minimizing the loss. If you're using `model.compile()`, did you forget to provide a `loss` argument?\n"
          ]
        },
        {
          "output_type": "stream",
          "name": "stdout",
          "text": [
            "(32, 10, 128)\n",
            "(32, 1, 128)\n",
            "(32, 128) (32, 1280) (32, 128)\n"
          ]
        },
        {
          "output_type": "stream",
          "name": "stderr",
          "text": [
            "WARNING:tensorflow:Gradients do not exist for variables ['tf_bert_model_32/bert/pooler/dense/kernel:0', 'tf_bert_model_32/bert/pooler/dense/bias:0'] when minimizing the loss. If you're using `model.compile()`, did you forget to provide a `loss` argument?\n",
            "WARNING:tensorflow:Gradients do not exist for variables ['tf_bert_model_32/bert/pooler/dense/kernel:0', 'tf_bert_model_32/bert/pooler/dense/bias:0'] when minimizing the loss. If you're using `model.compile()`, did you forget to provide a `loss` argument?\n"
          ]
        },
        {
          "output_type": "stream",
          "name": "stdout",
          "text": [
            "(32, 10, 128)\n",
            "(32, 1, 128)\n",
            "(32, 128) (32, 1280) (32, 128)\n"
          ]
        },
        {
          "output_type": "stream",
          "name": "stderr",
          "text": [
            "WARNING:tensorflow:Gradients do not exist for variables ['tf_bert_model_32/bert/pooler/dense/kernel:0', 'tf_bert_model_32/bert/pooler/dense/bias:0'] when minimizing the loss. If you're using `model.compile()`, did you forget to provide a `loss` argument?\n",
            "WARNING:tensorflow:Gradients do not exist for variables ['tf_bert_model_32/bert/pooler/dense/kernel:0', 'tf_bert_model_32/bert/pooler/dense/bias:0'] when minimizing the loss. If you're using `model.compile()`, did you forget to provide a `loss` argument?\n"
          ]
        },
        {
          "output_type": "stream",
          "name": "stdout",
          "text": [
            "(32, 10, 128)\n",
            "(32, 1, 128)\n",
            "(32, 128) (32, 1280) (32, 128)\n"
          ]
        },
        {
          "output_type": "stream",
          "name": "stderr",
          "text": [
            "WARNING:tensorflow:Gradients do not exist for variables ['tf_bert_model_32/bert/pooler/dense/kernel:0', 'tf_bert_model_32/bert/pooler/dense/bias:0'] when minimizing the loss. If you're using `model.compile()`, did you forget to provide a `loss` argument?\n",
            "WARNING:tensorflow:Gradients do not exist for variables ['tf_bert_model_32/bert/pooler/dense/kernel:0', 'tf_bert_model_32/bert/pooler/dense/bias:0'] when minimizing the loss. If you're using `model.compile()`, did you forget to provide a `loss` argument?\n"
          ]
        },
        {
          "output_type": "stream",
          "name": "stdout",
          "text": [
            "(32, 10, 128)\n",
            "(32, 1, 128)\n",
            "(32, 128) (32, 1280) (32, 128)\n"
          ]
        },
        {
          "output_type": "stream",
          "name": "stderr",
          "text": [
            "WARNING:tensorflow:Gradients do not exist for variables ['tf_bert_model_32/bert/pooler/dense/kernel:0', 'tf_bert_model_32/bert/pooler/dense/bias:0'] when minimizing the loss. If you're using `model.compile()`, did you forget to provide a `loss` argument?\n",
            "WARNING:tensorflow:Gradients do not exist for variables ['tf_bert_model_32/bert/pooler/dense/kernel:0', 'tf_bert_model_32/bert/pooler/dense/bias:0'] when minimizing the loss. If you're using `model.compile()`, did you forget to provide a `loss` argument?\n"
          ]
        },
        {
          "output_type": "stream",
          "name": "stdout",
          "text": [
            "Epoch 1/10 | Step 10/31 | Loss: 0.7700\n",
            "(32, 10, 128)\n",
            "(32, 1, 128)\n",
            "(32, 128) (32, 1280) (32, 128)\n"
          ]
        },
        {
          "output_type": "stream",
          "name": "stderr",
          "text": [
            "WARNING:tensorflow:Gradients do not exist for variables ['tf_bert_model_32/bert/pooler/dense/kernel:0', 'tf_bert_model_32/bert/pooler/dense/bias:0'] when minimizing the loss. If you're using `model.compile()`, did you forget to provide a `loss` argument?\n",
            "WARNING:tensorflow:Gradients do not exist for variables ['tf_bert_model_32/bert/pooler/dense/kernel:0', 'tf_bert_model_32/bert/pooler/dense/bias:0'] when minimizing the loss. If you're using `model.compile()`, did you forget to provide a `loss` argument?\n"
          ]
        },
        {
          "output_type": "stream",
          "name": "stdout",
          "text": [
            "(32, 10, 128)\n",
            "(32, 1, 128)\n",
            "(32, 128) (32, 1280) (32, 128)\n"
          ]
        },
        {
          "output_type": "stream",
          "name": "stderr",
          "text": [
            "WARNING:tensorflow:Gradients do not exist for variables ['tf_bert_model_32/bert/pooler/dense/kernel:0', 'tf_bert_model_32/bert/pooler/dense/bias:0'] when minimizing the loss. If you're using `model.compile()`, did you forget to provide a `loss` argument?\n",
            "WARNING:tensorflow:Gradients do not exist for variables ['tf_bert_model_32/bert/pooler/dense/kernel:0', 'tf_bert_model_32/bert/pooler/dense/bias:0'] when minimizing the loss. If you're using `model.compile()`, did you forget to provide a `loss` argument?\n"
          ]
        },
        {
          "output_type": "stream",
          "name": "stdout",
          "text": [
            "(32, 10, 128)\n",
            "(32, 1, 128)\n",
            "(32, 128) (32, 1280) (32, 128)\n"
          ]
        },
        {
          "output_type": "stream",
          "name": "stderr",
          "text": [
            "WARNING:tensorflow:Gradients do not exist for variables ['tf_bert_model_32/bert/pooler/dense/kernel:0', 'tf_bert_model_32/bert/pooler/dense/bias:0'] when minimizing the loss. If you're using `model.compile()`, did you forget to provide a `loss` argument?\n",
            "WARNING:tensorflow:Gradients do not exist for variables ['tf_bert_model_32/bert/pooler/dense/kernel:0', 'tf_bert_model_32/bert/pooler/dense/bias:0'] when minimizing the loss. If you're using `model.compile()`, did you forget to provide a `loss` argument?\n"
          ]
        },
        {
          "output_type": "stream",
          "name": "stdout",
          "text": [
            "(32, 10, 128)\n",
            "(32, 1, 128)\n",
            "(32, 128) (32, 1280) (32, 128)\n"
          ]
        },
        {
          "output_type": "stream",
          "name": "stderr",
          "text": [
            "WARNING:tensorflow:Gradients do not exist for variables ['tf_bert_model_32/bert/pooler/dense/kernel:0', 'tf_bert_model_32/bert/pooler/dense/bias:0'] when minimizing the loss. If you're using `model.compile()`, did you forget to provide a `loss` argument?\n",
            "WARNING:tensorflow:Gradients do not exist for variables ['tf_bert_model_32/bert/pooler/dense/kernel:0', 'tf_bert_model_32/bert/pooler/dense/bias:0'] when minimizing the loss. If you're using `model.compile()`, did you forget to provide a `loss` argument?\n"
          ]
        },
        {
          "output_type": "stream",
          "name": "stdout",
          "text": [
            "(32, 10, 128)\n",
            "(32, 1, 128)\n",
            "(32, 128) (32, 1280) (32, 128)\n"
          ]
        },
        {
          "output_type": "stream",
          "name": "stderr",
          "text": [
            "WARNING:tensorflow:Gradients do not exist for variables ['tf_bert_model_32/bert/pooler/dense/kernel:0', 'tf_bert_model_32/bert/pooler/dense/bias:0'] when minimizing the loss. If you're using `model.compile()`, did you forget to provide a `loss` argument?\n",
            "WARNING:tensorflow:Gradients do not exist for variables ['tf_bert_model_32/bert/pooler/dense/kernel:0', 'tf_bert_model_32/bert/pooler/dense/bias:0'] when minimizing the loss. If you're using `model.compile()`, did you forget to provide a `loss` argument?\n"
          ]
        },
        {
          "output_type": "stream",
          "name": "stdout",
          "text": [
            "(32, 10, 128)\n",
            "(32, 1, 128)\n",
            "(32, 128) (32, 1280) (32, 128)\n"
          ]
        },
        {
          "output_type": "stream",
          "name": "stderr",
          "text": [
            "WARNING:tensorflow:Gradients do not exist for variables ['tf_bert_model_32/bert/pooler/dense/kernel:0', 'tf_bert_model_32/bert/pooler/dense/bias:0'] when minimizing the loss. If you're using `model.compile()`, did you forget to provide a `loss` argument?\n",
            "WARNING:tensorflow:Gradients do not exist for variables ['tf_bert_model_32/bert/pooler/dense/kernel:0', 'tf_bert_model_32/bert/pooler/dense/bias:0'] when minimizing the loss. If you're using `model.compile()`, did you forget to provide a `loss` argument?\n"
          ]
        },
        {
          "output_type": "stream",
          "name": "stdout",
          "text": [
            "(32, 10, 128)\n",
            "(32, 1, 128)\n",
            "(32, 128) (32, 1280) (32, 128)\n"
          ]
        },
        {
          "output_type": "stream",
          "name": "stderr",
          "text": [
            "WARNING:tensorflow:Gradients do not exist for variables ['tf_bert_model_32/bert/pooler/dense/kernel:0', 'tf_bert_model_32/bert/pooler/dense/bias:0'] when minimizing the loss. If you're using `model.compile()`, did you forget to provide a `loss` argument?\n",
            "WARNING:tensorflow:Gradients do not exist for variables ['tf_bert_model_32/bert/pooler/dense/kernel:0', 'tf_bert_model_32/bert/pooler/dense/bias:0'] when minimizing the loss. If you're using `model.compile()`, did you forget to provide a `loss` argument?\n"
          ]
        },
        {
          "output_type": "stream",
          "name": "stdout",
          "text": [
            "(32, 10, 128)\n",
            "(32, 1, 128)\n",
            "(32, 128) (32, 1280) (32, 128)\n"
          ]
        },
        {
          "output_type": "stream",
          "name": "stderr",
          "text": [
            "WARNING:tensorflow:Gradients do not exist for variables ['tf_bert_model_32/bert/pooler/dense/kernel:0', 'tf_bert_model_32/bert/pooler/dense/bias:0'] when minimizing the loss. If you're using `model.compile()`, did you forget to provide a `loss` argument?\n",
            "WARNING:tensorflow:Gradients do not exist for variables ['tf_bert_model_32/bert/pooler/dense/kernel:0', 'tf_bert_model_32/bert/pooler/dense/bias:0'] when minimizing the loss. If you're using `model.compile()`, did you forget to provide a `loss` argument?\n"
          ]
        },
        {
          "output_type": "stream",
          "name": "stdout",
          "text": [
            "(32, 10, 128)\n",
            "(32, 1, 128)\n",
            "(32, 128) (32, 1280) (32, 128)\n"
          ]
        },
        {
          "output_type": "stream",
          "name": "stderr",
          "text": [
            "WARNING:tensorflow:Gradients do not exist for variables ['tf_bert_model_32/bert/pooler/dense/kernel:0', 'tf_bert_model_32/bert/pooler/dense/bias:0'] when minimizing the loss. If you're using `model.compile()`, did you forget to provide a `loss` argument?\n",
            "WARNING:tensorflow:Gradients do not exist for variables ['tf_bert_model_32/bert/pooler/dense/kernel:0', 'tf_bert_model_32/bert/pooler/dense/bias:0'] when minimizing the loss. If you're using `model.compile()`, did you forget to provide a `loss` argument?\n"
          ]
        },
        {
          "output_type": "stream",
          "name": "stdout",
          "text": [
            "(32, 10, 128)\n",
            "(32, 1, 128)\n",
            "(32, 128) (32, 1280) (32, 128)\n"
          ]
        },
        {
          "output_type": "stream",
          "name": "stderr",
          "text": [
            "WARNING:tensorflow:Gradients do not exist for variables ['tf_bert_model_32/bert/pooler/dense/kernel:0', 'tf_bert_model_32/bert/pooler/dense/bias:0'] when minimizing the loss. If you're using `model.compile()`, did you forget to provide a `loss` argument?\n",
            "WARNING:tensorflow:Gradients do not exist for variables ['tf_bert_model_32/bert/pooler/dense/kernel:0', 'tf_bert_model_32/bert/pooler/dense/bias:0'] when minimizing the loss. If you're using `model.compile()`, did you forget to provide a `loss` argument?\n"
          ]
        },
        {
          "output_type": "stream",
          "name": "stdout",
          "text": [
            "Epoch 1/10 | Step 20/31 | Loss: 0.7105\n",
            "(32, 10, 128)\n",
            "(32, 1, 128)\n",
            "(32, 128) (32, 1280) (32, 128)\n"
          ]
        },
        {
          "output_type": "stream",
          "name": "stderr",
          "text": [
            "WARNING:tensorflow:Gradients do not exist for variables ['tf_bert_model_32/bert/pooler/dense/kernel:0', 'tf_bert_model_32/bert/pooler/dense/bias:0'] when minimizing the loss. If you're using `model.compile()`, did you forget to provide a `loss` argument?\n",
            "WARNING:tensorflow:Gradients do not exist for variables ['tf_bert_model_32/bert/pooler/dense/kernel:0', 'tf_bert_model_32/bert/pooler/dense/bias:0'] when minimizing the loss. If you're using `model.compile()`, did you forget to provide a `loss` argument?\n"
          ]
        },
        {
          "output_type": "stream",
          "name": "stdout",
          "text": [
            "(32, 10, 128)\n",
            "(32, 1, 128)\n",
            "(32, 128) (32, 1280) (32, 128)\n"
          ]
        },
        {
          "output_type": "stream",
          "name": "stderr",
          "text": [
            "WARNING:tensorflow:Gradients do not exist for variables ['tf_bert_model_32/bert/pooler/dense/kernel:0', 'tf_bert_model_32/bert/pooler/dense/bias:0'] when minimizing the loss. If you're using `model.compile()`, did you forget to provide a `loss` argument?\n",
            "WARNING:tensorflow:Gradients do not exist for variables ['tf_bert_model_32/bert/pooler/dense/kernel:0', 'tf_bert_model_32/bert/pooler/dense/bias:0'] when minimizing the loss. If you're using `model.compile()`, did you forget to provide a `loss` argument?\n"
          ]
        },
        {
          "output_type": "stream",
          "name": "stdout",
          "text": [
            "(32, 10, 128)\n",
            "(32, 1, 128)\n",
            "(32, 128) (32, 1280) (32, 128)\n"
          ]
        },
        {
          "output_type": "stream",
          "name": "stderr",
          "text": [
            "WARNING:tensorflow:Gradients do not exist for variables ['tf_bert_model_32/bert/pooler/dense/kernel:0', 'tf_bert_model_32/bert/pooler/dense/bias:0'] when minimizing the loss. If you're using `model.compile()`, did you forget to provide a `loss` argument?\n",
            "WARNING:tensorflow:Gradients do not exist for variables ['tf_bert_model_32/bert/pooler/dense/kernel:0', 'tf_bert_model_32/bert/pooler/dense/bias:0'] when minimizing the loss. If you're using `model.compile()`, did you forget to provide a `loss` argument?\n"
          ]
        },
        {
          "output_type": "stream",
          "name": "stdout",
          "text": [
            "(32, 10, 128)\n",
            "(32, 1, 128)\n",
            "(32, 128) (32, 1280) (32, 128)\n"
          ]
        },
        {
          "output_type": "stream",
          "name": "stderr",
          "text": [
            "WARNING:tensorflow:Gradients do not exist for variables ['tf_bert_model_32/bert/pooler/dense/kernel:0', 'tf_bert_model_32/bert/pooler/dense/bias:0'] when minimizing the loss. If you're using `model.compile()`, did you forget to provide a `loss` argument?\n",
            "WARNING:tensorflow:Gradients do not exist for variables ['tf_bert_model_32/bert/pooler/dense/kernel:0', 'tf_bert_model_32/bert/pooler/dense/bias:0'] when minimizing the loss. If you're using `model.compile()`, did you forget to provide a `loss` argument?\n"
          ]
        },
        {
          "output_type": "stream",
          "name": "stdout",
          "text": [
            "(32, 10, 128)\n",
            "(32, 1, 128)\n",
            "(32, 128) (32, 1280) (32, 128)\n"
          ]
        },
        {
          "output_type": "stream",
          "name": "stderr",
          "text": [
            "WARNING:tensorflow:Gradients do not exist for variables ['tf_bert_model_32/bert/pooler/dense/kernel:0', 'tf_bert_model_32/bert/pooler/dense/bias:0'] when minimizing the loss. If you're using `model.compile()`, did you forget to provide a `loss` argument?\n",
            "WARNING:tensorflow:Gradients do not exist for variables ['tf_bert_model_32/bert/pooler/dense/kernel:0', 'tf_bert_model_32/bert/pooler/dense/bias:0'] when minimizing the loss. If you're using `model.compile()`, did you forget to provide a `loss` argument?\n"
          ]
        },
        {
          "output_type": "stream",
          "name": "stdout",
          "text": [
            "(32, 10, 128)\n",
            "(32, 1, 128)\n",
            "(32, 128) (32, 1280) (32, 128)\n"
          ]
        },
        {
          "output_type": "stream",
          "name": "stderr",
          "text": [
            "WARNING:tensorflow:Gradients do not exist for variables ['tf_bert_model_32/bert/pooler/dense/kernel:0', 'tf_bert_model_32/bert/pooler/dense/bias:0'] when minimizing the loss. If you're using `model.compile()`, did you forget to provide a `loss` argument?\n",
            "WARNING:tensorflow:Gradients do not exist for variables ['tf_bert_model_32/bert/pooler/dense/kernel:0', 'tf_bert_model_32/bert/pooler/dense/bias:0'] when minimizing the loss. If you're using `model.compile()`, did you forget to provide a `loss` argument?\n"
          ]
        },
        {
          "output_type": "stream",
          "name": "stdout",
          "text": [
            "(32, 10, 128)\n",
            "(32, 1, 128)\n",
            "(32, 128) (32, 1280) (32, 128)\n"
          ]
        },
        {
          "output_type": "stream",
          "name": "stderr",
          "text": [
            "WARNING:tensorflow:Gradients do not exist for variables ['tf_bert_model_32/bert/pooler/dense/kernel:0', 'tf_bert_model_32/bert/pooler/dense/bias:0'] when minimizing the loss. If you're using `model.compile()`, did you forget to provide a `loss` argument?\n",
            "WARNING:tensorflow:Gradients do not exist for variables ['tf_bert_model_32/bert/pooler/dense/kernel:0', 'tf_bert_model_32/bert/pooler/dense/bias:0'] when minimizing the loss. If you're using `model.compile()`, did you forget to provide a `loss` argument?\n"
          ]
        },
        {
          "output_type": "stream",
          "name": "stdout",
          "text": [
            "(32, 10, 128)\n",
            "(32, 1, 128)\n",
            "(32, 128) (32, 1280) (32, 128)\n"
          ]
        },
        {
          "output_type": "stream",
          "name": "stderr",
          "text": [
            "WARNING:tensorflow:Gradients do not exist for variables ['tf_bert_model_32/bert/pooler/dense/kernel:0', 'tf_bert_model_32/bert/pooler/dense/bias:0'] when minimizing the loss. If you're using `model.compile()`, did you forget to provide a `loss` argument?\n",
            "WARNING:tensorflow:Gradients do not exist for variables ['tf_bert_model_32/bert/pooler/dense/kernel:0', 'tf_bert_model_32/bert/pooler/dense/bias:0'] when minimizing the loss. If you're using `model.compile()`, did you forget to provide a `loss` argument?\n"
          ]
        },
        {
          "output_type": "stream",
          "name": "stdout",
          "text": [
            "(32, 10, 128)\n",
            "(32, 1, 128)\n",
            "(32, 128) (32, 1280) (32, 128)\n"
          ]
        },
        {
          "output_type": "stream",
          "name": "stderr",
          "text": [
            "WARNING:tensorflow:Gradients do not exist for variables ['tf_bert_model_32/bert/pooler/dense/kernel:0', 'tf_bert_model_32/bert/pooler/dense/bias:0'] when minimizing the loss. If you're using `model.compile()`, did you forget to provide a `loss` argument?\n",
            "WARNING:tensorflow:Gradients do not exist for variables ['tf_bert_model_32/bert/pooler/dense/kernel:0', 'tf_bert_model_32/bert/pooler/dense/bias:0'] when minimizing the loss. If you're using `model.compile()`, did you forget to provide a `loss` argument?\n"
          ]
        },
        {
          "output_type": "stream",
          "name": "stdout",
          "text": [
            "(32, 10, 128)\n",
            "(32, 1, 128)\n",
            "(32, 128) (32, 1280) (32, 128)\n"
          ]
        },
        {
          "output_type": "stream",
          "name": "stderr",
          "text": [
            "WARNING:tensorflow:Gradients do not exist for variables ['tf_bert_model_32/bert/pooler/dense/kernel:0', 'tf_bert_model_32/bert/pooler/dense/bias:0'] when minimizing the loss. If you're using `model.compile()`, did you forget to provide a `loss` argument?\n",
            "WARNING:tensorflow:Gradients do not exist for variables ['tf_bert_model_32/bert/pooler/dense/kernel:0', 'tf_bert_model_32/bert/pooler/dense/bias:0'] when minimizing the loss. If you're using `model.compile()`, did you forget to provide a `loss` argument?\n"
          ]
        },
        {
          "output_type": "stream",
          "name": "stdout",
          "text": [
            "Epoch 1/10 | Step 30/31 | Loss: 0.7679\n",
            "(32, 10, 128)\n",
            "(32, 1, 128)\n",
            "(32, 128) (32, 1280) (32, 128)\n"
          ]
        },
        {
          "output_type": "stream",
          "name": "stderr",
          "text": [
            "WARNING:tensorflow:Gradients do not exist for variables ['tf_bert_model_32/bert/pooler/dense/kernel:0', 'tf_bert_model_32/bert/pooler/dense/bias:0'] when minimizing the loss. If you're using `model.compile()`, did you forget to provide a `loss` argument?\n",
            "WARNING:tensorflow:Gradients do not exist for variables ['tf_bert_model_32/bert/pooler/dense/kernel:0', 'tf_bert_model_32/bert/pooler/dense/bias:0'] when minimizing the loss. If you're using `model.compile()`, did you forget to provide a `loss` argument?\n"
          ]
        },
        {
          "output_type": "stream",
          "name": "stdout",
          "text": [
            "(32, 10, 128)\n",
            "(32, 1, 128)\n",
            "(32, 128) (32, 1280) (32, 128)\n"
          ]
        },
        {
          "output_type": "stream",
          "name": "stderr",
          "text": [
            "WARNING:tensorflow:Gradients do not exist for variables ['tf_bert_model_32/bert/pooler/dense/kernel:0', 'tf_bert_model_32/bert/pooler/dense/bias:0'] when minimizing the loss. If you're using `model.compile()`, did you forget to provide a `loss` argument?\n",
            "WARNING:tensorflow:Gradients do not exist for variables ['tf_bert_model_32/bert/pooler/dense/kernel:0', 'tf_bert_model_32/bert/pooler/dense/bias:0'] when minimizing the loss. If you're using `model.compile()`, did you forget to provide a `loss` argument?\n"
          ]
        },
        {
          "output_type": "stream",
          "name": "stdout",
          "text": [
            "(32, 10, 128)\n",
            "(32, 1, 128)\n",
            "(32, 128) (32, 1280) (32, 128)\n"
          ]
        },
        {
          "output_type": "stream",
          "name": "stderr",
          "text": [
            "WARNING:tensorflow:Gradients do not exist for variables ['tf_bert_model_32/bert/pooler/dense/kernel:0', 'tf_bert_model_32/bert/pooler/dense/bias:0'] when minimizing the loss. If you're using `model.compile()`, did you forget to provide a `loss` argument?\n",
            "WARNING:tensorflow:Gradients do not exist for variables ['tf_bert_model_32/bert/pooler/dense/kernel:0', 'tf_bert_model_32/bert/pooler/dense/bias:0'] when minimizing the loss. If you're using `model.compile()`, did you forget to provide a `loss` argument?\n"
          ]
        },
        {
          "output_type": "stream",
          "name": "stdout",
          "text": [
            "(32, 10, 128)\n",
            "(32, 1, 128)\n",
            "(32, 128) (32, 1280) (32, 128)\n"
          ]
        },
        {
          "output_type": "stream",
          "name": "stderr",
          "text": [
            "WARNING:tensorflow:Gradients do not exist for variables ['tf_bert_model_32/bert/pooler/dense/kernel:0', 'tf_bert_model_32/bert/pooler/dense/bias:0'] when minimizing the loss. If you're using `model.compile()`, did you forget to provide a `loss` argument?\n",
            "WARNING:tensorflow:Gradients do not exist for variables ['tf_bert_model_32/bert/pooler/dense/kernel:0', 'tf_bert_model_32/bert/pooler/dense/bias:0'] when minimizing the loss. If you're using `model.compile()`, did you forget to provide a `loss` argument?\n"
          ]
        },
        {
          "output_type": "stream",
          "name": "stdout",
          "text": [
            "(32, 10, 128)\n",
            "(32, 1, 128)\n",
            "(32, 128) (32, 1280) (32, 128)\n"
          ]
        },
        {
          "output_type": "stream",
          "name": "stderr",
          "text": [
            "WARNING:tensorflow:Gradients do not exist for variables ['tf_bert_model_32/bert/pooler/dense/kernel:0', 'tf_bert_model_32/bert/pooler/dense/bias:0'] when minimizing the loss. If you're using `model.compile()`, did you forget to provide a `loss` argument?\n",
            "WARNING:tensorflow:Gradients do not exist for variables ['tf_bert_model_32/bert/pooler/dense/kernel:0', 'tf_bert_model_32/bert/pooler/dense/bias:0'] when minimizing the loss. If you're using `model.compile()`, did you forget to provide a `loss` argument?\n"
          ]
        },
        {
          "output_type": "stream",
          "name": "stdout",
          "text": [
            "(32, 10, 128)\n",
            "(32, 1, 128)\n",
            "(32, 128) (32, 1280) (32, 128)\n"
          ]
        },
        {
          "output_type": "stream",
          "name": "stderr",
          "text": [
            "WARNING:tensorflow:Gradients do not exist for variables ['tf_bert_model_32/bert/pooler/dense/kernel:0', 'tf_bert_model_32/bert/pooler/dense/bias:0'] when minimizing the loss. If you're using `model.compile()`, did you forget to provide a `loss` argument?\n",
            "WARNING:tensorflow:Gradients do not exist for variables ['tf_bert_model_32/bert/pooler/dense/kernel:0', 'tf_bert_model_32/bert/pooler/dense/bias:0'] when minimizing the loss. If you're using `model.compile()`, did you forget to provide a `loss` argument?\n"
          ]
        },
        {
          "output_type": "stream",
          "name": "stdout",
          "text": [
            "(32, 10, 128)\n",
            "(32, 1, 128)\n",
            "(32, 128) (32, 1280) (32, 128)\n"
          ]
        },
        {
          "output_type": "stream",
          "name": "stderr",
          "text": [
            "WARNING:tensorflow:Gradients do not exist for variables ['tf_bert_model_32/bert/pooler/dense/kernel:0', 'tf_bert_model_32/bert/pooler/dense/bias:0'] when minimizing the loss. If you're using `model.compile()`, did you forget to provide a `loss` argument?\n",
            "WARNING:tensorflow:Gradients do not exist for variables ['tf_bert_model_32/bert/pooler/dense/kernel:0', 'tf_bert_model_32/bert/pooler/dense/bias:0'] when minimizing the loss. If you're using `model.compile()`, did you forget to provide a `loss` argument?\n"
          ]
        },
        {
          "output_type": "stream",
          "name": "stdout",
          "text": [
            "(32, 10, 128)\n",
            "(32, 1, 128)\n",
            "(32, 128) (32, 1280) (32, 128)\n"
          ]
        },
        {
          "output_type": "stream",
          "name": "stderr",
          "text": [
            "WARNING:tensorflow:Gradients do not exist for variables ['tf_bert_model_32/bert/pooler/dense/kernel:0', 'tf_bert_model_32/bert/pooler/dense/bias:0'] when minimizing the loss. If you're using `model.compile()`, did you forget to provide a `loss` argument?\n",
            "WARNING:tensorflow:Gradients do not exist for variables ['tf_bert_model_32/bert/pooler/dense/kernel:0', 'tf_bert_model_32/bert/pooler/dense/bias:0'] when minimizing the loss. If you're using `model.compile()`, did you forget to provide a `loss` argument?\n"
          ]
        },
        {
          "output_type": "stream",
          "name": "stdout",
          "text": [
            "(32, 10, 128)\n",
            "(32, 1, 128)\n",
            "(32, 128) (32, 1280) (32, 128)\n"
          ]
        },
        {
          "output_type": "stream",
          "name": "stderr",
          "text": [
            "WARNING:tensorflow:Gradients do not exist for variables ['tf_bert_model_32/bert/pooler/dense/kernel:0', 'tf_bert_model_32/bert/pooler/dense/bias:0'] when minimizing the loss. If you're using `model.compile()`, did you forget to provide a `loss` argument?\n",
            "WARNING:tensorflow:Gradients do not exist for variables ['tf_bert_model_32/bert/pooler/dense/kernel:0', 'tf_bert_model_32/bert/pooler/dense/bias:0'] when minimizing the loss. If you're using `model.compile()`, did you forget to provide a `loss` argument?\n"
          ]
        },
        {
          "output_type": "stream",
          "name": "stdout",
          "text": [
            "(32, 10, 128)\n",
            "(32, 1, 128)\n",
            "(32, 128) (32, 1280) (32, 128)\n"
          ]
        },
        {
          "output_type": "stream",
          "name": "stderr",
          "text": [
            "WARNING:tensorflow:Gradients do not exist for variables ['tf_bert_model_32/bert/pooler/dense/kernel:0', 'tf_bert_model_32/bert/pooler/dense/bias:0'] when minimizing the loss. If you're using `model.compile()`, did you forget to provide a `loss` argument?\n",
            "WARNING:tensorflow:Gradients do not exist for variables ['tf_bert_model_32/bert/pooler/dense/kernel:0', 'tf_bert_model_32/bert/pooler/dense/bias:0'] when minimizing the loss. If you're using `model.compile()`, did you forget to provide a `loss` argument?\n"
          ]
        },
        {
          "output_type": "stream",
          "name": "stdout",
          "text": [
            "(32, 10, 128)\n",
            "(32, 1, 128)\n",
            "(32, 128) (32, 1280) (32, 128)\n"
          ]
        },
        {
          "output_type": "stream",
          "name": "stderr",
          "text": [
            "WARNING:tensorflow:Gradients do not exist for variables ['tf_bert_model_32/bert/pooler/dense/kernel:0', 'tf_bert_model_32/bert/pooler/dense/bias:0'] when minimizing the loss. If you're using `model.compile()`, did you forget to provide a `loss` argument?\n",
            "WARNING:tensorflow:Gradients do not exist for variables ['tf_bert_model_32/bert/pooler/dense/kernel:0', 'tf_bert_model_32/bert/pooler/dense/bias:0'] when minimizing the loss. If you're using `model.compile()`, did you forget to provide a `loss` argument?\n"
          ]
        },
        {
          "output_type": "stream",
          "name": "stdout",
          "text": [
            "Epoch 2/10 | Step 10/31 | Loss: 0.6757\n",
            "(32, 10, 128)\n",
            "(32, 1, 128)\n",
            "(32, 128) (32, 1280) (32, 128)\n"
          ]
        },
        {
          "output_type": "stream",
          "name": "stderr",
          "text": [
            "WARNING:tensorflow:Gradients do not exist for variables ['tf_bert_model_32/bert/pooler/dense/kernel:0', 'tf_bert_model_32/bert/pooler/dense/bias:0'] when minimizing the loss. If you're using `model.compile()`, did you forget to provide a `loss` argument?\n",
            "WARNING:tensorflow:Gradients do not exist for variables ['tf_bert_model_32/bert/pooler/dense/kernel:0', 'tf_bert_model_32/bert/pooler/dense/bias:0'] when minimizing the loss. If you're using `model.compile()`, did you forget to provide a `loss` argument?\n"
          ]
        },
        {
          "output_type": "stream",
          "name": "stdout",
          "text": [
            "(32, 10, 128)\n",
            "(32, 1, 128)\n",
            "(32, 128) (32, 1280) (32, 128)\n"
          ]
        },
        {
          "output_type": "stream",
          "name": "stderr",
          "text": [
            "WARNING:tensorflow:Gradients do not exist for variables ['tf_bert_model_32/bert/pooler/dense/kernel:0', 'tf_bert_model_32/bert/pooler/dense/bias:0'] when minimizing the loss. If you're using `model.compile()`, did you forget to provide a `loss` argument?\n",
            "WARNING:tensorflow:Gradients do not exist for variables ['tf_bert_model_32/bert/pooler/dense/kernel:0', 'tf_bert_model_32/bert/pooler/dense/bias:0'] when minimizing the loss. If you're using `model.compile()`, did you forget to provide a `loss` argument?\n"
          ]
        },
        {
          "output_type": "stream",
          "name": "stdout",
          "text": [
            "(32, 10, 128)\n",
            "(32, 1, 128)\n",
            "(32, 128) (32, 1280) (32, 128)\n"
          ]
        },
        {
          "output_type": "stream",
          "name": "stderr",
          "text": [
            "WARNING:tensorflow:Gradients do not exist for variables ['tf_bert_model_32/bert/pooler/dense/kernel:0', 'tf_bert_model_32/bert/pooler/dense/bias:0'] when minimizing the loss. If you're using `model.compile()`, did you forget to provide a `loss` argument?\n",
            "WARNING:tensorflow:Gradients do not exist for variables ['tf_bert_model_32/bert/pooler/dense/kernel:0', 'tf_bert_model_32/bert/pooler/dense/bias:0'] when minimizing the loss. If you're using `model.compile()`, did you forget to provide a `loss` argument?\n"
          ]
        },
        {
          "output_type": "stream",
          "name": "stdout",
          "text": [
            "(32, 10, 128)\n",
            "(32, 1, 128)\n",
            "(32, 128) (32, 1280) (32, 128)\n"
          ]
        },
        {
          "output_type": "stream",
          "name": "stderr",
          "text": [
            "WARNING:tensorflow:Gradients do not exist for variables ['tf_bert_model_32/bert/pooler/dense/kernel:0', 'tf_bert_model_32/bert/pooler/dense/bias:0'] when minimizing the loss. If you're using `model.compile()`, did you forget to provide a `loss` argument?\n",
            "WARNING:tensorflow:Gradients do not exist for variables ['tf_bert_model_32/bert/pooler/dense/kernel:0', 'tf_bert_model_32/bert/pooler/dense/bias:0'] when minimizing the loss. If you're using `model.compile()`, did you forget to provide a `loss` argument?\n"
          ]
        },
        {
          "output_type": "stream",
          "name": "stdout",
          "text": [
            "(32, 10, 128)\n",
            "(32, 1, 128)\n",
            "(32, 128) (32, 1280) (32, 128)\n"
          ]
        },
        {
          "output_type": "stream",
          "name": "stderr",
          "text": [
            "WARNING:tensorflow:Gradients do not exist for variables ['tf_bert_model_32/bert/pooler/dense/kernel:0', 'tf_bert_model_32/bert/pooler/dense/bias:0'] when minimizing the loss. If you're using `model.compile()`, did you forget to provide a `loss` argument?\n",
            "WARNING:tensorflow:Gradients do not exist for variables ['tf_bert_model_32/bert/pooler/dense/kernel:0', 'tf_bert_model_32/bert/pooler/dense/bias:0'] when minimizing the loss. If you're using `model.compile()`, did you forget to provide a `loss` argument?\n"
          ]
        },
        {
          "output_type": "stream",
          "name": "stdout",
          "text": [
            "(32, 10, 128)\n",
            "(32, 1, 128)\n",
            "(32, 128) (32, 1280) (32, 128)\n"
          ]
        },
        {
          "output_type": "stream",
          "name": "stderr",
          "text": [
            "WARNING:tensorflow:Gradients do not exist for variables ['tf_bert_model_32/bert/pooler/dense/kernel:0', 'tf_bert_model_32/bert/pooler/dense/bias:0'] when minimizing the loss. If you're using `model.compile()`, did you forget to provide a `loss` argument?\n",
            "WARNING:tensorflow:Gradients do not exist for variables ['tf_bert_model_32/bert/pooler/dense/kernel:0', 'tf_bert_model_32/bert/pooler/dense/bias:0'] when minimizing the loss. If you're using `model.compile()`, did you forget to provide a `loss` argument?\n"
          ]
        },
        {
          "output_type": "stream",
          "name": "stdout",
          "text": [
            "(32, 10, 128)\n",
            "(32, 1, 128)\n",
            "(32, 128) (32, 1280) (32, 128)\n"
          ]
        },
        {
          "output_type": "stream",
          "name": "stderr",
          "text": [
            "WARNING:tensorflow:Gradients do not exist for variables ['tf_bert_model_32/bert/pooler/dense/kernel:0', 'tf_bert_model_32/bert/pooler/dense/bias:0'] when minimizing the loss. If you're using `model.compile()`, did you forget to provide a `loss` argument?\n",
            "WARNING:tensorflow:Gradients do not exist for variables ['tf_bert_model_32/bert/pooler/dense/kernel:0', 'tf_bert_model_32/bert/pooler/dense/bias:0'] when minimizing the loss. If you're using `model.compile()`, did you forget to provide a `loss` argument?\n"
          ]
        },
        {
          "output_type": "stream",
          "name": "stdout",
          "text": [
            "(32, 10, 128)\n",
            "(32, 1, 128)\n",
            "(32, 128) (32, 1280) (32, 128)\n"
          ]
        },
        {
          "output_type": "stream",
          "name": "stderr",
          "text": [
            "WARNING:tensorflow:Gradients do not exist for variables ['tf_bert_model_32/bert/pooler/dense/kernel:0', 'tf_bert_model_32/bert/pooler/dense/bias:0'] when minimizing the loss. If you're using `model.compile()`, did you forget to provide a `loss` argument?\n",
            "WARNING:tensorflow:Gradients do not exist for variables ['tf_bert_model_32/bert/pooler/dense/kernel:0', 'tf_bert_model_32/bert/pooler/dense/bias:0'] when minimizing the loss. If you're using `model.compile()`, did you forget to provide a `loss` argument?\n"
          ]
        },
        {
          "output_type": "stream",
          "name": "stdout",
          "text": [
            "(32, 10, 128)\n",
            "(32, 1, 128)\n",
            "(32, 128) (32, 1280) (32, 128)\n"
          ]
        },
        {
          "output_type": "stream",
          "name": "stderr",
          "text": [
            "WARNING:tensorflow:Gradients do not exist for variables ['tf_bert_model_32/bert/pooler/dense/kernel:0', 'tf_bert_model_32/bert/pooler/dense/bias:0'] when minimizing the loss. If you're using `model.compile()`, did you forget to provide a `loss` argument?\n",
            "WARNING:tensorflow:Gradients do not exist for variables ['tf_bert_model_32/bert/pooler/dense/kernel:0', 'tf_bert_model_32/bert/pooler/dense/bias:0'] when minimizing the loss. If you're using `model.compile()`, did you forget to provide a `loss` argument?\n"
          ]
        },
        {
          "output_type": "stream",
          "name": "stdout",
          "text": [
            "(32, 10, 128)\n",
            "(32, 1, 128)\n",
            "(32, 128) (32, 1280) (32, 128)\n"
          ]
        },
        {
          "output_type": "stream",
          "name": "stderr",
          "text": [
            "WARNING:tensorflow:Gradients do not exist for variables ['tf_bert_model_32/bert/pooler/dense/kernel:0', 'tf_bert_model_32/bert/pooler/dense/bias:0'] when minimizing the loss. If you're using `model.compile()`, did you forget to provide a `loss` argument?\n",
            "WARNING:tensorflow:Gradients do not exist for variables ['tf_bert_model_32/bert/pooler/dense/kernel:0', 'tf_bert_model_32/bert/pooler/dense/bias:0'] when minimizing the loss. If you're using `model.compile()`, did you forget to provide a `loss` argument?\n"
          ]
        },
        {
          "output_type": "stream",
          "name": "stdout",
          "text": [
            "Epoch 2/10 | Step 20/31 | Loss: 0.6745\n",
            "(32, 10, 128)\n",
            "(32, 1, 128)\n",
            "(32, 128) (32, 1280) (32, 128)\n"
          ]
        },
        {
          "output_type": "stream",
          "name": "stderr",
          "text": [
            "WARNING:tensorflow:Gradients do not exist for variables ['tf_bert_model_32/bert/pooler/dense/kernel:0', 'tf_bert_model_32/bert/pooler/dense/bias:0'] when minimizing the loss. If you're using `model.compile()`, did you forget to provide a `loss` argument?\n",
            "WARNING:tensorflow:Gradients do not exist for variables ['tf_bert_model_32/bert/pooler/dense/kernel:0', 'tf_bert_model_32/bert/pooler/dense/bias:0'] when minimizing the loss. If you're using `model.compile()`, did you forget to provide a `loss` argument?\n"
          ]
        },
        {
          "output_type": "stream",
          "name": "stdout",
          "text": [
            "(32, 10, 128)\n",
            "(32, 1, 128)\n",
            "(32, 128) (32, 1280) (32, 128)\n"
          ]
        },
        {
          "output_type": "stream",
          "name": "stderr",
          "text": [
            "WARNING:tensorflow:Gradients do not exist for variables ['tf_bert_model_32/bert/pooler/dense/kernel:0', 'tf_bert_model_32/bert/pooler/dense/bias:0'] when minimizing the loss. If you're using `model.compile()`, did you forget to provide a `loss` argument?\n",
            "WARNING:tensorflow:Gradients do not exist for variables ['tf_bert_model_32/bert/pooler/dense/kernel:0', 'tf_bert_model_32/bert/pooler/dense/bias:0'] when minimizing the loss. If you're using `model.compile()`, did you forget to provide a `loss` argument?\n"
          ]
        },
        {
          "output_type": "stream",
          "name": "stdout",
          "text": [
            "(32, 10, 128)\n",
            "(32, 1, 128)\n",
            "(32, 128) (32, 1280) (32, 128)\n"
          ]
        },
        {
          "output_type": "stream",
          "name": "stderr",
          "text": [
            "WARNING:tensorflow:Gradients do not exist for variables ['tf_bert_model_32/bert/pooler/dense/kernel:0', 'tf_bert_model_32/bert/pooler/dense/bias:0'] when minimizing the loss. If you're using `model.compile()`, did you forget to provide a `loss` argument?\n",
            "WARNING:tensorflow:Gradients do not exist for variables ['tf_bert_model_32/bert/pooler/dense/kernel:0', 'tf_bert_model_32/bert/pooler/dense/bias:0'] when minimizing the loss. If you're using `model.compile()`, did you forget to provide a `loss` argument?\n"
          ]
        },
        {
          "output_type": "stream",
          "name": "stdout",
          "text": [
            "(32, 10, 128)\n",
            "(32, 1, 128)\n",
            "(32, 128) (32, 1280) (32, 128)\n"
          ]
        },
        {
          "output_type": "stream",
          "name": "stderr",
          "text": [
            "WARNING:tensorflow:Gradients do not exist for variables ['tf_bert_model_32/bert/pooler/dense/kernel:0', 'tf_bert_model_32/bert/pooler/dense/bias:0'] when minimizing the loss. If you're using `model.compile()`, did you forget to provide a `loss` argument?\n",
            "WARNING:tensorflow:Gradients do not exist for variables ['tf_bert_model_32/bert/pooler/dense/kernel:0', 'tf_bert_model_32/bert/pooler/dense/bias:0'] when minimizing the loss. If you're using `model.compile()`, did you forget to provide a `loss` argument?\n"
          ]
        },
        {
          "output_type": "stream",
          "name": "stdout",
          "text": [
            "(32, 10, 128)\n",
            "(32, 1, 128)\n",
            "(32, 128) (32, 1280) (32, 128)\n"
          ]
        },
        {
          "output_type": "stream",
          "name": "stderr",
          "text": [
            "WARNING:tensorflow:Gradients do not exist for variables ['tf_bert_model_32/bert/pooler/dense/kernel:0', 'tf_bert_model_32/bert/pooler/dense/bias:0'] when minimizing the loss. If you're using `model.compile()`, did you forget to provide a `loss` argument?\n",
            "WARNING:tensorflow:Gradients do not exist for variables ['tf_bert_model_32/bert/pooler/dense/kernel:0', 'tf_bert_model_32/bert/pooler/dense/bias:0'] when minimizing the loss. If you're using `model.compile()`, did you forget to provide a `loss` argument?\n"
          ]
        },
        {
          "output_type": "stream",
          "name": "stdout",
          "text": [
            "(32, 10, 128)\n",
            "(32, 1, 128)\n",
            "(32, 128) (32, 1280) (32, 128)\n"
          ]
        },
        {
          "output_type": "stream",
          "name": "stderr",
          "text": [
            "WARNING:tensorflow:Gradients do not exist for variables ['tf_bert_model_32/bert/pooler/dense/kernel:0', 'tf_bert_model_32/bert/pooler/dense/bias:0'] when minimizing the loss. If you're using `model.compile()`, did you forget to provide a `loss` argument?\n",
            "WARNING:tensorflow:Gradients do not exist for variables ['tf_bert_model_32/bert/pooler/dense/kernel:0', 'tf_bert_model_32/bert/pooler/dense/bias:0'] when minimizing the loss. If you're using `model.compile()`, did you forget to provide a `loss` argument?\n"
          ]
        },
        {
          "output_type": "stream",
          "name": "stdout",
          "text": [
            "(32, 10, 128)\n",
            "(32, 1, 128)\n",
            "(32, 128) (32, 1280) (32, 128)\n"
          ]
        },
        {
          "output_type": "stream",
          "name": "stderr",
          "text": [
            "WARNING:tensorflow:Gradients do not exist for variables ['tf_bert_model_32/bert/pooler/dense/kernel:0', 'tf_bert_model_32/bert/pooler/dense/bias:0'] when minimizing the loss. If you're using `model.compile()`, did you forget to provide a `loss` argument?\n",
            "WARNING:tensorflow:Gradients do not exist for variables ['tf_bert_model_32/bert/pooler/dense/kernel:0', 'tf_bert_model_32/bert/pooler/dense/bias:0'] when minimizing the loss. If you're using `model.compile()`, did you forget to provide a `loss` argument?\n"
          ]
        },
        {
          "output_type": "stream",
          "name": "stdout",
          "text": [
            "(32, 10, 128)\n",
            "(32, 1, 128)\n",
            "(32, 128) (32, 1280) (32, 128)\n"
          ]
        },
        {
          "output_type": "stream",
          "name": "stderr",
          "text": [
            "WARNING:tensorflow:Gradients do not exist for variables ['tf_bert_model_32/bert/pooler/dense/kernel:0', 'tf_bert_model_32/bert/pooler/dense/bias:0'] when minimizing the loss. If you're using `model.compile()`, did you forget to provide a `loss` argument?\n",
            "WARNING:tensorflow:Gradients do not exist for variables ['tf_bert_model_32/bert/pooler/dense/kernel:0', 'tf_bert_model_32/bert/pooler/dense/bias:0'] when minimizing the loss. If you're using `model.compile()`, did you forget to provide a `loss` argument?\n"
          ]
        },
        {
          "output_type": "stream",
          "name": "stdout",
          "text": [
            "(32, 10, 128)\n",
            "(32, 1, 128)\n",
            "(32, 128) (32, 1280) (32, 128)\n"
          ]
        },
        {
          "output_type": "stream",
          "name": "stderr",
          "text": [
            "WARNING:tensorflow:Gradients do not exist for variables ['tf_bert_model_32/bert/pooler/dense/kernel:0', 'tf_bert_model_32/bert/pooler/dense/bias:0'] when minimizing the loss. If you're using `model.compile()`, did you forget to provide a `loss` argument?\n",
            "WARNING:tensorflow:Gradients do not exist for variables ['tf_bert_model_32/bert/pooler/dense/kernel:0', 'tf_bert_model_32/bert/pooler/dense/bias:0'] when minimizing the loss. If you're using `model.compile()`, did you forget to provide a `loss` argument?\n"
          ]
        },
        {
          "output_type": "stream",
          "name": "stdout",
          "text": [
            "(32, 10, 128)\n",
            "(32, 1, 128)\n",
            "(32, 128) (32, 1280) (32, 128)\n"
          ]
        },
        {
          "output_type": "stream",
          "name": "stderr",
          "text": [
            "WARNING:tensorflow:Gradients do not exist for variables ['tf_bert_model_32/bert/pooler/dense/kernel:0', 'tf_bert_model_32/bert/pooler/dense/bias:0'] when minimizing the loss. If you're using `model.compile()`, did you forget to provide a `loss` argument?\n",
            "WARNING:tensorflow:Gradients do not exist for variables ['tf_bert_model_32/bert/pooler/dense/kernel:0', 'tf_bert_model_32/bert/pooler/dense/bias:0'] when minimizing the loss. If you're using `model.compile()`, did you forget to provide a `loss` argument?\n"
          ]
        },
        {
          "output_type": "stream",
          "name": "stdout",
          "text": [
            "Epoch 2/10 | Step 30/31 | Loss: 0.7692\n",
            "(32, 10, 128)\n",
            "(32, 1, 128)\n",
            "(32, 128) (32, 1280) (32, 128)\n"
          ]
        },
        {
          "output_type": "stream",
          "name": "stderr",
          "text": [
            "WARNING:tensorflow:Gradients do not exist for variables ['tf_bert_model_32/bert/pooler/dense/kernel:0', 'tf_bert_model_32/bert/pooler/dense/bias:0'] when minimizing the loss. If you're using `model.compile()`, did you forget to provide a `loss` argument?\n",
            "WARNING:tensorflow:Gradients do not exist for variables ['tf_bert_model_32/bert/pooler/dense/kernel:0', 'tf_bert_model_32/bert/pooler/dense/bias:0'] when minimizing the loss. If you're using `model.compile()`, did you forget to provide a `loss` argument?\n"
          ]
        },
        {
          "output_type": "stream",
          "name": "stdout",
          "text": [
            "(32, 10, 128)\n",
            "(32, 1, 128)\n",
            "(32, 128) (32, 1280) (32, 128)\n"
          ]
        },
        {
          "output_type": "stream",
          "name": "stderr",
          "text": [
            "WARNING:tensorflow:Gradients do not exist for variables ['tf_bert_model_32/bert/pooler/dense/kernel:0', 'tf_bert_model_32/bert/pooler/dense/bias:0'] when minimizing the loss. If you're using `model.compile()`, did you forget to provide a `loss` argument?\n",
            "WARNING:tensorflow:Gradients do not exist for variables ['tf_bert_model_32/bert/pooler/dense/kernel:0', 'tf_bert_model_32/bert/pooler/dense/bias:0'] when minimizing the loss. If you're using `model.compile()`, did you forget to provide a `loss` argument?\n"
          ]
        },
        {
          "output_type": "stream",
          "name": "stdout",
          "text": [
            "(32, 10, 128)\n",
            "(32, 1, 128)\n",
            "(32, 128) (32, 1280) (32, 128)\n"
          ]
        },
        {
          "output_type": "stream",
          "name": "stderr",
          "text": [
            "WARNING:tensorflow:Gradients do not exist for variables ['tf_bert_model_32/bert/pooler/dense/kernel:0', 'tf_bert_model_32/bert/pooler/dense/bias:0'] when minimizing the loss. If you're using `model.compile()`, did you forget to provide a `loss` argument?\n",
            "WARNING:tensorflow:Gradients do not exist for variables ['tf_bert_model_32/bert/pooler/dense/kernel:0', 'tf_bert_model_32/bert/pooler/dense/bias:0'] when minimizing the loss. If you're using `model.compile()`, did you forget to provide a `loss` argument?\n"
          ]
        },
        {
          "output_type": "stream",
          "name": "stdout",
          "text": [
            "(32, 10, 128)\n",
            "(32, 1, 128)\n",
            "(32, 128) (32, 1280) (32, 128)\n"
          ]
        },
        {
          "output_type": "stream",
          "name": "stderr",
          "text": [
            "WARNING:tensorflow:Gradients do not exist for variables ['tf_bert_model_32/bert/pooler/dense/kernel:0', 'tf_bert_model_32/bert/pooler/dense/bias:0'] when minimizing the loss. If you're using `model.compile()`, did you forget to provide a `loss` argument?\n",
            "WARNING:tensorflow:Gradients do not exist for variables ['tf_bert_model_32/bert/pooler/dense/kernel:0', 'tf_bert_model_32/bert/pooler/dense/bias:0'] when minimizing the loss. If you're using `model.compile()`, did you forget to provide a `loss` argument?\n"
          ]
        },
        {
          "output_type": "stream",
          "name": "stdout",
          "text": [
            "(32, 10, 128)\n",
            "(32, 1, 128)\n",
            "(32, 128) (32, 1280) (32, 128)\n"
          ]
        },
        {
          "output_type": "stream",
          "name": "stderr",
          "text": [
            "WARNING:tensorflow:Gradients do not exist for variables ['tf_bert_model_32/bert/pooler/dense/kernel:0', 'tf_bert_model_32/bert/pooler/dense/bias:0'] when minimizing the loss. If you're using `model.compile()`, did you forget to provide a `loss` argument?\n",
            "WARNING:tensorflow:Gradients do not exist for variables ['tf_bert_model_32/bert/pooler/dense/kernel:0', 'tf_bert_model_32/bert/pooler/dense/bias:0'] when minimizing the loss. If you're using `model.compile()`, did you forget to provide a `loss` argument?\n"
          ]
        },
        {
          "output_type": "stream",
          "name": "stdout",
          "text": [
            "(32, 10, 128)\n",
            "(32, 1, 128)\n",
            "(32, 128) (32, 1280) (32, 128)\n"
          ]
        },
        {
          "output_type": "stream",
          "name": "stderr",
          "text": [
            "WARNING:tensorflow:Gradients do not exist for variables ['tf_bert_model_32/bert/pooler/dense/kernel:0', 'tf_bert_model_32/bert/pooler/dense/bias:0'] when minimizing the loss. If you're using `model.compile()`, did you forget to provide a `loss` argument?\n",
            "WARNING:tensorflow:Gradients do not exist for variables ['tf_bert_model_32/bert/pooler/dense/kernel:0', 'tf_bert_model_32/bert/pooler/dense/bias:0'] when minimizing the loss. If you're using `model.compile()`, did you forget to provide a `loss` argument?\n"
          ]
        },
        {
          "output_type": "stream",
          "name": "stdout",
          "text": [
            "(32, 10, 128)\n",
            "(32, 1, 128)\n",
            "(32, 128) (32, 1280) (32, 128)\n"
          ]
        },
        {
          "output_type": "stream",
          "name": "stderr",
          "text": [
            "WARNING:tensorflow:Gradients do not exist for variables ['tf_bert_model_32/bert/pooler/dense/kernel:0', 'tf_bert_model_32/bert/pooler/dense/bias:0'] when minimizing the loss. If you're using `model.compile()`, did you forget to provide a `loss` argument?\n",
            "WARNING:tensorflow:Gradients do not exist for variables ['tf_bert_model_32/bert/pooler/dense/kernel:0', 'tf_bert_model_32/bert/pooler/dense/bias:0'] when minimizing the loss. If you're using `model.compile()`, did you forget to provide a `loss` argument?\n"
          ]
        },
        {
          "output_type": "stream",
          "name": "stdout",
          "text": [
            "(32, 10, 128)\n",
            "(32, 1, 128)\n",
            "(32, 128) (32, 1280) (32, 128)\n"
          ]
        },
        {
          "output_type": "stream",
          "name": "stderr",
          "text": [
            "WARNING:tensorflow:Gradients do not exist for variables ['tf_bert_model_32/bert/pooler/dense/kernel:0', 'tf_bert_model_32/bert/pooler/dense/bias:0'] when minimizing the loss. If you're using `model.compile()`, did you forget to provide a `loss` argument?\n",
            "WARNING:tensorflow:Gradients do not exist for variables ['tf_bert_model_32/bert/pooler/dense/kernel:0', 'tf_bert_model_32/bert/pooler/dense/bias:0'] when minimizing the loss. If you're using `model.compile()`, did you forget to provide a `loss` argument?\n"
          ]
        },
        {
          "output_type": "stream",
          "name": "stdout",
          "text": [
            "(32, 10, 128)\n",
            "(32, 1, 128)\n",
            "(32, 128) (32, 1280) (32, 128)\n"
          ]
        },
        {
          "output_type": "stream",
          "name": "stderr",
          "text": [
            "WARNING:tensorflow:Gradients do not exist for variables ['tf_bert_model_32/bert/pooler/dense/kernel:0', 'tf_bert_model_32/bert/pooler/dense/bias:0'] when minimizing the loss. If you're using `model.compile()`, did you forget to provide a `loss` argument?\n",
            "WARNING:tensorflow:Gradients do not exist for variables ['tf_bert_model_32/bert/pooler/dense/kernel:0', 'tf_bert_model_32/bert/pooler/dense/bias:0'] when minimizing the loss. If you're using `model.compile()`, did you forget to provide a `loss` argument?\n"
          ]
        },
        {
          "output_type": "stream",
          "name": "stdout",
          "text": [
            "(32, 10, 128)\n",
            "(32, 1, 128)\n",
            "(32, 128) (32, 1280) (32, 128)\n"
          ]
        },
        {
          "output_type": "stream",
          "name": "stderr",
          "text": [
            "WARNING:tensorflow:Gradients do not exist for variables ['tf_bert_model_32/bert/pooler/dense/kernel:0', 'tf_bert_model_32/bert/pooler/dense/bias:0'] when minimizing the loss. If you're using `model.compile()`, did you forget to provide a `loss` argument?\n",
            "WARNING:tensorflow:Gradients do not exist for variables ['tf_bert_model_32/bert/pooler/dense/kernel:0', 'tf_bert_model_32/bert/pooler/dense/bias:0'] when minimizing the loss. If you're using `model.compile()`, did you forget to provide a `loss` argument?\n"
          ]
        },
        {
          "output_type": "stream",
          "name": "stdout",
          "text": [
            "(32, 10, 128)\n",
            "(32, 1, 128)\n",
            "(32, 128) (32, 1280) (32, 128)\n"
          ]
        },
        {
          "output_type": "stream",
          "name": "stderr",
          "text": [
            "WARNING:tensorflow:Gradients do not exist for variables ['tf_bert_model_32/bert/pooler/dense/kernel:0', 'tf_bert_model_32/bert/pooler/dense/bias:0'] when minimizing the loss. If you're using `model.compile()`, did you forget to provide a `loss` argument?\n",
            "WARNING:tensorflow:Gradients do not exist for variables ['tf_bert_model_32/bert/pooler/dense/kernel:0', 'tf_bert_model_32/bert/pooler/dense/bias:0'] when minimizing the loss. If you're using `model.compile()`, did you forget to provide a `loss` argument?\n"
          ]
        },
        {
          "output_type": "stream",
          "name": "stdout",
          "text": [
            "Epoch 3/10 | Step 10/31 | Loss: 0.6413\n",
            "(32, 10, 128)\n",
            "(32, 1, 128)\n",
            "(32, 128) (32, 1280) (32, 128)\n"
          ]
        },
        {
          "output_type": "stream",
          "name": "stderr",
          "text": [
            "WARNING:tensorflow:Gradients do not exist for variables ['tf_bert_model_32/bert/pooler/dense/kernel:0', 'tf_bert_model_32/bert/pooler/dense/bias:0'] when minimizing the loss. If you're using `model.compile()`, did you forget to provide a `loss` argument?\n",
            "WARNING:tensorflow:Gradients do not exist for variables ['tf_bert_model_32/bert/pooler/dense/kernel:0', 'tf_bert_model_32/bert/pooler/dense/bias:0'] when minimizing the loss. If you're using `model.compile()`, did you forget to provide a `loss` argument?\n"
          ]
        },
        {
          "output_type": "stream",
          "name": "stdout",
          "text": [
            "(32, 10, 128)\n",
            "(32, 1, 128)\n",
            "(32, 128) (32, 1280) (32, 128)\n"
          ]
        },
        {
          "output_type": "stream",
          "name": "stderr",
          "text": [
            "WARNING:tensorflow:Gradients do not exist for variables ['tf_bert_model_32/bert/pooler/dense/kernel:0', 'tf_bert_model_32/bert/pooler/dense/bias:0'] when minimizing the loss. If you're using `model.compile()`, did you forget to provide a `loss` argument?\n",
            "WARNING:tensorflow:Gradients do not exist for variables ['tf_bert_model_32/bert/pooler/dense/kernel:0', 'tf_bert_model_32/bert/pooler/dense/bias:0'] when minimizing the loss. If you're using `model.compile()`, did you forget to provide a `loss` argument?\n"
          ]
        },
        {
          "output_type": "stream",
          "name": "stdout",
          "text": [
            "(32, 10, 128)\n",
            "(32, 1, 128)\n",
            "(32, 128) (32, 1280) (32, 128)\n"
          ]
        },
        {
          "output_type": "stream",
          "name": "stderr",
          "text": [
            "WARNING:tensorflow:Gradients do not exist for variables ['tf_bert_model_32/bert/pooler/dense/kernel:0', 'tf_bert_model_32/bert/pooler/dense/bias:0'] when minimizing the loss. If you're using `model.compile()`, did you forget to provide a `loss` argument?\n",
            "WARNING:tensorflow:Gradients do not exist for variables ['tf_bert_model_32/bert/pooler/dense/kernel:0', 'tf_bert_model_32/bert/pooler/dense/bias:0'] when minimizing the loss. If you're using `model.compile()`, did you forget to provide a `loss` argument?\n"
          ]
        },
        {
          "output_type": "stream",
          "name": "stdout",
          "text": [
            "(32, 10, 128)\n",
            "(32, 1, 128)\n",
            "(32, 128) (32, 1280) (32, 128)\n"
          ]
        },
        {
          "output_type": "stream",
          "name": "stderr",
          "text": [
            "WARNING:tensorflow:Gradients do not exist for variables ['tf_bert_model_32/bert/pooler/dense/kernel:0', 'tf_bert_model_32/bert/pooler/dense/bias:0'] when minimizing the loss. If you're using `model.compile()`, did you forget to provide a `loss` argument?\n",
            "WARNING:tensorflow:Gradients do not exist for variables ['tf_bert_model_32/bert/pooler/dense/kernel:0', 'tf_bert_model_32/bert/pooler/dense/bias:0'] when minimizing the loss. If you're using `model.compile()`, did you forget to provide a `loss` argument?\n"
          ]
        },
        {
          "output_type": "stream",
          "name": "stdout",
          "text": [
            "(32, 10, 128)\n",
            "(32, 1, 128)\n",
            "(32, 128) (32, 1280) (32, 128)\n"
          ]
        },
        {
          "output_type": "stream",
          "name": "stderr",
          "text": [
            "WARNING:tensorflow:Gradients do not exist for variables ['tf_bert_model_32/bert/pooler/dense/kernel:0', 'tf_bert_model_32/bert/pooler/dense/bias:0'] when minimizing the loss. If you're using `model.compile()`, did you forget to provide a `loss` argument?\n",
            "WARNING:tensorflow:Gradients do not exist for variables ['tf_bert_model_32/bert/pooler/dense/kernel:0', 'tf_bert_model_32/bert/pooler/dense/bias:0'] when minimizing the loss. If you're using `model.compile()`, did you forget to provide a `loss` argument?\n"
          ]
        },
        {
          "output_type": "stream",
          "name": "stdout",
          "text": [
            "(32, 10, 128)\n",
            "(32, 1, 128)\n",
            "(32, 128) (32, 1280) (32, 128)\n"
          ]
        },
        {
          "output_type": "stream",
          "name": "stderr",
          "text": [
            "WARNING:tensorflow:Gradients do not exist for variables ['tf_bert_model_32/bert/pooler/dense/kernel:0', 'tf_bert_model_32/bert/pooler/dense/bias:0'] when minimizing the loss. If you're using `model.compile()`, did you forget to provide a `loss` argument?\n",
            "WARNING:tensorflow:Gradients do not exist for variables ['tf_bert_model_32/bert/pooler/dense/kernel:0', 'tf_bert_model_32/bert/pooler/dense/bias:0'] when minimizing the loss. If you're using `model.compile()`, did you forget to provide a `loss` argument?\n"
          ]
        },
        {
          "output_type": "stream",
          "name": "stdout",
          "text": [
            "(32, 10, 128)\n",
            "(32, 1, 128)\n",
            "(32, 128) (32, 1280) (32, 128)\n"
          ]
        },
        {
          "output_type": "stream",
          "name": "stderr",
          "text": [
            "WARNING:tensorflow:Gradients do not exist for variables ['tf_bert_model_32/bert/pooler/dense/kernel:0', 'tf_bert_model_32/bert/pooler/dense/bias:0'] when minimizing the loss. If you're using `model.compile()`, did you forget to provide a `loss` argument?\n",
            "WARNING:tensorflow:Gradients do not exist for variables ['tf_bert_model_32/bert/pooler/dense/kernel:0', 'tf_bert_model_32/bert/pooler/dense/bias:0'] when minimizing the loss. If you're using `model.compile()`, did you forget to provide a `loss` argument?\n"
          ]
        },
        {
          "output_type": "stream",
          "name": "stdout",
          "text": [
            "(32, 10, 128)\n",
            "(32, 1, 128)\n",
            "(32, 128) (32, 1280) (32, 128)\n"
          ]
        },
        {
          "output_type": "stream",
          "name": "stderr",
          "text": [
            "WARNING:tensorflow:Gradients do not exist for variables ['tf_bert_model_32/bert/pooler/dense/kernel:0', 'tf_bert_model_32/bert/pooler/dense/bias:0'] when minimizing the loss. If you're using `model.compile()`, did you forget to provide a `loss` argument?\n",
            "WARNING:tensorflow:Gradients do not exist for variables ['tf_bert_model_32/bert/pooler/dense/kernel:0', 'tf_bert_model_32/bert/pooler/dense/bias:0'] when minimizing the loss. If you're using `model.compile()`, did you forget to provide a `loss` argument?\n"
          ]
        },
        {
          "output_type": "stream",
          "name": "stdout",
          "text": [
            "(32, 10, 128)\n",
            "(32, 1, 128)\n",
            "(32, 128) (32, 1280) (32, 128)\n"
          ]
        },
        {
          "output_type": "stream",
          "name": "stderr",
          "text": [
            "WARNING:tensorflow:Gradients do not exist for variables ['tf_bert_model_32/bert/pooler/dense/kernel:0', 'tf_bert_model_32/bert/pooler/dense/bias:0'] when minimizing the loss. If you're using `model.compile()`, did you forget to provide a `loss` argument?\n",
            "WARNING:tensorflow:Gradients do not exist for variables ['tf_bert_model_32/bert/pooler/dense/kernel:0', 'tf_bert_model_32/bert/pooler/dense/bias:0'] when minimizing the loss. If you're using `model.compile()`, did you forget to provide a `loss` argument?\n"
          ]
        },
        {
          "output_type": "stream",
          "name": "stdout",
          "text": [
            "(32, 10, 128)\n",
            "(32, 1, 128)\n",
            "(32, 128) (32, 1280) (32, 128)\n"
          ]
        },
        {
          "output_type": "stream",
          "name": "stderr",
          "text": [
            "WARNING:tensorflow:Gradients do not exist for variables ['tf_bert_model_32/bert/pooler/dense/kernel:0', 'tf_bert_model_32/bert/pooler/dense/bias:0'] when minimizing the loss. If you're using `model.compile()`, did you forget to provide a `loss` argument?\n",
            "WARNING:tensorflow:Gradients do not exist for variables ['tf_bert_model_32/bert/pooler/dense/kernel:0', 'tf_bert_model_32/bert/pooler/dense/bias:0'] when minimizing the loss. If you're using `model.compile()`, did you forget to provide a `loss` argument?\n"
          ]
        },
        {
          "output_type": "stream",
          "name": "stdout",
          "text": [
            "Epoch 3/10 | Step 20/31 | Loss: 0.6687\n",
            "(32, 10, 128)\n",
            "(32, 1, 128)\n",
            "(32, 128) (32, 1280) (32, 128)\n"
          ]
        },
        {
          "output_type": "stream",
          "name": "stderr",
          "text": [
            "WARNING:tensorflow:Gradients do not exist for variables ['tf_bert_model_32/bert/pooler/dense/kernel:0', 'tf_bert_model_32/bert/pooler/dense/bias:0'] when minimizing the loss. If you're using `model.compile()`, did you forget to provide a `loss` argument?\n",
            "WARNING:tensorflow:Gradients do not exist for variables ['tf_bert_model_32/bert/pooler/dense/kernel:0', 'tf_bert_model_32/bert/pooler/dense/bias:0'] when minimizing the loss. If you're using `model.compile()`, did you forget to provide a `loss` argument?\n"
          ]
        },
        {
          "output_type": "stream",
          "name": "stdout",
          "text": [
            "(32, 10, 128)\n",
            "(32, 1, 128)\n",
            "(32, 128) (32, 1280) (32, 128)\n"
          ]
        },
        {
          "output_type": "stream",
          "name": "stderr",
          "text": [
            "WARNING:tensorflow:Gradients do not exist for variables ['tf_bert_model_32/bert/pooler/dense/kernel:0', 'tf_bert_model_32/bert/pooler/dense/bias:0'] when minimizing the loss. If you're using `model.compile()`, did you forget to provide a `loss` argument?\n",
            "WARNING:tensorflow:Gradients do not exist for variables ['tf_bert_model_32/bert/pooler/dense/kernel:0', 'tf_bert_model_32/bert/pooler/dense/bias:0'] when minimizing the loss. If you're using `model.compile()`, did you forget to provide a `loss` argument?\n"
          ]
        },
        {
          "output_type": "stream",
          "name": "stdout",
          "text": [
            "(32, 10, 128)\n",
            "(32, 1, 128)\n",
            "(32, 128) (32, 1280) (32, 128)\n"
          ]
        },
        {
          "output_type": "stream",
          "name": "stderr",
          "text": [
            "WARNING:tensorflow:Gradients do not exist for variables ['tf_bert_model_32/bert/pooler/dense/kernel:0', 'tf_bert_model_32/bert/pooler/dense/bias:0'] when minimizing the loss. If you're using `model.compile()`, did you forget to provide a `loss` argument?\n",
            "WARNING:tensorflow:Gradients do not exist for variables ['tf_bert_model_32/bert/pooler/dense/kernel:0', 'tf_bert_model_32/bert/pooler/dense/bias:0'] when minimizing the loss. If you're using `model.compile()`, did you forget to provide a `loss` argument?\n"
          ]
        },
        {
          "output_type": "stream",
          "name": "stdout",
          "text": [
            "(32, 10, 128)\n",
            "(32, 1, 128)\n",
            "(32, 128) (32, 1280) (32, 128)\n"
          ]
        },
        {
          "output_type": "stream",
          "name": "stderr",
          "text": [
            "WARNING:tensorflow:Gradients do not exist for variables ['tf_bert_model_32/bert/pooler/dense/kernel:0', 'tf_bert_model_32/bert/pooler/dense/bias:0'] when minimizing the loss. If you're using `model.compile()`, did you forget to provide a `loss` argument?\n",
            "WARNING:tensorflow:Gradients do not exist for variables ['tf_bert_model_32/bert/pooler/dense/kernel:0', 'tf_bert_model_32/bert/pooler/dense/bias:0'] when minimizing the loss. If you're using `model.compile()`, did you forget to provide a `loss` argument?\n"
          ]
        },
        {
          "output_type": "stream",
          "name": "stdout",
          "text": [
            "(32, 10, 128)\n",
            "(32, 1, 128)\n",
            "(32, 128) (32, 1280) (32, 128)\n"
          ]
        },
        {
          "output_type": "stream",
          "name": "stderr",
          "text": [
            "WARNING:tensorflow:Gradients do not exist for variables ['tf_bert_model_32/bert/pooler/dense/kernel:0', 'tf_bert_model_32/bert/pooler/dense/bias:0'] when minimizing the loss. If you're using `model.compile()`, did you forget to provide a `loss` argument?\n",
            "WARNING:tensorflow:Gradients do not exist for variables ['tf_bert_model_32/bert/pooler/dense/kernel:0', 'tf_bert_model_32/bert/pooler/dense/bias:0'] when minimizing the loss. If you're using `model.compile()`, did you forget to provide a `loss` argument?\n"
          ]
        },
        {
          "output_type": "stream",
          "name": "stdout",
          "text": [
            "(32, 10, 128)\n",
            "(32, 1, 128)\n",
            "(32, 128) (32, 1280) (32, 128)\n"
          ]
        },
        {
          "output_type": "stream",
          "name": "stderr",
          "text": [
            "WARNING:tensorflow:Gradients do not exist for variables ['tf_bert_model_32/bert/pooler/dense/kernel:0', 'tf_bert_model_32/bert/pooler/dense/bias:0'] when minimizing the loss. If you're using `model.compile()`, did you forget to provide a `loss` argument?\n",
            "WARNING:tensorflow:Gradients do not exist for variables ['tf_bert_model_32/bert/pooler/dense/kernel:0', 'tf_bert_model_32/bert/pooler/dense/bias:0'] when minimizing the loss. If you're using `model.compile()`, did you forget to provide a `loss` argument?\n"
          ]
        },
        {
          "output_type": "stream",
          "name": "stdout",
          "text": [
            "(32, 10, 128)\n",
            "(32, 1, 128)\n",
            "(32, 128) (32, 1280) (32, 128)\n"
          ]
        },
        {
          "output_type": "stream",
          "name": "stderr",
          "text": [
            "WARNING:tensorflow:Gradients do not exist for variables ['tf_bert_model_32/bert/pooler/dense/kernel:0', 'tf_bert_model_32/bert/pooler/dense/bias:0'] when minimizing the loss. If you're using `model.compile()`, did you forget to provide a `loss` argument?\n",
            "WARNING:tensorflow:Gradients do not exist for variables ['tf_bert_model_32/bert/pooler/dense/kernel:0', 'tf_bert_model_32/bert/pooler/dense/bias:0'] when minimizing the loss. If you're using `model.compile()`, did you forget to provide a `loss` argument?\n"
          ]
        },
        {
          "output_type": "stream",
          "name": "stdout",
          "text": [
            "(32, 10, 128)\n",
            "(32, 1, 128)\n",
            "(32, 128) (32, 1280) (32, 128)\n"
          ]
        },
        {
          "output_type": "stream",
          "name": "stderr",
          "text": [
            "WARNING:tensorflow:Gradients do not exist for variables ['tf_bert_model_32/bert/pooler/dense/kernel:0', 'tf_bert_model_32/bert/pooler/dense/bias:0'] when minimizing the loss. If you're using `model.compile()`, did you forget to provide a `loss` argument?\n",
            "WARNING:tensorflow:Gradients do not exist for variables ['tf_bert_model_32/bert/pooler/dense/kernel:0', 'tf_bert_model_32/bert/pooler/dense/bias:0'] when minimizing the loss. If you're using `model.compile()`, did you forget to provide a `loss` argument?\n"
          ]
        },
        {
          "output_type": "stream",
          "name": "stdout",
          "text": [
            "(32, 10, 128)\n",
            "(32, 1, 128)\n",
            "(32, 128) (32, 1280) (32, 128)\n"
          ]
        },
        {
          "output_type": "stream",
          "name": "stderr",
          "text": [
            "WARNING:tensorflow:Gradients do not exist for variables ['tf_bert_model_32/bert/pooler/dense/kernel:0', 'tf_bert_model_32/bert/pooler/dense/bias:0'] when minimizing the loss. If you're using `model.compile()`, did you forget to provide a `loss` argument?\n",
            "WARNING:tensorflow:Gradients do not exist for variables ['tf_bert_model_32/bert/pooler/dense/kernel:0', 'tf_bert_model_32/bert/pooler/dense/bias:0'] when minimizing the loss. If you're using `model.compile()`, did you forget to provide a `loss` argument?\n"
          ]
        },
        {
          "output_type": "stream",
          "name": "stdout",
          "text": [
            "(32, 10, 128)\n",
            "(32, 1, 128)\n",
            "(32, 128) (32, 1280) (32, 128)\n"
          ]
        },
        {
          "output_type": "stream",
          "name": "stderr",
          "text": [
            "WARNING:tensorflow:Gradients do not exist for variables ['tf_bert_model_32/bert/pooler/dense/kernel:0', 'tf_bert_model_32/bert/pooler/dense/bias:0'] when minimizing the loss. If you're using `model.compile()`, did you forget to provide a `loss` argument?\n",
            "WARNING:tensorflow:Gradients do not exist for variables ['tf_bert_model_32/bert/pooler/dense/kernel:0', 'tf_bert_model_32/bert/pooler/dense/bias:0'] when minimizing the loss. If you're using `model.compile()`, did you forget to provide a `loss` argument?\n"
          ]
        },
        {
          "output_type": "stream",
          "name": "stdout",
          "text": [
            "Epoch 3/10 | Step 30/31 | Loss: 0.5839\n",
            "(32, 10, 128)\n",
            "(32, 1, 128)\n",
            "(32, 128) (32, 1280) (32, 128)\n"
          ]
        },
        {
          "output_type": "stream",
          "name": "stderr",
          "text": [
            "WARNING:tensorflow:Gradients do not exist for variables ['tf_bert_model_32/bert/pooler/dense/kernel:0', 'tf_bert_model_32/bert/pooler/dense/bias:0'] when minimizing the loss. If you're using `model.compile()`, did you forget to provide a `loss` argument?\n",
            "WARNING:tensorflow:Gradients do not exist for variables ['tf_bert_model_32/bert/pooler/dense/kernel:0', 'tf_bert_model_32/bert/pooler/dense/bias:0'] when minimizing the loss. If you're using `model.compile()`, did you forget to provide a `loss` argument?\n"
          ]
        },
        {
          "output_type": "stream",
          "name": "stdout",
          "text": [
            "(32, 10, 128)\n",
            "(32, 1, 128)\n",
            "(32, 128) (32, 1280) (32, 128)\n"
          ]
        },
        {
          "output_type": "stream",
          "name": "stderr",
          "text": [
            "WARNING:tensorflow:Gradients do not exist for variables ['tf_bert_model_32/bert/pooler/dense/kernel:0', 'tf_bert_model_32/bert/pooler/dense/bias:0'] when minimizing the loss. If you're using `model.compile()`, did you forget to provide a `loss` argument?\n",
            "WARNING:tensorflow:Gradients do not exist for variables ['tf_bert_model_32/bert/pooler/dense/kernel:0', 'tf_bert_model_32/bert/pooler/dense/bias:0'] when minimizing the loss. If you're using `model.compile()`, did you forget to provide a `loss` argument?\n"
          ]
        },
        {
          "output_type": "stream",
          "name": "stdout",
          "text": [
            "(32, 10, 128)\n",
            "(32, 1, 128)\n",
            "(32, 128) (32, 1280) (32, 128)\n"
          ]
        },
        {
          "output_type": "stream",
          "name": "stderr",
          "text": [
            "WARNING:tensorflow:Gradients do not exist for variables ['tf_bert_model_32/bert/pooler/dense/kernel:0', 'tf_bert_model_32/bert/pooler/dense/bias:0'] when minimizing the loss. If you're using `model.compile()`, did you forget to provide a `loss` argument?\n",
            "WARNING:tensorflow:Gradients do not exist for variables ['tf_bert_model_32/bert/pooler/dense/kernel:0', 'tf_bert_model_32/bert/pooler/dense/bias:0'] when minimizing the loss. If you're using `model.compile()`, did you forget to provide a `loss` argument?\n"
          ]
        },
        {
          "output_type": "stream",
          "name": "stdout",
          "text": [
            "(32, 10, 128)\n",
            "(32, 1, 128)\n",
            "(32, 128) (32, 1280) (32, 128)\n"
          ]
        },
        {
          "output_type": "stream",
          "name": "stderr",
          "text": [
            "WARNING:tensorflow:Gradients do not exist for variables ['tf_bert_model_32/bert/pooler/dense/kernel:0', 'tf_bert_model_32/bert/pooler/dense/bias:0'] when minimizing the loss. If you're using `model.compile()`, did you forget to provide a `loss` argument?\n",
            "WARNING:tensorflow:Gradients do not exist for variables ['tf_bert_model_32/bert/pooler/dense/kernel:0', 'tf_bert_model_32/bert/pooler/dense/bias:0'] when minimizing the loss. If you're using `model.compile()`, did you forget to provide a `loss` argument?\n"
          ]
        },
        {
          "output_type": "stream",
          "name": "stdout",
          "text": [
            "(32, 10, 128)\n",
            "(32, 1, 128)\n",
            "(32, 128) (32, 1280) (32, 128)\n"
          ]
        },
        {
          "output_type": "stream",
          "name": "stderr",
          "text": [
            "WARNING:tensorflow:Gradients do not exist for variables ['tf_bert_model_32/bert/pooler/dense/kernel:0', 'tf_bert_model_32/bert/pooler/dense/bias:0'] when minimizing the loss. If you're using `model.compile()`, did you forget to provide a `loss` argument?\n",
            "WARNING:tensorflow:Gradients do not exist for variables ['tf_bert_model_32/bert/pooler/dense/kernel:0', 'tf_bert_model_32/bert/pooler/dense/bias:0'] when minimizing the loss. If you're using `model.compile()`, did you forget to provide a `loss` argument?\n"
          ]
        },
        {
          "output_type": "stream",
          "name": "stdout",
          "text": [
            "(32, 10, 128)\n",
            "(32, 1, 128)\n",
            "(32, 128) (32, 1280) (32, 128)\n"
          ]
        },
        {
          "output_type": "stream",
          "name": "stderr",
          "text": [
            "WARNING:tensorflow:Gradients do not exist for variables ['tf_bert_model_32/bert/pooler/dense/kernel:0', 'tf_bert_model_32/bert/pooler/dense/bias:0'] when minimizing the loss. If you're using `model.compile()`, did you forget to provide a `loss` argument?\n",
            "WARNING:tensorflow:Gradients do not exist for variables ['tf_bert_model_32/bert/pooler/dense/kernel:0', 'tf_bert_model_32/bert/pooler/dense/bias:0'] when minimizing the loss. If you're using `model.compile()`, did you forget to provide a `loss` argument?\n"
          ]
        },
        {
          "output_type": "stream",
          "name": "stdout",
          "text": [
            "(32, 10, 128)\n",
            "(32, 1, 128)\n",
            "(32, 128) (32, 1280) (32, 128)\n"
          ]
        },
        {
          "output_type": "stream",
          "name": "stderr",
          "text": [
            "WARNING:tensorflow:Gradients do not exist for variables ['tf_bert_model_32/bert/pooler/dense/kernel:0', 'tf_bert_model_32/bert/pooler/dense/bias:0'] when minimizing the loss. If you're using `model.compile()`, did you forget to provide a `loss` argument?\n",
            "WARNING:tensorflow:Gradients do not exist for variables ['tf_bert_model_32/bert/pooler/dense/kernel:0', 'tf_bert_model_32/bert/pooler/dense/bias:0'] when minimizing the loss. If you're using `model.compile()`, did you forget to provide a `loss` argument?\n"
          ]
        },
        {
          "output_type": "stream",
          "name": "stdout",
          "text": [
            "(32, 10, 128)\n",
            "(32, 1, 128)\n",
            "(32, 128) (32, 1280) (32, 128)\n"
          ]
        },
        {
          "output_type": "stream",
          "name": "stderr",
          "text": [
            "WARNING:tensorflow:Gradients do not exist for variables ['tf_bert_model_32/bert/pooler/dense/kernel:0', 'tf_bert_model_32/bert/pooler/dense/bias:0'] when minimizing the loss. If you're using `model.compile()`, did you forget to provide a `loss` argument?\n",
            "WARNING:tensorflow:Gradients do not exist for variables ['tf_bert_model_32/bert/pooler/dense/kernel:0', 'tf_bert_model_32/bert/pooler/dense/bias:0'] when minimizing the loss. If you're using `model.compile()`, did you forget to provide a `loss` argument?\n"
          ]
        },
        {
          "output_type": "stream",
          "name": "stdout",
          "text": [
            "(32, 10, 128)\n",
            "(32, 1, 128)\n",
            "(32, 128) (32, 1280) (32, 128)\n"
          ]
        },
        {
          "output_type": "stream",
          "name": "stderr",
          "text": [
            "WARNING:tensorflow:Gradients do not exist for variables ['tf_bert_model_32/bert/pooler/dense/kernel:0', 'tf_bert_model_32/bert/pooler/dense/bias:0'] when minimizing the loss. If you're using `model.compile()`, did you forget to provide a `loss` argument?\n",
            "WARNING:tensorflow:Gradients do not exist for variables ['tf_bert_model_32/bert/pooler/dense/kernel:0', 'tf_bert_model_32/bert/pooler/dense/bias:0'] when minimizing the loss. If you're using `model.compile()`, did you forget to provide a `loss` argument?\n"
          ]
        },
        {
          "output_type": "stream",
          "name": "stdout",
          "text": [
            "(32, 10, 128)\n",
            "(32, 1, 128)\n",
            "(32, 128) (32, 1280) (32, 128)\n"
          ]
        },
        {
          "output_type": "stream",
          "name": "stderr",
          "text": [
            "WARNING:tensorflow:Gradients do not exist for variables ['tf_bert_model_32/bert/pooler/dense/kernel:0', 'tf_bert_model_32/bert/pooler/dense/bias:0'] when minimizing the loss. If you're using `model.compile()`, did you forget to provide a `loss` argument?\n",
            "WARNING:tensorflow:Gradients do not exist for variables ['tf_bert_model_32/bert/pooler/dense/kernel:0', 'tf_bert_model_32/bert/pooler/dense/bias:0'] when minimizing the loss. If you're using `model.compile()`, did you forget to provide a `loss` argument?\n"
          ]
        },
        {
          "output_type": "stream",
          "name": "stdout",
          "text": [
            "(32, 10, 128)\n",
            "(32, 1, 128)\n",
            "(32, 128) (32, 1280) (32, 128)\n"
          ]
        },
        {
          "output_type": "stream",
          "name": "stderr",
          "text": [
            "WARNING:tensorflow:Gradients do not exist for variables ['tf_bert_model_32/bert/pooler/dense/kernel:0', 'tf_bert_model_32/bert/pooler/dense/bias:0'] when minimizing the loss. If you're using `model.compile()`, did you forget to provide a `loss` argument?\n",
            "WARNING:tensorflow:Gradients do not exist for variables ['tf_bert_model_32/bert/pooler/dense/kernel:0', 'tf_bert_model_32/bert/pooler/dense/bias:0'] when minimizing the loss. If you're using `model.compile()`, did you forget to provide a `loss` argument?\n"
          ]
        },
        {
          "output_type": "stream",
          "name": "stdout",
          "text": [
            "Epoch 4/10 | Step 10/31 | Loss: 0.5580\n",
            "(32, 10, 128)\n",
            "(32, 1, 128)\n",
            "(32, 128) (32, 1280) (32, 128)\n"
          ]
        },
        {
          "output_type": "stream",
          "name": "stderr",
          "text": [
            "WARNING:tensorflow:Gradients do not exist for variables ['tf_bert_model_32/bert/pooler/dense/kernel:0', 'tf_bert_model_32/bert/pooler/dense/bias:0'] when minimizing the loss. If you're using `model.compile()`, did you forget to provide a `loss` argument?\n",
            "WARNING:tensorflow:Gradients do not exist for variables ['tf_bert_model_32/bert/pooler/dense/kernel:0', 'tf_bert_model_32/bert/pooler/dense/bias:0'] when minimizing the loss. If you're using `model.compile()`, did you forget to provide a `loss` argument?\n"
          ]
        },
        {
          "output_type": "stream",
          "name": "stdout",
          "text": [
            "(32, 10, 128)\n",
            "(32, 1, 128)\n",
            "(32, 128) (32, 1280) (32, 128)\n"
          ]
        },
        {
          "output_type": "stream",
          "name": "stderr",
          "text": [
            "WARNING:tensorflow:Gradients do not exist for variables ['tf_bert_model_32/bert/pooler/dense/kernel:0', 'tf_bert_model_32/bert/pooler/dense/bias:0'] when minimizing the loss. If you're using `model.compile()`, did you forget to provide a `loss` argument?\n",
            "WARNING:tensorflow:Gradients do not exist for variables ['tf_bert_model_32/bert/pooler/dense/kernel:0', 'tf_bert_model_32/bert/pooler/dense/bias:0'] when minimizing the loss. If you're using `model.compile()`, did you forget to provide a `loss` argument?\n"
          ]
        },
        {
          "output_type": "stream",
          "name": "stdout",
          "text": [
            "(32, 10, 128)\n",
            "(32, 1, 128)\n",
            "(32, 128) (32, 1280) (32, 128)\n"
          ]
        },
        {
          "output_type": "stream",
          "name": "stderr",
          "text": [
            "WARNING:tensorflow:Gradients do not exist for variables ['tf_bert_model_32/bert/pooler/dense/kernel:0', 'tf_bert_model_32/bert/pooler/dense/bias:0'] when minimizing the loss. If you're using `model.compile()`, did you forget to provide a `loss` argument?\n",
            "WARNING:tensorflow:Gradients do not exist for variables ['tf_bert_model_32/bert/pooler/dense/kernel:0', 'tf_bert_model_32/bert/pooler/dense/bias:0'] when minimizing the loss. If you're using `model.compile()`, did you forget to provide a `loss` argument?\n"
          ]
        },
        {
          "output_type": "stream",
          "name": "stdout",
          "text": [
            "(32, 10, 128)\n",
            "(32, 1, 128)\n",
            "(32, 128) (32, 1280) (32, 128)\n"
          ]
        },
        {
          "output_type": "stream",
          "name": "stderr",
          "text": [
            "WARNING:tensorflow:Gradients do not exist for variables ['tf_bert_model_32/bert/pooler/dense/kernel:0', 'tf_bert_model_32/bert/pooler/dense/bias:0'] when minimizing the loss. If you're using `model.compile()`, did you forget to provide a `loss` argument?\n",
            "WARNING:tensorflow:Gradients do not exist for variables ['tf_bert_model_32/bert/pooler/dense/kernel:0', 'tf_bert_model_32/bert/pooler/dense/bias:0'] when minimizing the loss. If you're using `model.compile()`, did you forget to provide a `loss` argument?\n"
          ]
        },
        {
          "output_type": "stream",
          "name": "stdout",
          "text": [
            "(32, 10, 128)\n",
            "(32, 1, 128)\n",
            "(32, 128) (32, 1280) (32, 128)\n"
          ]
        },
        {
          "output_type": "stream",
          "name": "stderr",
          "text": [
            "WARNING:tensorflow:Gradients do not exist for variables ['tf_bert_model_32/bert/pooler/dense/kernel:0', 'tf_bert_model_32/bert/pooler/dense/bias:0'] when minimizing the loss. If you're using `model.compile()`, did you forget to provide a `loss` argument?\n",
            "WARNING:tensorflow:Gradients do not exist for variables ['tf_bert_model_32/bert/pooler/dense/kernel:0', 'tf_bert_model_32/bert/pooler/dense/bias:0'] when minimizing the loss. If you're using `model.compile()`, did you forget to provide a `loss` argument?\n"
          ]
        },
        {
          "output_type": "stream",
          "name": "stdout",
          "text": [
            "(32, 10, 128)\n",
            "(32, 1, 128)\n",
            "(32, 128) (32, 1280) (32, 128)\n"
          ]
        },
        {
          "output_type": "stream",
          "name": "stderr",
          "text": [
            "WARNING:tensorflow:Gradients do not exist for variables ['tf_bert_model_32/bert/pooler/dense/kernel:0', 'tf_bert_model_32/bert/pooler/dense/bias:0'] when minimizing the loss. If you're using `model.compile()`, did you forget to provide a `loss` argument?\n",
            "WARNING:tensorflow:Gradients do not exist for variables ['tf_bert_model_32/bert/pooler/dense/kernel:0', 'tf_bert_model_32/bert/pooler/dense/bias:0'] when minimizing the loss. If you're using `model.compile()`, did you forget to provide a `loss` argument?\n"
          ]
        },
        {
          "output_type": "stream",
          "name": "stdout",
          "text": [
            "(32, 10, 128)\n",
            "(32, 1, 128)\n",
            "(32, 128) (32, 1280) (32, 128)\n"
          ]
        },
        {
          "output_type": "stream",
          "name": "stderr",
          "text": [
            "WARNING:tensorflow:Gradients do not exist for variables ['tf_bert_model_32/bert/pooler/dense/kernel:0', 'tf_bert_model_32/bert/pooler/dense/bias:0'] when minimizing the loss. If you're using `model.compile()`, did you forget to provide a `loss` argument?\n",
            "WARNING:tensorflow:Gradients do not exist for variables ['tf_bert_model_32/bert/pooler/dense/kernel:0', 'tf_bert_model_32/bert/pooler/dense/bias:0'] when minimizing the loss. If you're using `model.compile()`, did you forget to provide a `loss` argument?\n"
          ]
        },
        {
          "output_type": "stream",
          "name": "stdout",
          "text": [
            "(32, 10, 128)\n",
            "(32, 1, 128)\n",
            "(32, 128) (32, 1280) (32, 128)\n"
          ]
        },
        {
          "output_type": "stream",
          "name": "stderr",
          "text": [
            "WARNING:tensorflow:Gradients do not exist for variables ['tf_bert_model_32/bert/pooler/dense/kernel:0', 'tf_bert_model_32/bert/pooler/dense/bias:0'] when minimizing the loss. If you're using `model.compile()`, did you forget to provide a `loss` argument?\n",
            "WARNING:tensorflow:Gradients do not exist for variables ['tf_bert_model_32/bert/pooler/dense/kernel:0', 'tf_bert_model_32/bert/pooler/dense/bias:0'] when minimizing the loss. If you're using `model.compile()`, did you forget to provide a `loss` argument?\n"
          ]
        },
        {
          "output_type": "stream",
          "name": "stdout",
          "text": [
            "(32, 10, 128)\n",
            "(32, 1, 128)\n",
            "(32, 128) (32, 1280) (32, 128)\n"
          ]
        },
        {
          "output_type": "stream",
          "name": "stderr",
          "text": [
            "WARNING:tensorflow:Gradients do not exist for variables ['tf_bert_model_32/bert/pooler/dense/kernel:0', 'tf_bert_model_32/bert/pooler/dense/bias:0'] when minimizing the loss. If you're using `model.compile()`, did you forget to provide a `loss` argument?\n",
            "WARNING:tensorflow:Gradients do not exist for variables ['tf_bert_model_32/bert/pooler/dense/kernel:0', 'tf_bert_model_32/bert/pooler/dense/bias:0'] when minimizing the loss. If you're using `model.compile()`, did you forget to provide a `loss` argument?\n"
          ]
        },
        {
          "output_type": "stream",
          "name": "stdout",
          "text": [
            "(32, 10, 128)\n",
            "(32, 1, 128)\n",
            "(32, 128) (32, 1280) (32, 128)\n"
          ]
        },
        {
          "output_type": "stream",
          "name": "stderr",
          "text": [
            "WARNING:tensorflow:Gradients do not exist for variables ['tf_bert_model_32/bert/pooler/dense/kernel:0', 'tf_bert_model_32/bert/pooler/dense/bias:0'] when minimizing the loss. If you're using `model.compile()`, did you forget to provide a `loss` argument?\n",
            "WARNING:tensorflow:Gradients do not exist for variables ['tf_bert_model_32/bert/pooler/dense/kernel:0', 'tf_bert_model_32/bert/pooler/dense/bias:0'] when minimizing the loss. If you're using `model.compile()`, did you forget to provide a `loss` argument?\n"
          ]
        },
        {
          "output_type": "stream",
          "name": "stdout",
          "text": [
            "Epoch 4/10 | Step 20/31 | Loss: 0.5450\n",
            "(32, 10, 128)\n",
            "(32, 1, 128)\n",
            "(32, 128) (32, 1280) (32, 128)\n"
          ]
        },
        {
          "output_type": "stream",
          "name": "stderr",
          "text": [
            "WARNING:tensorflow:Gradients do not exist for variables ['tf_bert_model_32/bert/pooler/dense/kernel:0', 'tf_bert_model_32/bert/pooler/dense/bias:0'] when minimizing the loss. If you're using `model.compile()`, did you forget to provide a `loss` argument?\n",
            "WARNING:tensorflow:Gradients do not exist for variables ['tf_bert_model_32/bert/pooler/dense/kernel:0', 'tf_bert_model_32/bert/pooler/dense/bias:0'] when minimizing the loss. If you're using `model.compile()`, did you forget to provide a `loss` argument?\n"
          ]
        },
        {
          "output_type": "stream",
          "name": "stdout",
          "text": [
            "(32, 10, 128)\n",
            "(32, 1, 128)\n",
            "(32, 128) (32, 1280) (32, 128)\n"
          ]
        },
        {
          "output_type": "stream",
          "name": "stderr",
          "text": [
            "WARNING:tensorflow:Gradients do not exist for variables ['tf_bert_model_32/bert/pooler/dense/kernel:0', 'tf_bert_model_32/bert/pooler/dense/bias:0'] when minimizing the loss. If you're using `model.compile()`, did you forget to provide a `loss` argument?\n",
            "WARNING:tensorflow:Gradients do not exist for variables ['tf_bert_model_32/bert/pooler/dense/kernel:0', 'tf_bert_model_32/bert/pooler/dense/bias:0'] when minimizing the loss. If you're using `model.compile()`, did you forget to provide a `loss` argument?\n"
          ]
        },
        {
          "output_type": "stream",
          "name": "stdout",
          "text": [
            "(32, 10, 128)\n",
            "(32, 1, 128)\n",
            "(32, 128) (32, 1280) (32, 128)\n"
          ]
        },
        {
          "output_type": "stream",
          "name": "stderr",
          "text": [
            "WARNING:tensorflow:Gradients do not exist for variables ['tf_bert_model_32/bert/pooler/dense/kernel:0', 'tf_bert_model_32/bert/pooler/dense/bias:0'] when minimizing the loss. If you're using `model.compile()`, did you forget to provide a `loss` argument?\n",
            "WARNING:tensorflow:Gradients do not exist for variables ['tf_bert_model_32/bert/pooler/dense/kernel:0', 'tf_bert_model_32/bert/pooler/dense/bias:0'] when minimizing the loss. If you're using `model.compile()`, did you forget to provide a `loss` argument?\n"
          ]
        },
        {
          "output_type": "stream",
          "name": "stdout",
          "text": [
            "(32, 10, 128)\n",
            "(32, 1, 128)\n",
            "(32, 128) (32, 1280) (32, 128)\n"
          ]
        },
        {
          "output_type": "stream",
          "name": "stderr",
          "text": [
            "WARNING:tensorflow:Gradients do not exist for variables ['tf_bert_model_32/bert/pooler/dense/kernel:0', 'tf_bert_model_32/bert/pooler/dense/bias:0'] when minimizing the loss. If you're using `model.compile()`, did you forget to provide a `loss` argument?\n",
            "WARNING:tensorflow:Gradients do not exist for variables ['tf_bert_model_32/bert/pooler/dense/kernel:0', 'tf_bert_model_32/bert/pooler/dense/bias:0'] when minimizing the loss. If you're using `model.compile()`, did you forget to provide a `loss` argument?\n"
          ]
        },
        {
          "output_type": "stream",
          "name": "stdout",
          "text": [
            "(32, 10, 128)\n",
            "(32, 1, 128)\n",
            "(32, 128) (32, 1280) (32, 128)\n"
          ]
        },
        {
          "output_type": "stream",
          "name": "stderr",
          "text": [
            "WARNING:tensorflow:Gradients do not exist for variables ['tf_bert_model_32/bert/pooler/dense/kernel:0', 'tf_bert_model_32/bert/pooler/dense/bias:0'] when minimizing the loss. If you're using `model.compile()`, did you forget to provide a `loss` argument?\n",
            "WARNING:tensorflow:Gradients do not exist for variables ['tf_bert_model_32/bert/pooler/dense/kernel:0', 'tf_bert_model_32/bert/pooler/dense/bias:0'] when minimizing the loss. If you're using `model.compile()`, did you forget to provide a `loss` argument?\n"
          ]
        },
        {
          "output_type": "stream",
          "name": "stdout",
          "text": [
            "(32, 10, 128)\n",
            "(32, 1, 128)\n",
            "(32, 128) (32, 1280) (32, 128)\n"
          ]
        },
        {
          "output_type": "stream",
          "name": "stderr",
          "text": [
            "WARNING:tensorflow:Gradients do not exist for variables ['tf_bert_model_32/bert/pooler/dense/kernel:0', 'tf_bert_model_32/bert/pooler/dense/bias:0'] when minimizing the loss. If you're using `model.compile()`, did you forget to provide a `loss` argument?\n",
            "WARNING:tensorflow:Gradients do not exist for variables ['tf_bert_model_32/bert/pooler/dense/kernel:0', 'tf_bert_model_32/bert/pooler/dense/bias:0'] when minimizing the loss. If you're using `model.compile()`, did you forget to provide a `loss` argument?\n"
          ]
        },
        {
          "output_type": "stream",
          "name": "stdout",
          "text": [
            "(32, 10, 128)\n",
            "(32, 1, 128)\n",
            "(32, 128) (32, 1280) (32, 128)\n"
          ]
        },
        {
          "output_type": "stream",
          "name": "stderr",
          "text": [
            "WARNING:tensorflow:Gradients do not exist for variables ['tf_bert_model_32/bert/pooler/dense/kernel:0', 'tf_bert_model_32/bert/pooler/dense/bias:0'] when minimizing the loss. If you're using `model.compile()`, did you forget to provide a `loss` argument?\n",
            "WARNING:tensorflow:Gradients do not exist for variables ['tf_bert_model_32/bert/pooler/dense/kernel:0', 'tf_bert_model_32/bert/pooler/dense/bias:0'] when minimizing the loss. If you're using `model.compile()`, did you forget to provide a `loss` argument?\n"
          ]
        },
        {
          "output_type": "stream",
          "name": "stdout",
          "text": [
            "(32, 10, 128)\n",
            "(32, 1, 128)\n",
            "(32, 128) (32, 1280) (32, 128)\n"
          ]
        },
        {
          "output_type": "stream",
          "name": "stderr",
          "text": [
            "WARNING:tensorflow:Gradients do not exist for variables ['tf_bert_model_32/bert/pooler/dense/kernel:0', 'tf_bert_model_32/bert/pooler/dense/bias:0'] when minimizing the loss. If you're using `model.compile()`, did you forget to provide a `loss` argument?\n",
            "WARNING:tensorflow:Gradients do not exist for variables ['tf_bert_model_32/bert/pooler/dense/kernel:0', 'tf_bert_model_32/bert/pooler/dense/bias:0'] when minimizing the loss. If you're using `model.compile()`, did you forget to provide a `loss` argument?\n"
          ]
        },
        {
          "output_type": "stream",
          "name": "stdout",
          "text": [
            "(32, 10, 128)\n",
            "(32, 1, 128)\n",
            "(32, 128) (32, 1280) (32, 128)\n"
          ]
        },
        {
          "output_type": "stream",
          "name": "stderr",
          "text": [
            "WARNING:tensorflow:Gradients do not exist for variables ['tf_bert_model_32/bert/pooler/dense/kernel:0', 'tf_bert_model_32/bert/pooler/dense/bias:0'] when minimizing the loss. If you're using `model.compile()`, did you forget to provide a `loss` argument?\n",
            "WARNING:tensorflow:Gradients do not exist for variables ['tf_bert_model_32/bert/pooler/dense/kernel:0', 'tf_bert_model_32/bert/pooler/dense/bias:0'] when minimizing the loss. If you're using `model.compile()`, did you forget to provide a `loss` argument?\n"
          ]
        },
        {
          "output_type": "stream",
          "name": "stdout",
          "text": [
            "(32, 10, 128)\n",
            "(32, 1, 128)\n",
            "(32, 128) (32, 1280) (32, 128)\n"
          ]
        },
        {
          "output_type": "stream",
          "name": "stderr",
          "text": [
            "WARNING:tensorflow:Gradients do not exist for variables ['tf_bert_model_32/bert/pooler/dense/kernel:0', 'tf_bert_model_32/bert/pooler/dense/bias:0'] when minimizing the loss. If you're using `model.compile()`, did you forget to provide a `loss` argument?\n",
            "WARNING:tensorflow:Gradients do not exist for variables ['tf_bert_model_32/bert/pooler/dense/kernel:0', 'tf_bert_model_32/bert/pooler/dense/bias:0'] when minimizing the loss. If you're using `model.compile()`, did you forget to provide a `loss` argument?\n"
          ]
        },
        {
          "output_type": "stream",
          "name": "stdout",
          "text": [
            "Epoch 4/10 | Step 30/31 | Loss: 0.4596\n",
            "(32, 10, 128)\n",
            "(32, 1, 128)\n",
            "(32, 128) (32, 1280) (32, 128)\n"
          ]
        },
        {
          "output_type": "stream",
          "name": "stderr",
          "text": [
            "WARNING:tensorflow:Gradients do not exist for variables ['tf_bert_model_32/bert/pooler/dense/kernel:0', 'tf_bert_model_32/bert/pooler/dense/bias:0'] when minimizing the loss. If you're using `model.compile()`, did you forget to provide a `loss` argument?\n",
            "WARNING:tensorflow:Gradients do not exist for variables ['tf_bert_model_32/bert/pooler/dense/kernel:0', 'tf_bert_model_32/bert/pooler/dense/bias:0'] when minimizing the loss. If you're using `model.compile()`, did you forget to provide a `loss` argument?\n"
          ]
        },
        {
          "output_type": "stream",
          "name": "stdout",
          "text": [
            "(32, 10, 128)\n",
            "(32, 1, 128)\n",
            "(32, 128) (32, 1280) (32, 128)\n"
          ]
        },
        {
          "output_type": "stream",
          "name": "stderr",
          "text": [
            "WARNING:tensorflow:Gradients do not exist for variables ['tf_bert_model_32/bert/pooler/dense/kernel:0', 'tf_bert_model_32/bert/pooler/dense/bias:0'] when minimizing the loss. If you're using `model.compile()`, did you forget to provide a `loss` argument?\n",
            "WARNING:tensorflow:Gradients do not exist for variables ['tf_bert_model_32/bert/pooler/dense/kernel:0', 'tf_bert_model_32/bert/pooler/dense/bias:0'] when minimizing the loss. If you're using `model.compile()`, did you forget to provide a `loss` argument?\n"
          ]
        },
        {
          "output_type": "stream",
          "name": "stdout",
          "text": [
            "(32, 10, 128)\n",
            "(32, 1, 128)\n",
            "(32, 128) (32, 1280) (32, 128)\n"
          ]
        },
        {
          "output_type": "stream",
          "name": "stderr",
          "text": [
            "WARNING:tensorflow:Gradients do not exist for variables ['tf_bert_model_32/bert/pooler/dense/kernel:0', 'tf_bert_model_32/bert/pooler/dense/bias:0'] when minimizing the loss. If you're using `model.compile()`, did you forget to provide a `loss` argument?\n",
            "WARNING:tensorflow:Gradients do not exist for variables ['tf_bert_model_32/bert/pooler/dense/kernel:0', 'tf_bert_model_32/bert/pooler/dense/bias:0'] when minimizing the loss. If you're using `model.compile()`, did you forget to provide a `loss` argument?\n"
          ]
        },
        {
          "output_type": "stream",
          "name": "stdout",
          "text": [
            "(32, 10, 128)\n",
            "(32, 1, 128)\n",
            "(32, 128) (32, 1280) (32, 128)\n"
          ]
        },
        {
          "output_type": "stream",
          "name": "stderr",
          "text": [
            "WARNING:tensorflow:Gradients do not exist for variables ['tf_bert_model_32/bert/pooler/dense/kernel:0', 'tf_bert_model_32/bert/pooler/dense/bias:0'] when minimizing the loss. If you're using `model.compile()`, did you forget to provide a `loss` argument?\n",
            "WARNING:tensorflow:Gradients do not exist for variables ['tf_bert_model_32/bert/pooler/dense/kernel:0', 'tf_bert_model_32/bert/pooler/dense/bias:0'] when minimizing the loss. If you're using `model.compile()`, did you forget to provide a `loss` argument?\n"
          ]
        },
        {
          "output_type": "stream",
          "name": "stdout",
          "text": [
            "(32, 10, 128)\n",
            "(32, 1, 128)\n",
            "(32, 128) (32, 1280) (32, 128)\n"
          ]
        },
        {
          "output_type": "stream",
          "name": "stderr",
          "text": [
            "WARNING:tensorflow:Gradients do not exist for variables ['tf_bert_model_32/bert/pooler/dense/kernel:0', 'tf_bert_model_32/bert/pooler/dense/bias:0'] when minimizing the loss. If you're using `model.compile()`, did you forget to provide a `loss` argument?\n",
            "WARNING:tensorflow:Gradients do not exist for variables ['tf_bert_model_32/bert/pooler/dense/kernel:0', 'tf_bert_model_32/bert/pooler/dense/bias:0'] when minimizing the loss. If you're using `model.compile()`, did you forget to provide a `loss` argument?\n"
          ]
        },
        {
          "output_type": "stream",
          "name": "stdout",
          "text": [
            "(32, 10, 128)\n",
            "(32, 1, 128)\n",
            "(32, 128) (32, 1280) (32, 128)\n"
          ]
        },
        {
          "output_type": "stream",
          "name": "stderr",
          "text": [
            "WARNING:tensorflow:Gradients do not exist for variables ['tf_bert_model_32/bert/pooler/dense/kernel:0', 'tf_bert_model_32/bert/pooler/dense/bias:0'] when minimizing the loss. If you're using `model.compile()`, did you forget to provide a `loss` argument?\n",
            "WARNING:tensorflow:Gradients do not exist for variables ['tf_bert_model_32/bert/pooler/dense/kernel:0', 'tf_bert_model_32/bert/pooler/dense/bias:0'] when minimizing the loss. If you're using `model.compile()`, did you forget to provide a `loss` argument?\n"
          ]
        },
        {
          "output_type": "stream",
          "name": "stdout",
          "text": [
            "(32, 10, 128)\n",
            "(32, 1, 128)\n",
            "(32, 128) (32, 1280) (32, 128)\n"
          ]
        },
        {
          "output_type": "stream",
          "name": "stderr",
          "text": [
            "WARNING:tensorflow:Gradients do not exist for variables ['tf_bert_model_32/bert/pooler/dense/kernel:0', 'tf_bert_model_32/bert/pooler/dense/bias:0'] when minimizing the loss. If you're using `model.compile()`, did you forget to provide a `loss` argument?\n",
            "WARNING:tensorflow:Gradients do not exist for variables ['tf_bert_model_32/bert/pooler/dense/kernel:0', 'tf_bert_model_32/bert/pooler/dense/bias:0'] when minimizing the loss. If you're using `model.compile()`, did you forget to provide a `loss` argument?\n"
          ]
        },
        {
          "output_type": "stream",
          "name": "stdout",
          "text": [
            "(32, 10, 128)\n",
            "(32, 1, 128)\n",
            "(32, 128) (32, 1280) (32, 128)\n"
          ]
        },
        {
          "output_type": "stream",
          "name": "stderr",
          "text": [
            "WARNING:tensorflow:Gradients do not exist for variables ['tf_bert_model_32/bert/pooler/dense/kernel:0', 'tf_bert_model_32/bert/pooler/dense/bias:0'] when minimizing the loss. If you're using `model.compile()`, did you forget to provide a `loss` argument?\n",
            "WARNING:tensorflow:Gradients do not exist for variables ['tf_bert_model_32/bert/pooler/dense/kernel:0', 'tf_bert_model_32/bert/pooler/dense/bias:0'] when minimizing the loss. If you're using `model.compile()`, did you forget to provide a `loss` argument?\n"
          ]
        },
        {
          "output_type": "stream",
          "name": "stdout",
          "text": [
            "(32, 10, 128)\n",
            "(32, 1, 128)\n",
            "(32, 128) (32, 1280) (32, 128)\n"
          ]
        },
        {
          "output_type": "stream",
          "name": "stderr",
          "text": [
            "WARNING:tensorflow:Gradients do not exist for variables ['tf_bert_model_32/bert/pooler/dense/kernel:0', 'tf_bert_model_32/bert/pooler/dense/bias:0'] when minimizing the loss. If you're using `model.compile()`, did you forget to provide a `loss` argument?\n",
            "WARNING:tensorflow:Gradients do not exist for variables ['tf_bert_model_32/bert/pooler/dense/kernel:0', 'tf_bert_model_32/bert/pooler/dense/bias:0'] when minimizing the loss. If you're using `model.compile()`, did you forget to provide a `loss` argument?\n"
          ]
        },
        {
          "output_type": "stream",
          "name": "stdout",
          "text": [
            "(32, 10, 128)\n",
            "(32, 1, 128)\n",
            "(32, 128) (32, 1280) (32, 128)\n"
          ]
        },
        {
          "output_type": "stream",
          "name": "stderr",
          "text": [
            "WARNING:tensorflow:Gradients do not exist for variables ['tf_bert_model_32/bert/pooler/dense/kernel:0', 'tf_bert_model_32/bert/pooler/dense/bias:0'] when minimizing the loss. If you're using `model.compile()`, did you forget to provide a `loss` argument?\n",
            "WARNING:tensorflow:Gradients do not exist for variables ['tf_bert_model_32/bert/pooler/dense/kernel:0', 'tf_bert_model_32/bert/pooler/dense/bias:0'] when minimizing the loss. If you're using `model.compile()`, did you forget to provide a `loss` argument?\n"
          ]
        },
        {
          "output_type": "stream",
          "name": "stdout",
          "text": [
            "(32, 10, 128)\n",
            "(32, 1, 128)\n",
            "(32, 128) (32, 1280) (32, 128)\n"
          ]
        },
        {
          "output_type": "stream",
          "name": "stderr",
          "text": [
            "WARNING:tensorflow:Gradients do not exist for variables ['tf_bert_model_32/bert/pooler/dense/kernel:0', 'tf_bert_model_32/bert/pooler/dense/bias:0'] when minimizing the loss. If you're using `model.compile()`, did you forget to provide a `loss` argument?\n",
            "WARNING:tensorflow:Gradients do not exist for variables ['tf_bert_model_32/bert/pooler/dense/kernel:0', 'tf_bert_model_32/bert/pooler/dense/bias:0'] when minimizing the loss. If you're using `model.compile()`, did you forget to provide a `loss` argument?\n"
          ]
        },
        {
          "output_type": "stream",
          "name": "stdout",
          "text": [
            "Epoch 5/10 | Step 10/31 | Loss: 0.4377\n",
            "(32, 10, 128)\n",
            "(32, 1, 128)\n",
            "(32, 128) (32, 1280) (32, 128)\n"
          ]
        },
        {
          "output_type": "stream",
          "name": "stderr",
          "text": [
            "WARNING:tensorflow:Gradients do not exist for variables ['tf_bert_model_32/bert/pooler/dense/kernel:0', 'tf_bert_model_32/bert/pooler/dense/bias:0'] when minimizing the loss. If you're using `model.compile()`, did you forget to provide a `loss` argument?\n",
            "WARNING:tensorflow:Gradients do not exist for variables ['tf_bert_model_32/bert/pooler/dense/kernel:0', 'tf_bert_model_32/bert/pooler/dense/bias:0'] when minimizing the loss. If you're using `model.compile()`, did you forget to provide a `loss` argument?\n"
          ]
        },
        {
          "output_type": "stream",
          "name": "stdout",
          "text": [
            "(32, 10, 128)\n",
            "(32, 1, 128)\n",
            "(32, 128) (32, 1280) (32, 128)\n"
          ]
        },
        {
          "output_type": "stream",
          "name": "stderr",
          "text": [
            "WARNING:tensorflow:Gradients do not exist for variables ['tf_bert_model_32/bert/pooler/dense/kernel:0', 'tf_bert_model_32/bert/pooler/dense/bias:0'] when minimizing the loss. If you're using `model.compile()`, did you forget to provide a `loss` argument?\n",
            "WARNING:tensorflow:Gradients do not exist for variables ['tf_bert_model_32/bert/pooler/dense/kernel:0', 'tf_bert_model_32/bert/pooler/dense/bias:0'] when minimizing the loss. If you're using `model.compile()`, did you forget to provide a `loss` argument?\n"
          ]
        },
        {
          "output_type": "stream",
          "name": "stdout",
          "text": [
            "(32, 10, 128)\n",
            "(32, 1, 128)\n",
            "(32, 128) (32, 1280) (32, 128)\n"
          ]
        },
        {
          "output_type": "stream",
          "name": "stderr",
          "text": [
            "WARNING:tensorflow:Gradients do not exist for variables ['tf_bert_model_32/bert/pooler/dense/kernel:0', 'tf_bert_model_32/bert/pooler/dense/bias:0'] when minimizing the loss. If you're using `model.compile()`, did you forget to provide a `loss` argument?\n",
            "WARNING:tensorflow:Gradients do not exist for variables ['tf_bert_model_32/bert/pooler/dense/kernel:0', 'tf_bert_model_32/bert/pooler/dense/bias:0'] when minimizing the loss. If you're using `model.compile()`, did you forget to provide a `loss` argument?\n"
          ]
        },
        {
          "output_type": "stream",
          "name": "stdout",
          "text": [
            "(32, 10, 128)\n",
            "(32, 1, 128)\n",
            "(32, 128) (32, 1280) (32, 128)\n"
          ]
        },
        {
          "output_type": "stream",
          "name": "stderr",
          "text": [
            "WARNING:tensorflow:Gradients do not exist for variables ['tf_bert_model_32/bert/pooler/dense/kernel:0', 'tf_bert_model_32/bert/pooler/dense/bias:0'] when minimizing the loss. If you're using `model.compile()`, did you forget to provide a `loss` argument?\n",
            "WARNING:tensorflow:Gradients do not exist for variables ['tf_bert_model_32/bert/pooler/dense/kernel:0', 'tf_bert_model_32/bert/pooler/dense/bias:0'] when minimizing the loss. If you're using `model.compile()`, did you forget to provide a `loss` argument?\n"
          ]
        },
        {
          "output_type": "stream",
          "name": "stdout",
          "text": [
            "(32, 10, 128)\n",
            "(32, 1, 128)\n",
            "(32, 128) (32, 1280) (32, 128)\n"
          ]
        },
        {
          "output_type": "stream",
          "name": "stderr",
          "text": [
            "WARNING:tensorflow:Gradients do not exist for variables ['tf_bert_model_32/bert/pooler/dense/kernel:0', 'tf_bert_model_32/bert/pooler/dense/bias:0'] when minimizing the loss. If you're using `model.compile()`, did you forget to provide a `loss` argument?\n",
            "WARNING:tensorflow:Gradients do not exist for variables ['tf_bert_model_32/bert/pooler/dense/kernel:0', 'tf_bert_model_32/bert/pooler/dense/bias:0'] when minimizing the loss. If you're using `model.compile()`, did you forget to provide a `loss` argument?\n"
          ]
        },
        {
          "output_type": "stream",
          "name": "stdout",
          "text": [
            "(32, 10, 128)\n",
            "(32, 1, 128)\n",
            "(32, 128) (32, 1280) (32, 128)\n"
          ]
        },
        {
          "output_type": "stream",
          "name": "stderr",
          "text": [
            "WARNING:tensorflow:Gradients do not exist for variables ['tf_bert_model_32/bert/pooler/dense/kernel:0', 'tf_bert_model_32/bert/pooler/dense/bias:0'] when minimizing the loss. If you're using `model.compile()`, did you forget to provide a `loss` argument?\n",
            "WARNING:tensorflow:Gradients do not exist for variables ['tf_bert_model_32/bert/pooler/dense/kernel:0', 'tf_bert_model_32/bert/pooler/dense/bias:0'] when minimizing the loss. If you're using `model.compile()`, did you forget to provide a `loss` argument?\n"
          ]
        },
        {
          "output_type": "stream",
          "name": "stdout",
          "text": [
            "(32, 10, 128)\n",
            "(32, 1, 128)\n",
            "(32, 128) (32, 1280) (32, 128)\n"
          ]
        },
        {
          "output_type": "stream",
          "name": "stderr",
          "text": [
            "WARNING:tensorflow:Gradients do not exist for variables ['tf_bert_model_32/bert/pooler/dense/kernel:0', 'tf_bert_model_32/bert/pooler/dense/bias:0'] when minimizing the loss. If you're using `model.compile()`, did you forget to provide a `loss` argument?\n",
            "WARNING:tensorflow:Gradients do not exist for variables ['tf_bert_model_32/bert/pooler/dense/kernel:0', 'tf_bert_model_32/bert/pooler/dense/bias:0'] when minimizing the loss. If you're using `model.compile()`, did you forget to provide a `loss` argument?\n"
          ]
        },
        {
          "output_type": "stream",
          "name": "stdout",
          "text": [
            "(32, 10, 128)\n",
            "(32, 1, 128)\n",
            "(32, 128) (32, 1280) (32, 128)\n"
          ]
        },
        {
          "output_type": "stream",
          "name": "stderr",
          "text": [
            "WARNING:tensorflow:Gradients do not exist for variables ['tf_bert_model_32/bert/pooler/dense/kernel:0', 'tf_bert_model_32/bert/pooler/dense/bias:0'] when minimizing the loss. If you're using `model.compile()`, did you forget to provide a `loss` argument?\n",
            "WARNING:tensorflow:Gradients do not exist for variables ['tf_bert_model_32/bert/pooler/dense/kernel:0', 'tf_bert_model_32/bert/pooler/dense/bias:0'] when minimizing the loss. If you're using `model.compile()`, did you forget to provide a `loss` argument?\n"
          ]
        },
        {
          "output_type": "stream",
          "name": "stdout",
          "text": [
            "(32, 10, 128)\n",
            "(32, 1, 128)\n",
            "(32, 128) (32, 1280) (32, 128)\n"
          ]
        },
        {
          "output_type": "stream",
          "name": "stderr",
          "text": [
            "WARNING:tensorflow:Gradients do not exist for variables ['tf_bert_model_32/bert/pooler/dense/kernel:0', 'tf_bert_model_32/bert/pooler/dense/bias:0'] when minimizing the loss. If you're using `model.compile()`, did you forget to provide a `loss` argument?\n",
            "WARNING:tensorflow:Gradients do not exist for variables ['tf_bert_model_32/bert/pooler/dense/kernel:0', 'tf_bert_model_32/bert/pooler/dense/bias:0'] when minimizing the loss. If you're using `model.compile()`, did you forget to provide a `loss` argument?\n"
          ]
        },
        {
          "output_type": "stream",
          "name": "stdout",
          "text": [
            "(32, 10, 128)\n",
            "(32, 1, 128)\n",
            "(32, 128) (32, 1280) (32, 128)\n"
          ]
        },
        {
          "output_type": "stream",
          "name": "stderr",
          "text": [
            "WARNING:tensorflow:Gradients do not exist for variables ['tf_bert_model_32/bert/pooler/dense/kernel:0', 'tf_bert_model_32/bert/pooler/dense/bias:0'] when minimizing the loss. If you're using `model.compile()`, did you forget to provide a `loss` argument?\n",
            "WARNING:tensorflow:Gradients do not exist for variables ['tf_bert_model_32/bert/pooler/dense/kernel:0', 'tf_bert_model_32/bert/pooler/dense/bias:0'] when minimizing the loss. If you're using `model.compile()`, did you forget to provide a `loss` argument?\n"
          ]
        },
        {
          "output_type": "stream",
          "name": "stdout",
          "text": [
            "Epoch 5/10 | Step 20/31 | Loss: 0.4042\n",
            "(32, 10, 128)\n",
            "(32, 1, 128)\n",
            "(32, 128) (32, 1280) (32, 128)\n"
          ]
        },
        {
          "output_type": "stream",
          "name": "stderr",
          "text": [
            "WARNING:tensorflow:Gradients do not exist for variables ['tf_bert_model_32/bert/pooler/dense/kernel:0', 'tf_bert_model_32/bert/pooler/dense/bias:0'] when minimizing the loss. If you're using `model.compile()`, did you forget to provide a `loss` argument?\n",
            "WARNING:tensorflow:Gradients do not exist for variables ['tf_bert_model_32/bert/pooler/dense/kernel:0', 'tf_bert_model_32/bert/pooler/dense/bias:0'] when minimizing the loss. If you're using `model.compile()`, did you forget to provide a `loss` argument?\n"
          ]
        },
        {
          "output_type": "stream",
          "name": "stdout",
          "text": [
            "(32, 10, 128)\n",
            "(32, 1, 128)\n",
            "(32, 128) (32, 1280) (32, 128)\n"
          ]
        },
        {
          "output_type": "stream",
          "name": "stderr",
          "text": [
            "WARNING:tensorflow:Gradients do not exist for variables ['tf_bert_model_32/bert/pooler/dense/kernel:0', 'tf_bert_model_32/bert/pooler/dense/bias:0'] when minimizing the loss. If you're using `model.compile()`, did you forget to provide a `loss` argument?\n",
            "WARNING:tensorflow:Gradients do not exist for variables ['tf_bert_model_32/bert/pooler/dense/kernel:0', 'tf_bert_model_32/bert/pooler/dense/bias:0'] when minimizing the loss. If you're using `model.compile()`, did you forget to provide a `loss` argument?\n"
          ]
        },
        {
          "output_type": "stream",
          "name": "stdout",
          "text": [
            "(32, 10, 128)\n",
            "(32, 1, 128)\n",
            "(32, 128) (32, 1280) (32, 128)\n"
          ]
        },
        {
          "output_type": "stream",
          "name": "stderr",
          "text": [
            "WARNING:tensorflow:Gradients do not exist for variables ['tf_bert_model_32/bert/pooler/dense/kernel:0', 'tf_bert_model_32/bert/pooler/dense/bias:0'] when minimizing the loss. If you're using `model.compile()`, did you forget to provide a `loss` argument?\n",
            "WARNING:tensorflow:Gradients do not exist for variables ['tf_bert_model_32/bert/pooler/dense/kernel:0', 'tf_bert_model_32/bert/pooler/dense/bias:0'] when minimizing the loss. If you're using `model.compile()`, did you forget to provide a `loss` argument?\n"
          ]
        },
        {
          "output_type": "stream",
          "name": "stdout",
          "text": [
            "(32, 10, 128)\n",
            "(32, 1, 128)\n",
            "(32, 128) (32, 1280) (32, 128)\n"
          ]
        },
        {
          "output_type": "stream",
          "name": "stderr",
          "text": [
            "WARNING:tensorflow:Gradients do not exist for variables ['tf_bert_model_32/bert/pooler/dense/kernel:0', 'tf_bert_model_32/bert/pooler/dense/bias:0'] when minimizing the loss. If you're using `model.compile()`, did you forget to provide a `loss` argument?\n",
            "WARNING:tensorflow:Gradients do not exist for variables ['tf_bert_model_32/bert/pooler/dense/kernel:0', 'tf_bert_model_32/bert/pooler/dense/bias:0'] when minimizing the loss. If you're using `model.compile()`, did you forget to provide a `loss` argument?\n"
          ]
        },
        {
          "output_type": "stream",
          "name": "stdout",
          "text": [
            "(32, 10, 128)\n",
            "(32, 1, 128)\n",
            "(32, 128) (32, 1280) (32, 128)\n"
          ]
        },
        {
          "output_type": "stream",
          "name": "stderr",
          "text": [
            "WARNING:tensorflow:Gradients do not exist for variables ['tf_bert_model_32/bert/pooler/dense/kernel:0', 'tf_bert_model_32/bert/pooler/dense/bias:0'] when minimizing the loss. If you're using `model.compile()`, did you forget to provide a `loss` argument?\n",
            "WARNING:tensorflow:Gradients do not exist for variables ['tf_bert_model_32/bert/pooler/dense/kernel:0', 'tf_bert_model_32/bert/pooler/dense/bias:0'] when minimizing the loss. If you're using `model.compile()`, did you forget to provide a `loss` argument?\n"
          ]
        },
        {
          "output_type": "stream",
          "name": "stdout",
          "text": [
            "(32, 10, 128)\n",
            "(32, 1, 128)\n",
            "(32, 128) (32, 1280) (32, 128)\n"
          ]
        },
        {
          "output_type": "stream",
          "name": "stderr",
          "text": [
            "WARNING:tensorflow:Gradients do not exist for variables ['tf_bert_model_32/bert/pooler/dense/kernel:0', 'tf_bert_model_32/bert/pooler/dense/bias:0'] when minimizing the loss. If you're using `model.compile()`, did you forget to provide a `loss` argument?\n",
            "WARNING:tensorflow:Gradients do not exist for variables ['tf_bert_model_32/bert/pooler/dense/kernel:0', 'tf_bert_model_32/bert/pooler/dense/bias:0'] when minimizing the loss. If you're using `model.compile()`, did you forget to provide a `loss` argument?\n"
          ]
        },
        {
          "output_type": "stream",
          "name": "stdout",
          "text": [
            "(32, 10, 128)\n",
            "(32, 1, 128)\n",
            "(32, 128) (32, 1280) (32, 128)\n"
          ]
        },
        {
          "output_type": "stream",
          "name": "stderr",
          "text": [
            "WARNING:tensorflow:Gradients do not exist for variables ['tf_bert_model_32/bert/pooler/dense/kernel:0', 'tf_bert_model_32/bert/pooler/dense/bias:0'] when minimizing the loss. If you're using `model.compile()`, did you forget to provide a `loss` argument?\n",
            "WARNING:tensorflow:Gradients do not exist for variables ['tf_bert_model_32/bert/pooler/dense/kernel:0', 'tf_bert_model_32/bert/pooler/dense/bias:0'] when minimizing the loss. If you're using `model.compile()`, did you forget to provide a `loss` argument?\n"
          ]
        },
        {
          "output_type": "stream",
          "name": "stdout",
          "text": [
            "(32, 10, 128)\n",
            "(32, 1, 128)\n",
            "(32, 128) (32, 1280) (32, 128)\n"
          ]
        },
        {
          "output_type": "stream",
          "name": "stderr",
          "text": [
            "WARNING:tensorflow:Gradients do not exist for variables ['tf_bert_model_32/bert/pooler/dense/kernel:0', 'tf_bert_model_32/bert/pooler/dense/bias:0'] when minimizing the loss. If you're using `model.compile()`, did you forget to provide a `loss` argument?\n",
            "WARNING:tensorflow:Gradients do not exist for variables ['tf_bert_model_32/bert/pooler/dense/kernel:0', 'tf_bert_model_32/bert/pooler/dense/bias:0'] when minimizing the loss. If you're using `model.compile()`, did you forget to provide a `loss` argument?\n"
          ]
        },
        {
          "output_type": "stream",
          "name": "stdout",
          "text": [
            "(32, 10, 128)\n",
            "(32, 1, 128)\n",
            "(32, 128) (32, 1280) (32, 128)\n"
          ]
        },
        {
          "output_type": "stream",
          "name": "stderr",
          "text": [
            "WARNING:tensorflow:Gradients do not exist for variables ['tf_bert_model_32/bert/pooler/dense/kernel:0', 'tf_bert_model_32/bert/pooler/dense/bias:0'] when minimizing the loss. If you're using `model.compile()`, did you forget to provide a `loss` argument?\n",
            "WARNING:tensorflow:Gradients do not exist for variables ['tf_bert_model_32/bert/pooler/dense/kernel:0', 'tf_bert_model_32/bert/pooler/dense/bias:0'] when minimizing the loss. If you're using `model.compile()`, did you forget to provide a `loss` argument?\n"
          ]
        },
        {
          "output_type": "stream",
          "name": "stdout",
          "text": [
            "(32, 10, 128)\n",
            "(32, 1, 128)\n",
            "(32, 128) (32, 1280) (32, 128)\n"
          ]
        },
        {
          "output_type": "stream",
          "name": "stderr",
          "text": [
            "WARNING:tensorflow:Gradients do not exist for variables ['tf_bert_model_32/bert/pooler/dense/kernel:0', 'tf_bert_model_32/bert/pooler/dense/bias:0'] when minimizing the loss. If you're using `model.compile()`, did you forget to provide a `loss` argument?\n",
            "WARNING:tensorflow:Gradients do not exist for variables ['tf_bert_model_32/bert/pooler/dense/kernel:0', 'tf_bert_model_32/bert/pooler/dense/bias:0'] when minimizing the loss. If you're using `model.compile()`, did you forget to provide a `loss` argument?\n"
          ]
        },
        {
          "output_type": "stream",
          "name": "stdout",
          "text": [
            "Epoch 5/10 | Step 30/31 | Loss: 0.3316\n",
            "(32, 10, 128)\n",
            "(32, 1, 128)\n",
            "(32, 128) (32, 1280) (32, 128)\n"
          ]
        },
        {
          "output_type": "stream",
          "name": "stderr",
          "text": [
            "WARNING:tensorflow:Gradients do not exist for variables ['tf_bert_model_32/bert/pooler/dense/kernel:0', 'tf_bert_model_32/bert/pooler/dense/bias:0'] when minimizing the loss. If you're using `model.compile()`, did you forget to provide a `loss` argument?\n",
            "WARNING:tensorflow:Gradients do not exist for variables ['tf_bert_model_32/bert/pooler/dense/kernel:0', 'tf_bert_model_32/bert/pooler/dense/bias:0'] when minimizing the loss. If you're using `model.compile()`, did you forget to provide a `loss` argument?\n"
          ]
        },
        {
          "output_type": "stream",
          "name": "stdout",
          "text": [
            "(32, 10, 128)\n",
            "(32, 1, 128)\n",
            "(32, 128) (32, 1280) (32, 128)\n"
          ]
        },
        {
          "output_type": "stream",
          "name": "stderr",
          "text": [
            "WARNING:tensorflow:Gradients do not exist for variables ['tf_bert_model_32/bert/pooler/dense/kernel:0', 'tf_bert_model_32/bert/pooler/dense/bias:0'] when minimizing the loss. If you're using `model.compile()`, did you forget to provide a `loss` argument?\n",
            "WARNING:tensorflow:Gradients do not exist for variables ['tf_bert_model_32/bert/pooler/dense/kernel:0', 'tf_bert_model_32/bert/pooler/dense/bias:0'] when minimizing the loss. If you're using `model.compile()`, did you forget to provide a `loss` argument?\n"
          ]
        },
        {
          "output_type": "stream",
          "name": "stdout",
          "text": [
            "(32, 10, 128)\n",
            "(32, 1, 128)\n",
            "(32, 128) (32, 1280) (32, 128)\n"
          ]
        },
        {
          "output_type": "stream",
          "name": "stderr",
          "text": [
            "WARNING:tensorflow:Gradients do not exist for variables ['tf_bert_model_32/bert/pooler/dense/kernel:0', 'tf_bert_model_32/bert/pooler/dense/bias:0'] when minimizing the loss. If you're using `model.compile()`, did you forget to provide a `loss` argument?\n",
            "WARNING:tensorflow:Gradients do not exist for variables ['tf_bert_model_32/bert/pooler/dense/kernel:0', 'tf_bert_model_32/bert/pooler/dense/bias:0'] when minimizing the loss. If you're using `model.compile()`, did you forget to provide a `loss` argument?\n"
          ]
        },
        {
          "output_type": "stream",
          "name": "stdout",
          "text": [
            "(32, 10, 128)\n",
            "(32, 1, 128)\n",
            "(32, 128) (32, 1280) (32, 128)\n"
          ]
        },
        {
          "output_type": "stream",
          "name": "stderr",
          "text": [
            "WARNING:tensorflow:Gradients do not exist for variables ['tf_bert_model_32/bert/pooler/dense/kernel:0', 'tf_bert_model_32/bert/pooler/dense/bias:0'] when minimizing the loss. If you're using `model.compile()`, did you forget to provide a `loss` argument?\n",
            "WARNING:tensorflow:Gradients do not exist for variables ['tf_bert_model_32/bert/pooler/dense/kernel:0', 'tf_bert_model_32/bert/pooler/dense/bias:0'] when minimizing the loss. If you're using `model.compile()`, did you forget to provide a `loss` argument?\n"
          ]
        },
        {
          "output_type": "stream",
          "name": "stdout",
          "text": [
            "(32, 10, 128)\n",
            "(32, 1, 128)\n",
            "(32, 128) (32, 1280) (32, 128)\n"
          ]
        },
        {
          "output_type": "stream",
          "name": "stderr",
          "text": [
            "WARNING:tensorflow:Gradients do not exist for variables ['tf_bert_model_32/bert/pooler/dense/kernel:0', 'tf_bert_model_32/bert/pooler/dense/bias:0'] when minimizing the loss. If you're using `model.compile()`, did you forget to provide a `loss` argument?\n",
            "WARNING:tensorflow:Gradients do not exist for variables ['tf_bert_model_32/bert/pooler/dense/kernel:0', 'tf_bert_model_32/bert/pooler/dense/bias:0'] when minimizing the loss. If you're using `model.compile()`, did you forget to provide a `loss` argument?\n"
          ]
        },
        {
          "output_type": "stream",
          "name": "stdout",
          "text": [
            "(32, 10, 128)\n",
            "(32, 1, 128)\n",
            "(32, 128) (32, 1280) (32, 128)\n"
          ]
        },
        {
          "output_type": "stream",
          "name": "stderr",
          "text": [
            "WARNING:tensorflow:Gradients do not exist for variables ['tf_bert_model_32/bert/pooler/dense/kernel:0', 'tf_bert_model_32/bert/pooler/dense/bias:0'] when minimizing the loss. If you're using `model.compile()`, did you forget to provide a `loss` argument?\n",
            "WARNING:tensorflow:Gradients do not exist for variables ['tf_bert_model_32/bert/pooler/dense/kernel:0', 'tf_bert_model_32/bert/pooler/dense/bias:0'] when minimizing the loss. If you're using `model.compile()`, did you forget to provide a `loss` argument?\n"
          ]
        },
        {
          "output_type": "stream",
          "name": "stdout",
          "text": [
            "(32, 10, 128)\n",
            "(32, 1, 128)\n",
            "(32, 128) (32, 1280) (32, 128)\n"
          ]
        },
        {
          "output_type": "stream",
          "name": "stderr",
          "text": [
            "WARNING:tensorflow:Gradients do not exist for variables ['tf_bert_model_32/bert/pooler/dense/kernel:0', 'tf_bert_model_32/bert/pooler/dense/bias:0'] when minimizing the loss. If you're using `model.compile()`, did you forget to provide a `loss` argument?\n",
            "WARNING:tensorflow:Gradients do not exist for variables ['tf_bert_model_32/bert/pooler/dense/kernel:0', 'tf_bert_model_32/bert/pooler/dense/bias:0'] when minimizing the loss. If you're using `model.compile()`, did you forget to provide a `loss` argument?\n"
          ]
        },
        {
          "output_type": "stream",
          "name": "stdout",
          "text": [
            "(32, 10, 128)\n",
            "(32, 1, 128)\n",
            "(32, 128) (32, 1280) (32, 128)\n"
          ]
        },
        {
          "output_type": "stream",
          "name": "stderr",
          "text": [
            "WARNING:tensorflow:Gradients do not exist for variables ['tf_bert_model_32/bert/pooler/dense/kernel:0', 'tf_bert_model_32/bert/pooler/dense/bias:0'] when minimizing the loss. If you're using `model.compile()`, did you forget to provide a `loss` argument?\n",
            "WARNING:tensorflow:Gradients do not exist for variables ['tf_bert_model_32/bert/pooler/dense/kernel:0', 'tf_bert_model_32/bert/pooler/dense/bias:0'] when minimizing the loss. If you're using `model.compile()`, did you forget to provide a `loss` argument?\n"
          ]
        },
        {
          "output_type": "stream",
          "name": "stdout",
          "text": [
            "(32, 10, 128)\n",
            "(32, 1, 128)\n",
            "(32, 128) (32, 1280) (32, 128)\n"
          ]
        },
        {
          "output_type": "stream",
          "name": "stderr",
          "text": [
            "WARNING:tensorflow:Gradients do not exist for variables ['tf_bert_model_32/bert/pooler/dense/kernel:0', 'tf_bert_model_32/bert/pooler/dense/bias:0'] when minimizing the loss. If you're using `model.compile()`, did you forget to provide a `loss` argument?\n",
            "WARNING:tensorflow:Gradients do not exist for variables ['tf_bert_model_32/bert/pooler/dense/kernel:0', 'tf_bert_model_32/bert/pooler/dense/bias:0'] when minimizing the loss. If you're using `model.compile()`, did you forget to provide a `loss` argument?\n"
          ]
        },
        {
          "output_type": "stream",
          "name": "stdout",
          "text": [
            "(32, 10, 128)\n",
            "(32, 1, 128)\n",
            "(32, 128) (32, 1280) (32, 128)\n"
          ]
        },
        {
          "output_type": "stream",
          "name": "stderr",
          "text": [
            "WARNING:tensorflow:Gradients do not exist for variables ['tf_bert_model_32/bert/pooler/dense/kernel:0', 'tf_bert_model_32/bert/pooler/dense/bias:0'] when minimizing the loss. If you're using `model.compile()`, did you forget to provide a `loss` argument?\n",
            "WARNING:tensorflow:Gradients do not exist for variables ['tf_bert_model_32/bert/pooler/dense/kernel:0', 'tf_bert_model_32/bert/pooler/dense/bias:0'] when minimizing the loss. If you're using `model.compile()`, did you forget to provide a `loss` argument?\n"
          ]
        },
        {
          "output_type": "stream",
          "name": "stdout",
          "text": [
            "(32, 10, 128)\n",
            "(32, 1, 128)\n",
            "(32, 128) (32, 1280) (32, 128)\n"
          ]
        },
        {
          "output_type": "stream",
          "name": "stderr",
          "text": [
            "WARNING:tensorflow:Gradients do not exist for variables ['tf_bert_model_32/bert/pooler/dense/kernel:0', 'tf_bert_model_32/bert/pooler/dense/bias:0'] when minimizing the loss. If you're using `model.compile()`, did you forget to provide a `loss` argument?\n",
            "WARNING:tensorflow:Gradients do not exist for variables ['tf_bert_model_32/bert/pooler/dense/kernel:0', 'tf_bert_model_32/bert/pooler/dense/bias:0'] when minimizing the loss. If you're using `model.compile()`, did you forget to provide a `loss` argument?\n"
          ]
        },
        {
          "output_type": "stream",
          "name": "stdout",
          "text": [
            "Epoch 6/10 | Step 10/31 | Loss: 0.3311\n",
            "(32, 10, 128)\n",
            "(32, 1, 128)\n",
            "(32, 128) (32, 1280) (32, 128)\n"
          ]
        },
        {
          "output_type": "stream",
          "name": "stderr",
          "text": [
            "WARNING:tensorflow:Gradients do not exist for variables ['tf_bert_model_32/bert/pooler/dense/kernel:0', 'tf_bert_model_32/bert/pooler/dense/bias:0'] when minimizing the loss. If you're using `model.compile()`, did you forget to provide a `loss` argument?\n",
            "WARNING:tensorflow:Gradients do not exist for variables ['tf_bert_model_32/bert/pooler/dense/kernel:0', 'tf_bert_model_32/bert/pooler/dense/bias:0'] when minimizing the loss. If you're using `model.compile()`, did you forget to provide a `loss` argument?\n"
          ]
        },
        {
          "output_type": "stream",
          "name": "stdout",
          "text": [
            "(32, 10, 128)\n",
            "(32, 1, 128)\n",
            "(32, 128) (32, 1280) (32, 128)\n"
          ]
        },
        {
          "output_type": "stream",
          "name": "stderr",
          "text": [
            "WARNING:tensorflow:Gradients do not exist for variables ['tf_bert_model_32/bert/pooler/dense/kernel:0', 'tf_bert_model_32/bert/pooler/dense/bias:0'] when minimizing the loss. If you're using `model.compile()`, did you forget to provide a `loss` argument?\n",
            "WARNING:tensorflow:Gradients do not exist for variables ['tf_bert_model_32/bert/pooler/dense/kernel:0', 'tf_bert_model_32/bert/pooler/dense/bias:0'] when minimizing the loss. If you're using `model.compile()`, did you forget to provide a `loss` argument?\n"
          ]
        },
        {
          "output_type": "stream",
          "name": "stdout",
          "text": [
            "(32, 10, 128)\n",
            "(32, 1, 128)\n",
            "(32, 128) (32, 1280) (32, 128)\n"
          ]
        },
        {
          "output_type": "stream",
          "name": "stderr",
          "text": [
            "WARNING:tensorflow:Gradients do not exist for variables ['tf_bert_model_32/bert/pooler/dense/kernel:0', 'tf_bert_model_32/bert/pooler/dense/bias:0'] when minimizing the loss. If you're using `model.compile()`, did you forget to provide a `loss` argument?\n",
            "WARNING:tensorflow:Gradients do not exist for variables ['tf_bert_model_32/bert/pooler/dense/kernel:0', 'tf_bert_model_32/bert/pooler/dense/bias:0'] when minimizing the loss. If you're using `model.compile()`, did you forget to provide a `loss` argument?\n"
          ]
        },
        {
          "output_type": "stream",
          "name": "stdout",
          "text": [
            "(32, 10, 128)\n",
            "(32, 1, 128)\n",
            "(32, 128) (32, 1280) (32, 128)\n"
          ]
        },
        {
          "output_type": "stream",
          "name": "stderr",
          "text": [
            "WARNING:tensorflow:Gradients do not exist for variables ['tf_bert_model_32/bert/pooler/dense/kernel:0', 'tf_bert_model_32/bert/pooler/dense/bias:0'] when minimizing the loss. If you're using `model.compile()`, did you forget to provide a `loss` argument?\n",
            "WARNING:tensorflow:Gradients do not exist for variables ['tf_bert_model_32/bert/pooler/dense/kernel:0', 'tf_bert_model_32/bert/pooler/dense/bias:0'] when minimizing the loss. If you're using `model.compile()`, did you forget to provide a `loss` argument?\n"
          ]
        },
        {
          "output_type": "stream",
          "name": "stdout",
          "text": [
            "(32, 10, 128)\n",
            "(32, 1, 128)\n",
            "(32, 128) (32, 1280) (32, 128)\n"
          ]
        },
        {
          "output_type": "stream",
          "name": "stderr",
          "text": [
            "WARNING:tensorflow:Gradients do not exist for variables ['tf_bert_model_32/bert/pooler/dense/kernel:0', 'tf_bert_model_32/bert/pooler/dense/bias:0'] when minimizing the loss. If you're using `model.compile()`, did you forget to provide a `loss` argument?\n",
            "WARNING:tensorflow:Gradients do not exist for variables ['tf_bert_model_32/bert/pooler/dense/kernel:0', 'tf_bert_model_32/bert/pooler/dense/bias:0'] when minimizing the loss. If you're using `model.compile()`, did you forget to provide a `loss` argument?\n"
          ]
        },
        {
          "output_type": "stream",
          "name": "stdout",
          "text": [
            "(32, 10, 128)\n",
            "(32, 1, 128)\n",
            "(32, 128) (32, 1280) (32, 128)\n"
          ]
        },
        {
          "output_type": "stream",
          "name": "stderr",
          "text": [
            "WARNING:tensorflow:Gradients do not exist for variables ['tf_bert_model_32/bert/pooler/dense/kernel:0', 'tf_bert_model_32/bert/pooler/dense/bias:0'] when minimizing the loss. If you're using `model.compile()`, did you forget to provide a `loss` argument?\n",
            "WARNING:tensorflow:Gradients do not exist for variables ['tf_bert_model_32/bert/pooler/dense/kernel:0', 'tf_bert_model_32/bert/pooler/dense/bias:0'] when minimizing the loss. If you're using `model.compile()`, did you forget to provide a `loss` argument?\n"
          ]
        },
        {
          "output_type": "stream",
          "name": "stdout",
          "text": [
            "(32, 10, 128)\n",
            "(32, 1, 128)\n",
            "(32, 128) (32, 1280) (32, 128)\n"
          ]
        },
        {
          "output_type": "stream",
          "name": "stderr",
          "text": [
            "WARNING:tensorflow:Gradients do not exist for variables ['tf_bert_model_32/bert/pooler/dense/kernel:0', 'tf_bert_model_32/bert/pooler/dense/bias:0'] when minimizing the loss. If you're using `model.compile()`, did you forget to provide a `loss` argument?\n",
            "WARNING:tensorflow:Gradients do not exist for variables ['tf_bert_model_32/bert/pooler/dense/kernel:0', 'tf_bert_model_32/bert/pooler/dense/bias:0'] when minimizing the loss. If you're using `model.compile()`, did you forget to provide a `loss` argument?\n"
          ]
        },
        {
          "output_type": "stream",
          "name": "stdout",
          "text": [
            "(32, 10, 128)\n",
            "(32, 1, 128)\n",
            "(32, 128) (32, 1280) (32, 128)\n"
          ]
        },
        {
          "output_type": "stream",
          "name": "stderr",
          "text": [
            "WARNING:tensorflow:Gradients do not exist for variables ['tf_bert_model_32/bert/pooler/dense/kernel:0', 'tf_bert_model_32/bert/pooler/dense/bias:0'] when minimizing the loss. If you're using `model.compile()`, did you forget to provide a `loss` argument?\n",
            "WARNING:tensorflow:Gradients do not exist for variables ['tf_bert_model_32/bert/pooler/dense/kernel:0', 'tf_bert_model_32/bert/pooler/dense/bias:0'] when minimizing the loss. If you're using `model.compile()`, did you forget to provide a `loss` argument?\n"
          ]
        },
        {
          "output_type": "stream",
          "name": "stdout",
          "text": [
            "(32, 10, 128)\n",
            "(32, 1, 128)\n",
            "(32, 128) (32, 1280) (32, 128)\n"
          ]
        },
        {
          "output_type": "stream",
          "name": "stderr",
          "text": [
            "WARNING:tensorflow:Gradients do not exist for variables ['tf_bert_model_32/bert/pooler/dense/kernel:0', 'tf_bert_model_32/bert/pooler/dense/bias:0'] when minimizing the loss. If you're using `model.compile()`, did you forget to provide a `loss` argument?\n",
            "WARNING:tensorflow:Gradients do not exist for variables ['tf_bert_model_32/bert/pooler/dense/kernel:0', 'tf_bert_model_32/bert/pooler/dense/bias:0'] when minimizing the loss. If you're using `model.compile()`, did you forget to provide a `loss` argument?\n"
          ]
        },
        {
          "output_type": "stream",
          "name": "stdout",
          "text": [
            "(32, 10, 128)\n",
            "(32, 1, 128)\n",
            "(32, 128) (32, 1280) (32, 128)\n"
          ]
        },
        {
          "output_type": "stream",
          "name": "stderr",
          "text": [
            "WARNING:tensorflow:Gradients do not exist for variables ['tf_bert_model_32/bert/pooler/dense/kernel:0', 'tf_bert_model_32/bert/pooler/dense/bias:0'] when minimizing the loss. If you're using `model.compile()`, did you forget to provide a `loss` argument?\n",
            "WARNING:tensorflow:Gradients do not exist for variables ['tf_bert_model_32/bert/pooler/dense/kernel:0', 'tf_bert_model_32/bert/pooler/dense/bias:0'] when minimizing the loss. If you're using `model.compile()`, did you forget to provide a `loss` argument?\n"
          ]
        },
        {
          "output_type": "stream",
          "name": "stdout",
          "text": [
            "Epoch 6/10 | Step 20/31 | Loss: 0.3044\n",
            "(32, 10, 128)\n",
            "(32, 1, 128)\n",
            "(32, 128) (32, 1280) (32, 128)\n"
          ]
        },
        {
          "output_type": "stream",
          "name": "stderr",
          "text": [
            "WARNING:tensorflow:Gradients do not exist for variables ['tf_bert_model_32/bert/pooler/dense/kernel:0', 'tf_bert_model_32/bert/pooler/dense/bias:0'] when minimizing the loss. If you're using `model.compile()`, did you forget to provide a `loss` argument?\n",
            "WARNING:tensorflow:Gradients do not exist for variables ['tf_bert_model_32/bert/pooler/dense/kernel:0', 'tf_bert_model_32/bert/pooler/dense/bias:0'] when minimizing the loss. If you're using `model.compile()`, did you forget to provide a `loss` argument?\n"
          ]
        },
        {
          "output_type": "stream",
          "name": "stdout",
          "text": [
            "(32, 10, 128)\n",
            "(32, 1, 128)\n",
            "(32, 128) (32, 1280) (32, 128)\n"
          ]
        },
        {
          "output_type": "stream",
          "name": "stderr",
          "text": [
            "WARNING:tensorflow:Gradients do not exist for variables ['tf_bert_model_32/bert/pooler/dense/kernel:0', 'tf_bert_model_32/bert/pooler/dense/bias:0'] when minimizing the loss. If you're using `model.compile()`, did you forget to provide a `loss` argument?\n",
            "WARNING:tensorflow:Gradients do not exist for variables ['tf_bert_model_32/bert/pooler/dense/kernel:0', 'tf_bert_model_32/bert/pooler/dense/bias:0'] when minimizing the loss. If you're using `model.compile()`, did you forget to provide a `loss` argument?\n"
          ]
        },
        {
          "output_type": "stream",
          "name": "stdout",
          "text": [
            "(32, 10, 128)\n",
            "(32, 1, 128)\n",
            "(32, 128) (32, 1280) (32, 128)\n"
          ]
        },
        {
          "output_type": "stream",
          "name": "stderr",
          "text": [
            "WARNING:tensorflow:Gradients do not exist for variables ['tf_bert_model_32/bert/pooler/dense/kernel:0', 'tf_bert_model_32/bert/pooler/dense/bias:0'] when minimizing the loss. If you're using `model.compile()`, did you forget to provide a `loss` argument?\n",
            "WARNING:tensorflow:Gradients do not exist for variables ['tf_bert_model_32/bert/pooler/dense/kernel:0', 'tf_bert_model_32/bert/pooler/dense/bias:0'] when minimizing the loss. If you're using `model.compile()`, did you forget to provide a `loss` argument?\n"
          ]
        },
        {
          "output_type": "stream",
          "name": "stdout",
          "text": [
            "(32, 10, 128)\n",
            "(32, 1, 128)\n",
            "(32, 128) (32, 1280) (32, 128)\n"
          ]
        },
        {
          "output_type": "stream",
          "name": "stderr",
          "text": [
            "WARNING:tensorflow:Gradients do not exist for variables ['tf_bert_model_32/bert/pooler/dense/kernel:0', 'tf_bert_model_32/bert/pooler/dense/bias:0'] when minimizing the loss. If you're using `model.compile()`, did you forget to provide a `loss` argument?\n",
            "WARNING:tensorflow:Gradients do not exist for variables ['tf_bert_model_32/bert/pooler/dense/kernel:0', 'tf_bert_model_32/bert/pooler/dense/bias:0'] when minimizing the loss. If you're using `model.compile()`, did you forget to provide a `loss` argument?\n"
          ]
        },
        {
          "output_type": "stream",
          "name": "stdout",
          "text": [
            "(32, 10, 128)\n",
            "(32, 1, 128)\n",
            "(32, 128) (32, 1280) (32, 128)\n"
          ]
        },
        {
          "output_type": "stream",
          "name": "stderr",
          "text": [
            "WARNING:tensorflow:Gradients do not exist for variables ['tf_bert_model_32/bert/pooler/dense/kernel:0', 'tf_bert_model_32/bert/pooler/dense/bias:0'] when minimizing the loss. If you're using `model.compile()`, did you forget to provide a `loss` argument?\n",
            "WARNING:tensorflow:Gradients do not exist for variables ['tf_bert_model_32/bert/pooler/dense/kernel:0', 'tf_bert_model_32/bert/pooler/dense/bias:0'] when minimizing the loss. If you're using `model.compile()`, did you forget to provide a `loss` argument?\n"
          ]
        },
        {
          "output_type": "stream",
          "name": "stdout",
          "text": [
            "(32, 10, 128)\n",
            "(32, 1, 128)\n",
            "(32, 128) (32, 1280) (32, 128)\n"
          ]
        },
        {
          "output_type": "stream",
          "name": "stderr",
          "text": [
            "WARNING:tensorflow:Gradients do not exist for variables ['tf_bert_model_32/bert/pooler/dense/kernel:0', 'tf_bert_model_32/bert/pooler/dense/bias:0'] when minimizing the loss. If you're using `model.compile()`, did you forget to provide a `loss` argument?\n",
            "WARNING:tensorflow:Gradients do not exist for variables ['tf_bert_model_32/bert/pooler/dense/kernel:0', 'tf_bert_model_32/bert/pooler/dense/bias:0'] when minimizing the loss. If you're using `model.compile()`, did you forget to provide a `loss` argument?\n"
          ]
        },
        {
          "output_type": "stream",
          "name": "stdout",
          "text": [
            "(32, 10, 128)\n",
            "(32, 1, 128)\n",
            "(32, 128) (32, 1280) (32, 128)\n"
          ]
        },
        {
          "output_type": "stream",
          "name": "stderr",
          "text": [
            "WARNING:tensorflow:Gradients do not exist for variables ['tf_bert_model_32/bert/pooler/dense/kernel:0', 'tf_bert_model_32/bert/pooler/dense/bias:0'] when minimizing the loss. If you're using `model.compile()`, did you forget to provide a `loss` argument?\n",
            "WARNING:tensorflow:Gradients do not exist for variables ['tf_bert_model_32/bert/pooler/dense/kernel:0', 'tf_bert_model_32/bert/pooler/dense/bias:0'] when minimizing the loss. If you're using `model.compile()`, did you forget to provide a `loss` argument?\n"
          ]
        },
        {
          "output_type": "stream",
          "name": "stdout",
          "text": [
            "(32, 10, 128)\n",
            "(32, 1, 128)\n",
            "(32, 128) (32, 1280) (32, 128)\n"
          ]
        },
        {
          "output_type": "stream",
          "name": "stderr",
          "text": [
            "WARNING:tensorflow:Gradients do not exist for variables ['tf_bert_model_32/bert/pooler/dense/kernel:0', 'tf_bert_model_32/bert/pooler/dense/bias:0'] when minimizing the loss. If you're using `model.compile()`, did you forget to provide a `loss` argument?\n",
            "WARNING:tensorflow:Gradients do not exist for variables ['tf_bert_model_32/bert/pooler/dense/kernel:0', 'tf_bert_model_32/bert/pooler/dense/bias:0'] when minimizing the loss. If you're using `model.compile()`, did you forget to provide a `loss` argument?\n"
          ]
        },
        {
          "output_type": "stream",
          "name": "stdout",
          "text": [
            "(32, 10, 128)\n",
            "(32, 1, 128)\n",
            "(32, 128) (32, 1280) (32, 128)\n"
          ]
        },
        {
          "output_type": "stream",
          "name": "stderr",
          "text": [
            "WARNING:tensorflow:Gradients do not exist for variables ['tf_bert_model_32/bert/pooler/dense/kernel:0', 'tf_bert_model_32/bert/pooler/dense/bias:0'] when minimizing the loss. If you're using `model.compile()`, did you forget to provide a `loss` argument?\n",
            "WARNING:tensorflow:Gradients do not exist for variables ['tf_bert_model_32/bert/pooler/dense/kernel:0', 'tf_bert_model_32/bert/pooler/dense/bias:0'] when minimizing the loss. If you're using `model.compile()`, did you forget to provide a `loss` argument?\n"
          ]
        },
        {
          "output_type": "stream",
          "name": "stdout",
          "text": [
            "(32, 10, 128)\n",
            "(32, 1, 128)\n",
            "(32, 128) (32, 1280) (32, 128)\n"
          ]
        },
        {
          "output_type": "stream",
          "name": "stderr",
          "text": [
            "WARNING:tensorflow:Gradients do not exist for variables ['tf_bert_model_32/bert/pooler/dense/kernel:0', 'tf_bert_model_32/bert/pooler/dense/bias:0'] when minimizing the loss. If you're using `model.compile()`, did you forget to provide a `loss` argument?\n",
            "WARNING:tensorflow:Gradients do not exist for variables ['tf_bert_model_32/bert/pooler/dense/kernel:0', 'tf_bert_model_32/bert/pooler/dense/bias:0'] when minimizing the loss. If you're using `model.compile()`, did you forget to provide a `loss` argument?\n"
          ]
        },
        {
          "output_type": "stream",
          "name": "stdout",
          "text": [
            "Epoch 6/10 | Step 30/31 | Loss: 0.2377\n",
            "(32, 10, 128)\n",
            "(32, 1, 128)\n",
            "(32, 128) (32, 1280) (32, 128)\n"
          ]
        },
        {
          "output_type": "stream",
          "name": "stderr",
          "text": [
            "WARNING:tensorflow:Gradients do not exist for variables ['tf_bert_model_32/bert/pooler/dense/kernel:0', 'tf_bert_model_32/bert/pooler/dense/bias:0'] when minimizing the loss. If you're using `model.compile()`, did you forget to provide a `loss` argument?\n",
            "WARNING:tensorflow:Gradients do not exist for variables ['tf_bert_model_32/bert/pooler/dense/kernel:0', 'tf_bert_model_32/bert/pooler/dense/bias:0'] when minimizing the loss. If you're using `model.compile()`, did you forget to provide a `loss` argument?\n"
          ]
        },
        {
          "output_type": "stream",
          "name": "stdout",
          "text": [
            "(32, 10, 128)\n",
            "(32, 1, 128)\n",
            "(32, 128) (32, 1280) (32, 128)\n"
          ]
        },
        {
          "output_type": "stream",
          "name": "stderr",
          "text": [
            "WARNING:tensorflow:Gradients do not exist for variables ['tf_bert_model_32/bert/pooler/dense/kernel:0', 'tf_bert_model_32/bert/pooler/dense/bias:0'] when minimizing the loss. If you're using `model.compile()`, did you forget to provide a `loss` argument?\n",
            "WARNING:tensorflow:Gradients do not exist for variables ['tf_bert_model_32/bert/pooler/dense/kernel:0', 'tf_bert_model_32/bert/pooler/dense/bias:0'] when minimizing the loss. If you're using `model.compile()`, did you forget to provide a `loss` argument?\n"
          ]
        },
        {
          "output_type": "stream",
          "name": "stdout",
          "text": [
            "(32, 10, 128)\n",
            "(32, 1, 128)\n",
            "(32, 128) (32, 1280) (32, 128)\n"
          ]
        },
        {
          "output_type": "stream",
          "name": "stderr",
          "text": [
            "WARNING:tensorflow:Gradients do not exist for variables ['tf_bert_model_32/bert/pooler/dense/kernel:0', 'tf_bert_model_32/bert/pooler/dense/bias:0'] when minimizing the loss. If you're using `model.compile()`, did you forget to provide a `loss` argument?\n",
            "WARNING:tensorflow:Gradients do not exist for variables ['tf_bert_model_32/bert/pooler/dense/kernel:0', 'tf_bert_model_32/bert/pooler/dense/bias:0'] when minimizing the loss. If you're using `model.compile()`, did you forget to provide a `loss` argument?\n"
          ]
        },
        {
          "output_type": "stream",
          "name": "stdout",
          "text": [
            "(32, 10, 128)\n",
            "(32, 1, 128)\n",
            "(32, 128) (32, 1280) (32, 128)\n"
          ]
        },
        {
          "output_type": "stream",
          "name": "stderr",
          "text": [
            "WARNING:tensorflow:Gradients do not exist for variables ['tf_bert_model_32/bert/pooler/dense/kernel:0', 'tf_bert_model_32/bert/pooler/dense/bias:0'] when minimizing the loss. If you're using `model.compile()`, did you forget to provide a `loss` argument?\n",
            "WARNING:tensorflow:Gradients do not exist for variables ['tf_bert_model_32/bert/pooler/dense/kernel:0', 'tf_bert_model_32/bert/pooler/dense/bias:0'] when minimizing the loss. If you're using `model.compile()`, did you forget to provide a `loss` argument?\n"
          ]
        },
        {
          "output_type": "stream",
          "name": "stdout",
          "text": [
            "(32, 10, 128)\n",
            "(32, 1, 128)\n",
            "(32, 128) (32, 1280) (32, 128)\n"
          ]
        },
        {
          "output_type": "stream",
          "name": "stderr",
          "text": [
            "WARNING:tensorflow:Gradients do not exist for variables ['tf_bert_model_32/bert/pooler/dense/kernel:0', 'tf_bert_model_32/bert/pooler/dense/bias:0'] when minimizing the loss. If you're using `model.compile()`, did you forget to provide a `loss` argument?\n",
            "WARNING:tensorflow:Gradients do not exist for variables ['tf_bert_model_32/bert/pooler/dense/kernel:0', 'tf_bert_model_32/bert/pooler/dense/bias:0'] when minimizing the loss. If you're using `model.compile()`, did you forget to provide a `loss` argument?\n"
          ]
        },
        {
          "output_type": "stream",
          "name": "stdout",
          "text": [
            "(32, 10, 128)\n",
            "(32, 1, 128)\n",
            "(32, 128) (32, 1280) (32, 128)\n"
          ]
        },
        {
          "output_type": "stream",
          "name": "stderr",
          "text": [
            "WARNING:tensorflow:Gradients do not exist for variables ['tf_bert_model_32/bert/pooler/dense/kernel:0', 'tf_bert_model_32/bert/pooler/dense/bias:0'] when minimizing the loss. If you're using `model.compile()`, did you forget to provide a `loss` argument?\n",
            "WARNING:tensorflow:Gradients do not exist for variables ['tf_bert_model_32/bert/pooler/dense/kernel:0', 'tf_bert_model_32/bert/pooler/dense/bias:0'] when minimizing the loss. If you're using `model.compile()`, did you forget to provide a `loss` argument?\n"
          ]
        },
        {
          "output_type": "stream",
          "name": "stdout",
          "text": [
            "(32, 10, 128)\n",
            "(32, 1, 128)\n",
            "(32, 128) (32, 1280) (32, 128)\n"
          ]
        },
        {
          "output_type": "stream",
          "name": "stderr",
          "text": [
            "WARNING:tensorflow:Gradients do not exist for variables ['tf_bert_model_32/bert/pooler/dense/kernel:0', 'tf_bert_model_32/bert/pooler/dense/bias:0'] when minimizing the loss. If you're using `model.compile()`, did you forget to provide a `loss` argument?\n",
            "WARNING:tensorflow:Gradients do not exist for variables ['tf_bert_model_32/bert/pooler/dense/kernel:0', 'tf_bert_model_32/bert/pooler/dense/bias:0'] when minimizing the loss. If you're using `model.compile()`, did you forget to provide a `loss` argument?\n"
          ]
        },
        {
          "output_type": "stream",
          "name": "stdout",
          "text": [
            "(32, 10, 128)\n",
            "(32, 1, 128)\n",
            "(32, 128) (32, 1280) (32, 128)\n"
          ]
        },
        {
          "output_type": "stream",
          "name": "stderr",
          "text": [
            "WARNING:tensorflow:Gradients do not exist for variables ['tf_bert_model_32/bert/pooler/dense/kernel:0', 'tf_bert_model_32/bert/pooler/dense/bias:0'] when minimizing the loss. If you're using `model.compile()`, did you forget to provide a `loss` argument?\n",
            "WARNING:tensorflow:Gradients do not exist for variables ['tf_bert_model_32/bert/pooler/dense/kernel:0', 'tf_bert_model_32/bert/pooler/dense/bias:0'] when minimizing the loss. If you're using `model.compile()`, did you forget to provide a `loss` argument?\n"
          ]
        },
        {
          "output_type": "stream",
          "name": "stdout",
          "text": [
            "(32, 10, 128)\n",
            "(32, 1, 128)\n",
            "(32, 128) (32, 1280) (32, 128)\n"
          ]
        },
        {
          "output_type": "stream",
          "name": "stderr",
          "text": [
            "WARNING:tensorflow:Gradients do not exist for variables ['tf_bert_model_32/bert/pooler/dense/kernel:0', 'tf_bert_model_32/bert/pooler/dense/bias:0'] when minimizing the loss. If you're using `model.compile()`, did you forget to provide a `loss` argument?\n",
            "WARNING:tensorflow:Gradients do not exist for variables ['tf_bert_model_32/bert/pooler/dense/kernel:0', 'tf_bert_model_32/bert/pooler/dense/bias:0'] when minimizing the loss. If you're using `model.compile()`, did you forget to provide a `loss` argument?\n"
          ]
        },
        {
          "output_type": "stream",
          "name": "stdout",
          "text": [
            "(32, 10, 128)\n",
            "(32, 1, 128)\n",
            "(32, 128) (32, 1280) (32, 128)\n"
          ]
        },
        {
          "output_type": "stream",
          "name": "stderr",
          "text": [
            "WARNING:tensorflow:Gradients do not exist for variables ['tf_bert_model_32/bert/pooler/dense/kernel:0', 'tf_bert_model_32/bert/pooler/dense/bias:0'] when minimizing the loss. If you're using `model.compile()`, did you forget to provide a `loss` argument?\n",
            "WARNING:tensorflow:Gradients do not exist for variables ['tf_bert_model_32/bert/pooler/dense/kernel:0', 'tf_bert_model_32/bert/pooler/dense/bias:0'] when minimizing the loss. If you're using `model.compile()`, did you forget to provide a `loss` argument?\n"
          ]
        },
        {
          "output_type": "stream",
          "name": "stdout",
          "text": [
            "(32, 10, 128)\n",
            "(32, 1, 128)\n",
            "(32, 128) (32, 1280) (32, 128)\n"
          ]
        },
        {
          "output_type": "stream",
          "name": "stderr",
          "text": [
            "WARNING:tensorflow:Gradients do not exist for variables ['tf_bert_model_32/bert/pooler/dense/kernel:0', 'tf_bert_model_32/bert/pooler/dense/bias:0'] when minimizing the loss. If you're using `model.compile()`, did you forget to provide a `loss` argument?\n",
            "WARNING:tensorflow:Gradients do not exist for variables ['tf_bert_model_32/bert/pooler/dense/kernel:0', 'tf_bert_model_32/bert/pooler/dense/bias:0'] when minimizing the loss. If you're using `model.compile()`, did you forget to provide a `loss` argument?\n"
          ]
        },
        {
          "output_type": "stream",
          "name": "stdout",
          "text": [
            "Epoch 7/10 | Step 10/31 | Loss: 0.3218\n",
            "(32, 10, 128)\n",
            "(32, 1, 128)\n",
            "(32, 128) (32, 1280) (32, 128)\n"
          ]
        },
        {
          "output_type": "stream",
          "name": "stderr",
          "text": [
            "WARNING:tensorflow:Gradients do not exist for variables ['tf_bert_model_32/bert/pooler/dense/kernel:0', 'tf_bert_model_32/bert/pooler/dense/bias:0'] when minimizing the loss. If you're using `model.compile()`, did you forget to provide a `loss` argument?\n",
            "WARNING:tensorflow:Gradients do not exist for variables ['tf_bert_model_32/bert/pooler/dense/kernel:0', 'tf_bert_model_32/bert/pooler/dense/bias:0'] when minimizing the loss. If you're using `model.compile()`, did you forget to provide a `loss` argument?\n"
          ]
        },
        {
          "output_type": "stream",
          "name": "stdout",
          "text": [
            "(32, 10, 128)\n",
            "(32, 1, 128)\n",
            "(32, 128) (32, 1280) (32, 128)\n"
          ]
        },
        {
          "output_type": "stream",
          "name": "stderr",
          "text": [
            "WARNING:tensorflow:Gradients do not exist for variables ['tf_bert_model_32/bert/pooler/dense/kernel:0', 'tf_bert_model_32/bert/pooler/dense/bias:0'] when minimizing the loss. If you're using `model.compile()`, did you forget to provide a `loss` argument?\n",
            "WARNING:tensorflow:Gradients do not exist for variables ['tf_bert_model_32/bert/pooler/dense/kernel:0', 'tf_bert_model_32/bert/pooler/dense/bias:0'] when minimizing the loss. If you're using `model.compile()`, did you forget to provide a `loss` argument?\n"
          ]
        },
        {
          "output_type": "stream",
          "name": "stdout",
          "text": [
            "(32, 10, 128)\n",
            "(32, 1, 128)\n",
            "(32, 128) (32, 1280) (32, 128)\n"
          ]
        },
        {
          "output_type": "stream",
          "name": "stderr",
          "text": [
            "WARNING:tensorflow:Gradients do not exist for variables ['tf_bert_model_32/bert/pooler/dense/kernel:0', 'tf_bert_model_32/bert/pooler/dense/bias:0'] when minimizing the loss. If you're using `model.compile()`, did you forget to provide a `loss` argument?\n",
            "WARNING:tensorflow:Gradients do not exist for variables ['tf_bert_model_32/bert/pooler/dense/kernel:0', 'tf_bert_model_32/bert/pooler/dense/bias:0'] when minimizing the loss. If you're using `model.compile()`, did you forget to provide a `loss` argument?\n"
          ]
        },
        {
          "output_type": "stream",
          "name": "stdout",
          "text": [
            "(32, 10, 128)\n",
            "(32, 1, 128)\n",
            "(32, 128) (32, 1280) (32, 128)\n"
          ]
        },
        {
          "output_type": "stream",
          "name": "stderr",
          "text": [
            "WARNING:tensorflow:Gradients do not exist for variables ['tf_bert_model_32/bert/pooler/dense/kernel:0', 'tf_bert_model_32/bert/pooler/dense/bias:0'] when minimizing the loss. If you're using `model.compile()`, did you forget to provide a `loss` argument?\n",
            "WARNING:tensorflow:Gradients do not exist for variables ['tf_bert_model_32/bert/pooler/dense/kernel:0', 'tf_bert_model_32/bert/pooler/dense/bias:0'] when minimizing the loss. If you're using `model.compile()`, did you forget to provide a `loss` argument?\n"
          ]
        },
        {
          "output_type": "stream",
          "name": "stdout",
          "text": [
            "(32, 10, 128)\n",
            "(32, 1, 128)\n",
            "(32, 128) (32, 1280) (32, 128)\n"
          ]
        },
        {
          "output_type": "stream",
          "name": "stderr",
          "text": [
            "WARNING:tensorflow:Gradients do not exist for variables ['tf_bert_model_32/bert/pooler/dense/kernel:0', 'tf_bert_model_32/bert/pooler/dense/bias:0'] when minimizing the loss. If you're using `model.compile()`, did you forget to provide a `loss` argument?\n",
            "WARNING:tensorflow:Gradients do not exist for variables ['tf_bert_model_32/bert/pooler/dense/kernel:0', 'tf_bert_model_32/bert/pooler/dense/bias:0'] when minimizing the loss. If you're using `model.compile()`, did you forget to provide a `loss` argument?\n"
          ]
        },
        {
          "output_type": "stream",
          "name": "stdout",
          "text": [
            "(32, 10, 128)\n",
            "(32, 1, 128)\n",
            "(32, 128) (32, 1280) (32, 128)\n"
          ]
        },
        {
          "output_type": "stream",
          "name": "stderr",
          "text": [
            "WARNING:tensorflow:Gradients do not exist for variables ['tf_bert_model_32/bert/pooler/dense/kernel:0', 'tf_bert_model_32/bert/pooler/dense/bias:0'] when minimizing the loss. If you're using `model.compile()`, did you forget to provide a `loss` argument?\n",
            "WARNING:tensorflow:Gradients do not exist for variables ['tf_bert_model_32/bert/pooler/dense/kernel:0', 'tf_bert_model_32/bert/pooler/dense/bias:0'] when minimizing the loss. If you're using `model.compile()`, did you forget to provide a `loss` argument?\n"
          ]
        },
        {
          "output_type": "stream",
          "name": "stdout",
          "text": [
            "(32, 10, 128)\n",
            "(32, 1, 128)\n",
            "(32, 128) (32, 1280) (32, 128)\n"
          ]
        },
        {
          "output_type": "stream",
          "name": "stderr",
          "text": [
            "WARNING:tensorflow:Gradients do not exist for variables ['tf_bert_model_32/bert/pooler/dense/kernel:0', 'tf_bert_model_32/bert/pooler/dense/bias:0'] when minimizing the loss. If you're using `model.compile()`, did you forget to provide a `loss` argument?\n",
            "WARNING:tensorflow:Gradients do not exist for variables ['tf_bert_model_32/bert/pooler/dense/kernel:0', 'tf_bert_model_32/bert/pooler/dense/bias:0'] when minimizing the loss. If you're using `model.compile()`, did you forget to provide a `loss` argument?\n"
          ]
        },
        {
          "output_type": "stream",
          "name": "stdout",
          "text": [
            "(32, 10, 128)\n",
            "(32, 1, 128)\n",
            "(32, 128) (32, 1280) (32, 128)\n"
          ]
        },
        {
          "output_type": "stream",
          "name": "stderr",
          "text": [
            "WARNING:tensorflow:Gradients do not exist for variables ['tf_bert_model_32/bert/pooler/dense/kernel:0', 'tf_bert_model_32/bert/pooler/dense/bias:0'] when minimizing the loss. If you're using `model.compile()`, did you forget to provide a `loss` argument?\n",
            "WARNING:tensorflow:Gradients do not exist for variables ['tf_bert_model_32/bert/pooler/dense/kernel:0', 'tf_bert_model_32/bert/pooler/dense/bias:0'] when minimizing the loss. If you're using `model.compile()`, did you forget to provide a `loss` argument?\n"
          ]
        },
        {
          "output_type": "stream",
          "name": "stdout",
          "text": [
            "(32, 10, 128)\n",
            "(32, 1, 128)\n",
            "(32, 128) (32, 1280) (32, 128)\n"
          ]
        },
        {
          "output_type": "stream",
          "name": "stderr",
          "text": [
            "WARNING:tensorflow:Gradients do not exist for variables ['tf_bert_model_32/bert/pooler/dense/kernel:0', 'tf_bert_model_32/bert/pooler/dense/bias:0'] when minimizing the loss. If you're using `model.compile()`, did you forget to provide a `loss` argument?\n",
            "WARNING:tensorflow:Gradients do not exist for variables ['tf_bert_model_32/bert/pooler/dense/kernel:0', 'tf_bert_model_32/bert/pooler/dense/bias:0'] when minimizing the loss. If you're using `model.compile()`, did you forget to provide a `loss` argument?\n"
          ]
        },
        {
          "output_type": "stream",
          "name": "stdout",
          "text": [
            "(32, 10, 128)\n",
            "(32, 1, 128)\n",
            "(32, 128) (32, 1280) (32, 128)\n"
          ]
        },
        {
          "output_type": "stream",
          "name": "stderr",
          "text": [
            "WARNING:tensorflow:Gradients do not exist for variables ['tf_bert_model_32/bert/pooler/dense/kernel:0', 'tf_bert_model_32/bert/pooler/dense/bias:0'] when minimizing the loss. If you're using `model.compile()`, did you forget to provide a `loss` argument?\n",
            "WARNING:tensorflow:Gradients do not exist for variables ['tf_bert_model_32/bert/pooler/dense/kernel:0', 'tf_bert_model_32/bert/pooler/dense/bias:0'] when minimizing the loss. If you're using `model.compile()`, did you forget to provide a `loss` argument?\n"
          ]
        },
        {
          "output_type": "stream",
          "name": "stdout",
          "text": [
            "Epoch 7/10 | Step 20/31 | Loss: 0.3182\n",
            "(32, 10, 128)\n",
            "(32, 1, 128)\n",
            "(32, 128) (32, 1280) (32, 128)\n"
          ]
        },
        {
          "output_type": "stream",
          "name": "stderr",
          "text": [
            "WARNING:tensorflow:Gradients do not exist for variables ['tf_bert_model_32/bert/pooler/dense/kernel:0', 'tf_bert_model_32/bert/pooler/dense/bias:0'] when minimizing the loss. If you're using `model.compile()`, did you forget to provide a `loss` argument?\n",
            "WARNING:tensorflow:Gradients do not exist for variables ['tf_bert_model_32/bert/pooler/dense/kernel:0', 'tf_bert_model_32/bert/pooler/dense/bias:0'] when minimizing the loss. If you're using `model.compile()`, did you forget to provide a `loss` argument?\n"
          ]
        },
        {
          "output_type": "stream",
          "name": "stdout",
          "text": [
            "(32, 10, 128)\n",
            "(32, 1, 128)\n",
            "(32, 128) (32, 1280) (32, 128)\n"
          ]
        },
        {
          "output_type": "stream",
          "name": "stderr",
          "text": [
            "WARNING:tensorflow:Gradients do not exist for variables ['tf_bert_model_32/bert/pooler/dense/kernel:0', 'tf_bert_model_32/bert/pooler/dense/bias:0'] when minimizing the loss. If you're using `model.compile()`, did you forget to provide a `loss` argument?\n",
            "WARNING:tensorflow:Gradients do not exist for variables ['tf_bert_model_32/bert/pooler/dense/kernel:0', 'tf_bert_model_32/bert/pooler/dense/bias:0'] when minimizing the loss. If you're using `model.compile()`, did you forget to provide a `loss` argument?\n"
          ]
        },
        {
          "output_type": "stream",
          "name": "stdout",
          "text": [
            "(32, 10, 128)\n",
            "(32, 1, 128)\n",
            "(32, 128) (32, 1280) (32, 128)\n"
          ]
        },
        {
          "output_type": "stream",
          "name": "stderr",
          "text": [
            "WARNING:tensorflow:Gradients do not exist for variables ['tf_bert_model_32/bert/pooler/dense/kernel:0', 'tf_bert_model_32/bert/pooler/dense/bias:0'] when minimizing the loss. If you're using `model.compile()`, did you forget to provide a `loss` argument?\n",
            "WARNING:tensorflow:Gradients do not exist for variables ['tf_bert_model_32/bert/pooler/dense/kernel:0', 'tf_bert_model_32/bert/pooler/dense/bias:0'] when minimizing the loss. If you're using `model.compile()`, did you forget to provide a `loss` argument?\n"
          ]
        },
        {
          "output_type": "stream",
          "name": "stdout",
          "text": [
            "(32, 10, 128)\n",
            "(32, 1, 128)\n",
            "(32, 128) (32, 1280) (32, 128)\n"
          ]
        },
        {
          "output_type": "stream",
          "name": "stderr",
          "text": [
            "WARNING:tensorflow:Gradients do not exist for variables ['tf_bert_model_32/bert/pooler/dense/kernel:0', 'tf_bert_model_32/bert/pooler/dense/bias:0'] when minimizing the loss. If you're using `model.compile()`, did you forget to provide a `loss` argument?\n",
            "WARNING:tensorflow:Gradients do not exist for variables ['tf_bert_model_32/bert/pooler/dense/kernel:0', 'tf_bert_model_32/bert/pooler/dense/bias:0'] when minimizing the loss. If you're using `model.compile()`, did you forget to provide a `loss` argument?\n"
          ]
        },
        {
          "output_type": "stream",
          "name": "stdout",
          "text": [
            "(32, 10, 128)\n",
            "(32, 1, 128)\n",
            "(32, 128) (32, 1280) (32, 128)\n"
          ]
        },
        {
          "output_type": "stream",
          "name": "stderr",
          "text": [
            "WARNING:tensorflow:Gradients do not exist for variables ['tf_bert_model_32/bert/pooler/dense/kernel:0', 'tf_bert_model_32/bert/pooler/dense/bias:0'] when minimizing the loss. If you're using `model.compile()`, did you forget to provide a `loss` argument?\n",
            "WARNING:tensorflow:Gradients do not exist for variables ['tf_bert_model_32/bert/pooler/dense/kernel:0', 'tf_bert_model_32/bert/pooler/dense/bias:0'] when minimizing the loss. If you're using `model.compile()`, did you forget to provide a `loss` argument?\n"
          ]
        },
        {
          "output_type": "stream",
          "name": "stdout",
          "text": [
            "(32, 10, 128)\n",
            "(32, 1, 128)\n",
            "(32, 128) (32, 1280) (32, 128)\n"
          ]
        },
        {
          "output_type": "stream",
          "name": "stderr",
          "text": [
            "WARNING:tensorflow:Gradients do not exist for variables ['tf_bert_model_32/bert/pooler/dense/kernel:0', 'tf_bert_model_32/bert/pooler/dense/bias:0'] when minimizing the loss. If you're using `model.compile()`, did you forget to provide a `loss` argument?\n",
            "WARNING:tensorflow:Gradients do not exist for variables ['tf_bert_model_32/bert/pooler/dense/kernel:0', 'tf_bert_model_32/bert/pooler/dense/bias:0'] when minimizing the loss. If you're using `model.compile()`, did you forget to provide a `loss` argument?\n"
          ]
        },
        {
          "output_type": "stream",
          "name": "stdout",
          "text": [
            "(32, 10, 128)\n",
            "(32, 1, 128)\n",
            "(32, 128) (32, 1280) (32, 128)\n"
          ]
        },
        {
          "output_type": "stream",
          "name": "stderr",
          "text": [
            "WARNING:tensorflow:Gradients do not exist for variables ['tf_bert_model_32/bert/pooler/dense/kernel:0', 'tf_bert_model_32/bert/pooler/dense/bias:0'] when minimizing the loss. If you're using `model.compile()`, did you forget to provide a `loss` argument?\n",
            "WARNING:tensorflow:Gradients do not exist for variables ['tf_bert_model_32/bert/pooler/dense/kernel:0', 'tf_bert_model_32/bert/pooler/dense/bias:0'] when minimizing the loss. If you're using `model.compile()`, did you forget to provide a `loss` argument?\n"
          ]
        },
        {
          "output_type": "stream",
          "name": "stdout",
          "text": [
            "(32, 10, 128)\n",
            "(32, 1, 128)\n",
            "(32, 128) (32, 1280) (32, 128)\n"
          ]
        },
        {
          "output_type": "stream",
          "name": "stderr",
          "text": [
            "WARNING:tensorflow:Gradients do not exist for variables ['tf_bert_model_32/bert/pooler/dense/kernel:0', 'tf_bert_model_32/bert/pooler/dense/bias:0'] when minimizing the loss. If you're using `model.compile()`, did you forget to provide a `loss` argument?\n",
            "WARNING:tensorflow:Gradients do not exist for variables ['tf_bert_model_32/bert/pooler/dense/kernel:0', 'tf_bert_model_32/bert/pooler/dense/bias:0'] when minimizing the loss. If you're using `model.compile()`, did you forget to provide a `loss` argument?\n"
          ]
        },
        {
          "output_type": "stream",
          "name": "stdout",
          "text": [
            "(32, 10, 128)\n",
            "(32, 1, 128)\n",
            "(32, 128) (32, 1280) (32, 128)\n"
          ]
        },
        {
          "output_type": "stream",
          "name": "stderr",
          "text": [
            "WARNING:tensorflow:Gradients do not exist for variables ['tf_bert_model_32/bert/pooler/dense/kernel:0', 'tf_bert_model_32/bert/pooler/dense/bias:0'] when minimizing the loss. If you're using `model.compile()`, did you forget to provide a `loss` argument?\n",
            "WARNING:tensorflow:Gradients do not exist for variables ['tf_bert_model_32/bert/pooler/dense/kernel:0', 'tf_bert_model_32/bert/pooler/dense/bias:0'] when minimizing the loss. If you're using `model.compile()`, did you forget to provide a `loss` argument?\n"
          ]
        },
        {
          "output_type": "stream",
          "name": "stdout",
          "text": [
            "(32, 10, 128)\n",
            "(32, 1, 128)\n",
            "(32, 128) (32, 1280) (32, 128)\n"
          ]
        },
        {
          "output_type": "stream",
          "name": "stderr",
          "text": [
            "WARNING:tensorflow:Gradients do not exist for variables ['tf_bert_model_32/bert/pooler/dense/kernel:0', 'tf_bert_model_32/bert/pooler/dense/bias:0'] when minimizing the loss. If you're using `model.compile()`, did you forget to provide a `loss` argument?\n",
            "WARNING:tensorflow:Gradients do not exist for variables ['tf_bert_model_32/bert/pooler/dense/kernel:0', 'tf_bert_model_32/bert/pooler/dense/bias:0'] when minimizing the loss. If you're using `model.compile()`, did you forget to provide a `loss` argument?\n"
          ]
        },
        {
          "output_type": "stream",
          "name": "stdout",
          "text": [
            "Epoch 7/10 | Step 30/31 | Loss: 0.2156\n",
            "(32, 10, 128)\n",
            "(32, 1, 128)\n",
            "(32, 128) (32, 1280) (32, 128)\n"
          ]
        },
        {
          "output_type": "stream",
          "name": "stderr",
          "text": [
            "WARNING:tensorflow:Gradients do not exist for variables ['tf_bert_model_32/bert/pooler/dense/kernel:0', 'tf_bert_model_32/bert/pooler/dense/bias:0'] when minimizing the loss. If you're using `model.compile()`, did you forget to provide a `loss` argument?\n",
            "WARNING:tensorflow:Gradients do not exist for variables ['tf_bert_model_32/bert/pooler/dense/kernel:0', 'tf_bert_model_32/bert/pooler/dense/bias:0'] when minimizing the loss. If you're using `model.compile()`, did you forget to provide a `loss` argument?\n"
          ]
        },
        {
          "output_type": "stream",
          "name": "stdout",
          "text": [
            "(32, 10, 128)\n",
            "(32, 1, 128)\n",
            "(32, 128) (32, 1280) (32, 128)\n"
          ]
        },
        {
          "output_type": "stream",
          "name": "stderr",
          "text": [
            "WARNING:tensorflow:Gradients do not exist for variables ['tf_bert_model_32/bert/pooler/dense/kernel:0', 'tf_bert_model_32/bert/pooler/dense/bias:0'] when minimizing the loss. If you're using `model.compile()`, did you forget to provide a `loss` argument?\n",
            "WARNING:tensorflow:Gradients do not exist for variables ['tf_bert_model_32/bert/pooler/dense/kernel:0', 'tf_bert_model_32/bert/pooler/dense/bias:0'] when minimizing the loss. If you're using `model.compile()`, did you forget to provide a `loss` argument?\n"
          ]
        },
        {
          "output_type": "stream",
          "name": "stdout",
          "text": [
            "(32, 10, 128)\n",
            "(32, 1, 128)\n",
            "(32, 128) (32, 1280) (32, 128)\n"
          ]
        },
        {
          "output_type": "stream",
          "name": "stderr",
          "text": [
            "WARNING:tensorflow:Gradients do not exist for variables ['tf_bert_model_32/bert/pooler/dense/kernel:0', 'tf_bert_model_32/bert/pooler/dense/bias:0'] when minimizing the loss. If you're using `model.compile()`, did you forget to provide a `loss` argument?\n",
            "WARNING:tensorflow:Gradients do not exist for variables ['tf_bert_model_32/bert/pooler/dense/kernel:0', 'tf_bert_model_32/bert/pooler/dense/bias:0'] when minimizing the loss. If you're using `model.compile()`, did you forget to provide a `loss` argument?\n"
          ]
        },
        {
          "output_type": "stream",
          "name": "stdout",
          "text": [
            "(32, 10, 128)\n",
            "(32, 1, 128)\n",
            "(32, 128) (32, 1280) (32, 128)\n"
          ]
        },
        {
          "output_type": "stream",
          "name": "stderr",
          "text": [
            "WARNING:tensorflow:Gradients do not exist for variables ['tf_bert_model_32/bert/pooler/dense/kernel:0', 'tf_bert_model_32/bert/pooler/dense/bias:0'] when minimizing the loss. If you're using `model.compile()`, did you forget to provide a `loss` argument?\n",
            "WARNING:tensorflow:Gradients do not exist for variables ['tf_bert_model_32/bert/pooler/dense/kernel:0', 'tf_bert_model_32/bert/pooler/dense/bias:0'] when minimizing the loss. If you're using `model.compile()`, did you forget to provide a `loss` argument?\n"
          ]
        },
        {
          "output_type": "stream",
          "name": "stdout",
          "text": [
            "(32, 10, 128)\n",
            "(32, 1, 128)\n",
            "(32, 128) (32, 1280) (32, 128)\n"
          ]
        },
        {
          "output_type": "stream",
          "name": "stderr",
          "text": [
            "WARNING:tensorflow:Gradients do not exist for variables ['tf_bert_model_32/bert/pooler/dense/kernel:0', 'tf_bert_model_32/bert/pooler/dense/bias:0'] when minimizing the loss. If you're using `model.compile()`, did you forget to provide a `loss` argument?\n",
            "WARNING:tensorflow:Gradients do not exist for variables ['tf_bert_model_32/bert/pooler/dense/kernel:0', 'tf_bert_model_32/bert/pooler/dense/bias:0'] when minimizing the loss. If you're using `model.compile()`, did you forget to provide a `loss` argument?\n"
          ]
        },
        {
          "output_type": "stream",
          "name": "stdout",
          "text": [
            "(32, 10, 128)\n",
            "(32, 1, 128)\n",
            "(32, 128) (32, 1280) (32, 128)\n"
          ]
        },
        {
          "output_type": "stream",
          "name": "stderr",
          "text": [
            "WARNING:tensorflow:Gradients do not exist for variables ['tf_bert_model_32/bert/pooler/dense/kernel:0', 'tf_bert_model_32/bert/pooler/dense/bias:0'] when minimizing the loss. If you're using `model.compile()`, did you forget to provide a `loss` argument?\n",
            "WARNING:tensorflow:Gradients do not exist for variables ['tf_bert_model_32/bert/pooler/dense/kernel:0', 'tf_bert_model_32/bert/pooler/dense/bias:0'] when minimizing the loss. If you're using `model.compile()`, did you forget to provide a `loss` argument?\n"
          ]
        },
        {
          "output_type": "stream",
          "name": "stdout",
          "text": [
            "(32, 10, 128)\n",
            "(32, 1, 128)\n",
            "(32, 128) (32, 1280) (32, 128)\n"
          ]
        },
        {
          "output_type": "stream",
          "name": "stderr",
          "text": [
            "WARNING:tensorflow:Gradients do not exist for variables ['tf_bert_model_32/bert/pooler/dense/kernel:0', 'tf_bert_model_32/bert/pooler/dense/bias:0'] when minimizing the loss. If you're using `model.compile()`, did you forget to provide a `loss` argument?\n",
            "WARNING:tensorflow:Gradients do not exist for variables ['tf_bert_model_32/bert/pooler/dense/kernel:0', 'tf_bert_model_32/bert/pooler/dense/bias:0'] when minimizing the loss. If you're using `model.compile()`, did you forget to provide a `loss` argument?\n"
          ]
        },
        {
          "output_type": "stream",
          "name": "stdout",
          "text": [
            "(32, 10, 128)\n",
            "(32, 1, 128)\n",
            "(32, 128) (32, 1280) (32, 128)\n"
          ]
        },
        {
          "output_type": "stream",
          "name": "stderr",
          "text": [
            "WARNING:tensorflow:Gradients do not exist for variables ['tf_bert_model_32/bert/pooler/dense/kernel:0', 'tf_bert_model_32/bert/pooler/dense/bias:0'] when minimizing the loss. If you're using `model.compile()`, did you forget to provide a `loss` argument?\n",
            "WARNING:tensorflow:Gradients do not exist for variables ['tf_bert_model_32/bert/pooler/dense/kernel:0', 'tf_bert_model_32/bert/pooler/dense/bias:0'] when minimizing the loss. If you're using `model.compile()`, did you forget to provide a `loss` argument?\n"
          ]
        },
        {
          "output_type": "stream",
          "name": "stdout",
          "text": [
            "(32, 10, 128)\n",
            "(32, 1, 128)\n",
            "(32, 128) (32, 1280) (32, 128)\n"
          ]
        },
        {
          "output_type": "stream",
          "name": "stderr",
          "text": [
            "WARNING:tensorflow:Gradients do not exist for variables ['tf_bert_model_32/bert/pooler/dense/kernel:0', 'tf_bert_model_32/bert/pooler/dense/bias:0'] when minimizing the loss. If you're using `model.compile()`, did you forget to provide a `loss` argument?\n",
            "WARNING:tensorflow:Gradients do not exist for variables ['tf_bert_model_32/bert/pooler/dense/kernel:0', 'tf_bert_model_32/bert/pooler/dense/bias:0'] when minimizing the loss. If you're using `model.compile()`, did you forget to provide a `loss` argument?\n"
          ]
        },
        {
          "output_type": "stream",
          "name": "stdout",
          "text": [
            "(32, 10, 128)\n",
            "(32, 1, 128)\n",
            "(32, 128) (32, 1280) (32, 128)\n"
          ]
        },
        {
          "output_type": "stream",
          "name": "stderr",
          "text": [
            "WARNING:tensorflow:Gradients do not exist for variables ['tf_bert_model_32/bert/pooler/dense/kernel:0', 'tf_bert_model_32/bert/pooler/dense/bias:0'] when minimizing the loss. If you're using `model.compile()`, did you forget to provide a `loss` argument?\n",
            "WARNING:tensorflow:Gradients do not exist for variables ['tf_bert_model_32/bert/pooler/dense/kernel:0', 'tf_bert_model_32/bert/pooler/dense/bias:0'] when minimizing the loss. If you're using `model.compile()`, did you forget to provide a `loss` argument?\n"
          ]
        },
        {
          "output_type": "stream",
          "name": "stdout",
          "text": [
            "(32, 10, 128)\n",
            "(32, 1, 128)\n",
            "(32, 128) (32, 1280) (32, 128)\n"
          ]
        },
        {
          "output_type": "stream",
          "name": "stderr",
          "text": [
            "WARNING:tensorflow:Gradients do not exist for variables ['tf_bert_model_32/bert/pooler/dense/kernel:0', 'tf_bert_model_32/bert/pooler/dense/bias:0'] when minimizing the loss. If you're using `model.compile()`, did you forget to provide a `loss` argument?\n",
            "WARNING:tensorflow:Gradients do not exist for variables ['tf_bert_model_32/bert/pooler/dense/kernel:0', 'tf_bert_model_32/bert/pooler/dense/bias:0'] when minimizing the loss. If you're using `model.compile()`, did you forget to provide a `loss` argument?\n"
          ]
        },
        {
          "output_type": "stream",
          "name": "stdout",
          "text": [
            "Epoch 8/10 | Step 10/31 | Loss: 0.3110\n",
            "(32, 10, 128)\n",
            "(32, 1, 128)\n",
            "(32, 128) (32, 1280) (32, 128)\n"
          ]
        },
        {
          "output_type": "stream",
          "name": "stderr",
          "text": [
            "WARNING:tensorflow:Gradients do not exist for variables ['tf_bert_model_32/bert/pooler/dense/kernel:0', 'tf_bert_model_32/bert/pooler/dense/bias:0'] when minimizing the loss. If you're using `model.compile()`, did you forget to provide a `loss` argument?\n",
            "WARNING:tensorflow:Gradients do not exist for variables ['tf_bert_model_32/bert/pooler/dense/kernel:0', 'tf_bert_model_32/bert/pooler/dense/bias:0'] when minimizing the loss. If you're using `model.compile()`, did you forget to provide a `loss` argument?\n"
          ]
        },
        {
          "output_type": "stream",
          "name": "stdout",
          "text": [
            "(32, 10, 128)\n",
            "(32, 1, 128)\n",
            "(32, 128) (32, 1280) (32, 128)\n"
          ]
        },
        {
          "output_type": "stream",
          "name": "stderr",
          "text": [
            "WARNING:tensorflow:Gradients do not exist for variables ['tf_bert_model_32/bert/pooler/dense/kernel:0', 'tf_bert_model_32/bert/pooler/dense/bias:0'] when minimizing the loss. If you're using `model.compile()`, did you forget to provide a `loss` argument?\n",
            "WARNING:tensorflow:Gradients do not exist for variables ['tf_bert_model_32/bert/pooler/dense/kernel:0', 'tf_bert_model_32/bert/pooler/dense/bias:0'] when minimizing the loss. If you're using `model.compile()`, did you forget to provide a `loss` argument?\n"
          ]
        },
        {
          "output_type": "stream",
          "name": "stdout",
          "text": [
            "(32, 10, 128)\n",
            "(32, 1, 128)\n",
            "(32, 128) (32, 1280) (32, 128)\n"
          ]
        },
        {
          "output_type": "stream",
          "name": "stderr",
          "text": [
            "WARNING:tensorflow:Gradients do not exist for variables ['tf_bert_model_32/bert/pooler/dense/kernel:0', 'tf_bert_model_32/bert/pooler/dense/bias:0'] when minimizing the loss. If you're using `model.compile()`, did you forget to provide a `loss` argument?\n",
            "WARNING:tensorflow:Gradients do not exist for variables ['tf_bert_model_32/bert/pooler/dense/kernel:0', 'tf_bert_model_32/bert/pooler/dense/bias:0'] when minimizing the loss. If you're using `model.compile()`, did you forget to provide a `loss` argument?\n"
          ]
        },
        {
          "output_type": "stream",
          "name": "stdout",
          "text": [
            "(32, 10, 128)\n",
            "(32, 1, 128)\n",
            "(32, 128) (32, 1280) (32, 128)\n"
          ]
        },
        {
          "output_type": "stream",
          "name": "stderr",
          "text": [
            "WARNING:tensorflow:Gradients do not exist for variables ['tf_bert_model_32/bert/pooler/dense/kernel:0', 'tf_bert_model_32/bert/pooler/dense/bias:0'] when minimizing the loss. If you're using `model.compile()`, did you forget to provide a `loss` argument?\n",
            "WARNING:tensorflow:Gradients do not exist for variables ['tf_bert_model_32/bert/pooler/dense/kernel:0', 'tf_bert_model_32/bert/pooler/dense/bias:0'] when minimizing the loss. If you're using `model.compile()`, did you forget to provide a `loss` argument?\n"
          ]
        },
        {
          "output_type": "stream",
          "name": "stdout",
          "text": [
            "(32, 10, 128)\n",
            "(32, 1, 128)\n",
            "(32, 128) (32, 1280) (32, 128)\n"
          ]
        },
        {
          "output_type": "stream",
          "name": "stderr",
          "text": [
            "WARNING:tensorflow:Gradients do not exist for variables ['tf_bert_model_32/bert/pooler/dense/kernel:0', 'tf_bert_model_32/bert/pooler/dense/bias:0'] when minimizing the loss. If you're using `model.compile()`, did you forget to provide a `loss` argument?\n",
            "WARNING:tensorflow:Gradients do not exist for variables ['tf_bert_model_32/bert/pooler/dense/kernel:0', 'tf_bert_model_32/bert/pooler/dense/bias:0'] when minimizing the loss. If you're using `model.compile()`, did you forget to provide a `loss` argument?\n"
          ]
        },
        {
          "output_type": "stream",
          "name": "stdout",
          "text": [
            "(32, 10, 128)\n",
            "(32, 1, 128)\n",
            "(32, 128) (32, 1280) (32, 128)\n"
          ]
        },
        {
          "output_type": "stream",
          "name": "stderr",
          "text": [
            "WARNING:tensorflow:Gradients do not exist for variables ['tf_bert_model_32/bert/pooler/dense/kernel:0', 'tf_bert_model_32/bert/pooler/dense/bias:0'] when minimizing the loss. If you're using `model.compile()`, did you forget to provide a `loss` argument?\n",
            "WARNING:tensorflow:Gradients do not exist for variables ['tf_bert_model_32/bert/pooler/dense/kernel:0', 'tf_bert_model_32/bert/pooler/dense/bias:0'] when minimizing the loss. If you're using `model.compile()`, did you forget to provide a `loss` argument?\n"
          ]
        },
        {
          "output_type": "stream",
          "name": "stdout",
          "text": [
            "(32, 10, 128)\n",
            "(32, 1, 128)\n",
            "(32, 128) (32, 1280) (32, 128)\n"
          ]
        },
        {
          "output_type": "stream",
          "name": "stderr",
          "text": [
            "WARNING:tensorflow:Gradients do not exist for variables ['tf_bert_model_32/bert/pooler/dense/kernel:0', 'tf_bert_model_32/bert/pooler/dense/bias:0'] when minimizing the loss. If you're using `model.compile()`, did you forget to provide a `loss` argument?\n",
            "WARNING:tensorflow:Gradients do not exist for variables ['tf_bert_model_32/bert/pooler/dense/kernel:0', 'tf_bert_model_32/bert/pooler/dense/bias:0'] when minimizing the loss. If you're using `model.compile()`, did you forget to provide a `loss` argument?\n"
          ]
        },
        {
          "output_type": "stream",
          "name": "stdout",
          "text": [
            "(32, 10, 128)\n",
            "(32, 1, 128)\n",
            "(32, 128) (32, 1280) (32, 128)\n"
          ]
        },
        {
          "output_type": "stream",
          "name": "stderr",
          "text": [
            "WARNING:tensorflow:Gradients do not exist for variables ['tf_bert_model_32/bert/pooler/dense/kernel:0', 'tf_bert_model_32/bert/pooler/dense/bias:0'] when minimizing the loss. If you're using `model.compile()`, did you forget to provide a `loss` argument?\n",
            "WARNING:tensorflow:Gradients do not exist for variables ['tf_bert_model_32/bert/pooler/dense/kernel:0', 'tf_bert_model_32/bert/pooler/dense/bias:0'] when minimizing the loss. If you're using `model.compile()`, did you forget to provide a `loss` argument?\n"
          ]
        },
        {
          "output_type": "stream",
          "name": "stdout",
          "text": [
            "(32, 10, 128)\n",
            "(32, 1, 128)\n",
            "(32, 128) (32, 1280) (32, 128)\n"
          ]
        },
        {
          "output_type": "stream",
          "name": "stderr",
          "text": [
            "WARNING:tensorflow:Gradients do not exist for variables ['tf_bert_model_32/bert/pooler/dense/kernel:0', 'tf_bert_model_32/bert/pooler/dense/bias:0'] when minimizing the loss. If you're using `model.compile()`, did you forget to provide a `loss` argument?\n",
            "WARNING:tensorflow:Gradients do not exist for variables ['tf_bert_model_32/bert/pooler/dense/kernel:0', 'tf_bert_model_32/bert/pooler/dense/bias:0'] when minimizing the loss. If you're using `model.compile()`, did you forget to provide a `loss` argument?\n"
          ]
        },
        {
          "output_type": "stream",
          "name": "stdout",
          "text": [
            "(32, 10, 128)\n",
            "(32, 1, 128)\n",
            "(32, 128) (32, 1280) (32, 128)\n"
          ]
        },
        {
          "output_type": "stream",
          "name": "stderr",
          "text": [
            "WARNING:tensorflow:Gradients do not exist for variables ['tf_bert_model_32/bert/pooler/dense/kernel:0', 'tf_bert_model_32/bert/pooler/dense/bias:0'] when minimizing the loss. If you're using `model.compile()`, did you forget to provide a `loss` argument?\n",
            "WARNING:tensorflow:Gradients do not exist for variables ['tf_bert_model_32/bert/pooler/dense/kernel:0', 'tf_bert_model_32/bert/pooler/dense/bias:0'] when minimizing the loss. If you're using `model.compile()`, did you forget to provide a `loss` argument?\n"
          ]
        },
        {
          "output_type": "stream",
          "name": "stdout",
          "text": [
            "Epoch 8/10 | Step 20/31 | Loss: 0.2611\n",
            "(32, 10, 128)\n",
            "(32, 1, 128)\n",
            "(32, 128) (32, 1280) (32, 128)\n"
          ]
        },
        {
          "output_type": "stream",
          "name": "stderr",
          "text": [
            "WARNING:tensorflow:Gradients do not exist for variables ['tf_bert_model_32/bert/pooler/dense/kernel:0', 'tf_bert_model_32/bert/pooler/dense/bias:0'] when minimizing the loss. If you're using `model.compile()`, did you forget to provide a `loss` argument?\n",
            "WARNING:tensorflow:Gradients do not exist for variables ['tf_bert_model_32/bert/pooler/dense/kernel:0', 'tf_bert_model_32/bert/pooler/dense/bias:0'] when minimizing the loss. If you're using `model.compile()`, did you forget to provide a `loss` argument?\n"
          ]
        },
        {
          "output_type": "stream",
          "name": "stdout",
          "text": [
            "(32, 10, 128)\n",
            "(32, 1, 128)\n",
            "(32, 128) (32, 1280) (32, 128)\n"
          ]
        },
        {
          "output_type": "stream",
          "name": "stderr",
          "text": [
            "WARNING:tensorflow:Gradients do not exist for variables ['tf_bert_model_32/bert/pooler/dense/kernel:0', 'tf_bert_model_32/bert/pooler/dense/bias:0'] when minimizing the loss. If you're using `model.compile()`, did you forget to provide a `loss` argument?\n",
            "WARNING:tensorflow:Gradients do not exist for variables ['tf_bert_model_32/bert/pooler/dense/kernel:0', 'tf_bert_model_32/bert/pooler/dense/bias:0'] when minimizing the loss. If you're using `model.compile()`, did you forget to provide a `loss` argument?\n"
          ]
        },
        {
          "output_type": "stream",
          "name": "stdout",
          "text": [
            "(32, 10, 128)\n",
            "(32, 1, 128)\n",
            "(32, 128) (32, 1280) (32, 128)\n"
          ]
        },
        {
          "output_type": "stream",
          "name": "stderr",
          "text": [
            "WARNING:tensorflow:Gradients do not exist for variables ['tf_bert_model_32/bert/pooler/dense/kernel:0', 'tf_bert_model_32/bert/pooler/dense/bias:0'] when minimizing the loss. If you're using `model.compile()`, did you forget to provide a `loss` argument?\n",
            "WARNING:tensorflow:Gradients do not exist for variables ['tf_bert_model_32/bert/pooler/dense/kernel:0', 'tf_bert_model_32/bert/pooler/dense/bias:0'] when minimizing the loss. If you're using `model.compile()`, did you forget to provide a `loss` argument?\n"
          ]
        },
        {
          "output_type": "stream",
          "name": "stdout",
          "text": [
            "(32, 10, 128)\n",
            "(32, 1, 128)\n",
            "(32, 128) (32, 1280) (32, 128)\n"
          ]
        },
        {
          "output_type": "stream",
          "name": "stderr",
          "text": [
            "WARNING:tensorflow:Gradients do not exist for variables ['tf_bert_model_32/bert/pooler/dense/kernel:0', 'tf_bert_model_32/bert/pooler/dense/bias:0'] when minimizing the loss. If you're using `model.compile()`, did you forget to provide a `loss` argument?\n",
            "WARNING:tensorflow:Gradients do not exist for variables ['tf_bert_model_32/bert/pooler/dense/kernel:0', 'tf_bert_model_32/bert/pooler/dense/bias:0'] when minimizing the loss. If you're using `model.compile()`, did you forget to provide a `loss` argument?\n"
          ]
        },
        {
          "output_type": "stream",
          "name": "stdout",
          "text": [
            "(32, 10, 128)\n",
            "(32, 1, 128)\n",
            "(32, 128) (32, 1280) (32, 128)\n"
          ]
        },
        {
          "output_type": "stream",
          "name": "stderr",
          "text": [
            "WARNING:tensorflow:Gradients do not exist for variables ['tf_bert_model_32/bert/pooler/dense/kernel:0', 'tf_bert_model_32/bert/pooler/dense/bias:0'] when minimizing the loss. If you're using `model.compile()`, did you forget to provide a `loss` argument?\n",
            "WARNING:tensorflow:Gradients do not exist for variables ['tf_bert_model_32/bert/pooler/dense/kernel:0', 'tf_bert_model_32/bert/pooler/dense/bias:0'] when minimizing the loss. If you're using `model.compile()`, did you forget to provide a `loss` argument?\n"
          ]
        },
        {
          "output_type": "stream",
          "name": "stdout",
          "text": [
            "(32, 10, 128)\n",
            "(32, 1, 128)\n",
            "(32, 128) (32, 1280) (32, 128)\n"
          ]
        },
        {
          "output_type": "stream",
          "name": "stderr",
          "text": [
            "WARNING:tensorflow:Gradients do not exist for variables ['tf_bert_model_32/bert/pooler/dense/kernel:0', 'tf_bert_model_32/bert/pooler/dense/bias:0'] when minimizing the loss. If you're using `model.compile()`, did you forget to provide a `loss` argument?\n",
            "WARNING:tensorflow:Gradients do not exist for variables ['tf_bert_model_32/bert/pooler/dense/kernel:0', 'tf_bert_model_32/bert/pooler/dense/bias:0'] when minimizing the loss. If you're using `model.compile()`, did you forget to provide a `loss` argument?\n"
          ]
        },
        {
          "output_type": "stream",
          "name": "stdout",
          "text": [
            "(32, 10, 128)\n",
            "(32, 1, 128)\n",
            "(32, 128) (32, 1280) (32, 128)\n"
          ]
        },
        {
          "output_type": "stream",
          "name": "stderr",
          "text": [
            "WARNING:tensorflow:Gradients do not exist for variables ['tf_bert_model_32/bert/pooler/dense/kernel:0', 'tf_bert_model_32/bert/pooler/dense/bias:0'] when minimizing the loss. If you're using `model.compile()`, did you forget to provide a `loss` argument?\n",
            "WARNING:tensorflow:Gradients do not exist for variables ['tf_bert_model_32/bert/pooler/dense/kernel:0', 'tf_bert_model_32/bert/pooler/dense/bias:0'] when minimizing the loss. If you're using `model.compile()`, did you forget to provide a `loss` argument?\n"
          ]
        },
        {
          "output_type": "stream",
          "name": "stdout",
          "text": [
            "(32, 10, 128)\n",
            "(32, 1, 128)\n",
            "(32, 128) (32, 1280) (32, 128)\n"
          ]
        },
        {
          "output_type": "stream",
          "name": "stderr",
          "text": [
            "WARNING:tensorflow:Gradients do not exist for variables ['tf_bert_model_32/bert/pooler/dense/kernel:0', 'tf_bert_model_32/bert/pooler/dense/bias:0'] when minimizing the loss. If you're using `model.compile()`, did you forget to provide a `loss` argument?\n",
            "WARNING:tensorflow:Gradients do not exist for variables ['tf_bert_model_32/bert/pooler/dense/kernel:0', 'tf_bert_model_32/bert/pooler/dense/bias:0'] when minimizing the loss. If you're using `model.compile()`, did you forget to provide a `loss` argument?\n"
          ]
        },
        {
          "output_type": "stream",
          "name": "stdout",
          "text": [
            "(32, 10, 128)\n",
            "(32, 1, 128)\n",
            "(32, 128) (32, 1280) (32, 128)\n"
          ]
        },
        {
          "output_type": "stream",
          "name": "stderr",
          "text": [
            "WARNING:tensorflow:Gradients do not exist for variables ['tf_bert_model_32/bert/pooler/dense/kernel:0', 'tf_bert_model_32/bert/pooler/dense/bias:0'] when minimizing the loss. If you're using `model.compile()`, did you forget to provide a `loss` argument?\n",
            "WARNING:tensorflow:Gradients do not exist for variables ['tf_bert_model_32/bert/pooler/dense/kernel:0', 'tf_bert_model_32/bert/pooler/dense/bias:0'] when minimizing the loss. If you're using `model.compile()`, did you forget to provide a `loss` argument?\n"
          ]
        },
        {
          "output_type": "stream",
          "name": "stdout",
          "text": [
            "(32, 10, 128)\n",
            "(32, 1, 128)\n",
            "(32, 128) (32, 1280) (32, 128)\n"
          ]
        },
        {
          "output_type": "stream",
          "name": "stderr",
          "text": [
            "WARNING:tensorflow:Gradients do not exist for variables ['tf_bert_model_32/bert/pooler/dense/kernel:0', 'tf_bert_model_32/bert/pooler/dense/bias:0'] when minimizing the loss. If you're using `model.compile()`, did you forget to provide a `loss` argument?\n",
            "WARNING:tensorflow:Gradients do not exist for variables ['tf_bert_model_32/bert/pooler/dense/kernel:0', 'tf_bert_model_32/bert/pooler/dense/bias:0'] when minimizing the loss. If you're using `model.compile()`, did you forget to provide a `loss` argument?\n"
          ]
        },
        {
          "output_type": "stream",
          "name": "stdout",
          "text": [
            "Epoch 8/10 | Step 30/31 | Loss: 0.1969\n",
            "(32, 10, 128)\n",
            "(32, 1, 128)\n",
            "(32, 128) (32, 1280) (32, 128)\n"
          ]
        },
        {
          "output_type": "stream",
          "name": "stderr",
          "text": [
            "WARNING:tensorflow:Gradients do not exist for variables ['tf_bert_model_32/bert/pooler/dense/kernel:0', 'tf_bert_model_32/bert/pooler/dense/bias:0'] when minimizing the loss. If you're using `model.compile()`, did you forget to provide a `loss` argument?\n",
            "WARNING:tensorflow:Gradients do not exist for variables ['tf_bert_model_32/bert/pooler/dense/kernel:0', 'tf_bert_model_32/bert/pooler/dense/bias:0'] when minimizing the loss. If you're using `model.compile()`, did you forget to provide a `loss` argument?\n"
          ]
        },
        {
          "output_type": "stream",
          "name": "stdout",
          "text": [
            "(32, 10, 128)\n",
            "(32, 1, 128)\n",
            "(32, 128) (32, 1280) (32, 128)\n"
          ]
        },
        {
          "output_type": "stream",
          "name": "stderr",
          "text": [
            "WARNING:tensorflow:Gradients do not exist for variables ['tf_bert_model_32/bert/pooler/dense/kernel:0', 'tf_bert_model_32/bert/pooler/dense/bias:0'] when minimizing the loss. If you're using `model.compile()`, did you forget to provide a `loss` argument?\n",
            "WARNING:tensorflow:Gradients do not exist for variables ['tf_bert_model_32/bert/pooler/dense/kernel:0', 'tf_bert_model_32/bert/pooler/dense/bias:0'] when minimizing the loss. If you're using `model.compile()`, did you forget to provide a `loss` argument?\n"
          ]
        },
        {
          "output_type": "stream",
          "name": "stdout",
          "text": [
            "(32, 10, 128)\n",
            "(32, 1, 128)\n",
            "(32, 128) (32, 1280) (32, 128)\n"
          ]
        },
        {
          "output_type": "stream",
          "name": "stderr",
          "text": [
            "WARNING:tensorflow:Gradients do not exist for variables ['tf_bert_model_32/bert/pooler/dense/kernel:0', 'tf_bert_model_32/bert/pooler/dense/bias:0'] when minimizing the loss. If you're using `model.compile()`, did you forget to provide a `loss` argument?\n",
            "WARNING:tensorflow:Gradients do not exist for variables ['tf_bert_model_32/bert/pooler/dense/kernel:0', 'tf_bert_model_32/bert/pooler/dense/bias:0'] when minimizing the loss. If you're using `model.compile()`, did you forget to provide a `loss` argument?\n"
          ]
        },
        {
          "output_type": "stream",
          "name": "stdout",
          "text": [
            "(32, 10, 128)\n",
            "(32, 1, 128)\n",
            "(32, 128) (32, 1280) (32, 128)\n"
          ]
        },
        {
          "output_type": "stream",
          "name": "stderr",
          "text": [
            "WARNING:tensorflow:Gradients do not exist for variables ['tf_bert_model_32/bert/pooler/dense/kernel:0', 'tf_bert_model_32/bert/pooler/dense/bias:0'] when minimizing the loss. If you're using `model.compile()`, did you forget to provide a `loss` argument?\n",
            "WARNING:tensorflow:Gradients do not exist for variables ['tf_bert_model_32/bert/pooler/dense/kernel:0', 'tf_bert_model_32/bert/pooler/dense/bias:0'] when minimizing the loss. If you're using `model.compile()`, did you forget to provide a `loss` argument?\n"
          ]
        },
        {
          "output_type": "stream",
          "name": "stdout",
          "text": [
            "(32, 10, 128)\n",
            "(32, 1, 128)\n",
            "(32, 128) (32, 1280) (32, 128)\n"
          ]
        },
        {
          "output_type": "stream",
          "name": "stderr",
          "text": [
            "WARNING:tensorflow:Gradients do not exist for variables ['tf_bert_model_32/bert/pooler/dense/kernel:0', 'tf_bert_model_32/bert/pooler/dense/bias:0'] when minimizing the loss. If you're using `model.compile()`, did you forget to provide a `loss` argument?\n",
            "WARNING:tensorflow:Gradients do not exist for variables ['tf_bert_model_32/bert/pooler/dense/kernel:0', 'tf_bert_model_32/bert/pooler/dense/bias:0'] when minimizing the loss. If you're using `model.compile()`, did you forget to provide a `loss` argument?\n"
          ]
        },
        {
          "output_type": "stream",
          "name": "stdout",
          "text": [
            "(32, 10, 128)\n",
            "(32, 1, 128)\n",
            "(32, 128) (32, 1280) (32, 128)\n"
          ]
        },
        {
          "output_type": "stream",
          "name": "stderr",
          "text": [
            "WARNING:tensorflow:Gradients do not exist for variables ['tf_bert_model_32/bert/pooler/dense/kernel:0', 'tf_bert_model_32/bert/pooler/dense/bias:0'] when minimizing the loss. If you're using `model.compile()`, did you forget to provide a `loss` argument?\n",
            "WARNING:tensorflow:Gradients do not exist for variables ['tf_bert_model_32/bert/pooler/dense/kernel:0', 'tf_bert_model_32/bert/pooler/dense/bias:0'] when minimizing the loss. If you're using `model.compile()`, did you forget to provide a `loss` argument?\n"
          ]
        },
        {
          "output_type": "stream",
          "name": "stdout",
          "text": [
            "(32, 10, 128)\n",
            "(32, 1, 128)\n",
            "(32, 128) (32, 1280) (32, 128)\n"
          ]
        },
        {
          "output_type": "stream",
          "name": "stderr",
          "text": [
            "WARNING:tensorflow:Gradients do not exist for variables ['tf_bert_model_32/bert/pooler/dense/kernel:0', 'tf_bert_model_32/bert/pooler/dense/bias:0'] when minimizing the loss. If you're using `model.compile()`, did you forget to provide a `loss` argument?\n",
            "WARNING:tensorflow:Gradients do not exist for variables ['tf_bert_model_32/bert/pooler/dense/kernel:0', 'tf_bert_model_32/bert/pooler/dense/bias:0'] when minimizing the loss. If you're using `model.compile()`, did you forget to provide a `loss` argument?\n"
          ]
        },
        {
          "output_type": "stream",
          "name": "stdout",
          "text": [
            "(32, 10, 128)\n",
            "(32, 1, 128)\n",
            "(32, 128) (32, 1280) (32, 128)\n"
          ]
        },
        {
          "output_type": "stream",
          "name": "stderr",
          "text": [
            "WARNING:tensorflow:Gradients do not exist for variables ['tf_bert_model_32/bert/pooler/dense/kernel:0', 'tf_bert_model_32/bert/pooler/dense/bias:0'] when minimizing the loss. If you're using `model.compile()`, did you forget to provide a `loss` argument?\n",
            "WARNING:tensorflow:Gradients do not exist for variables ['tf_bert_model_32/bert/pooler/dense/kernel:0', 'tf_bert_model_32/bert/pooler/dense/bias:0'] when minimizing the loss. If you're using `model.compile()`, did you forget to provide a `loss` argument?\n"
          ]
        },
        {
          "output_type": "stream",
          "name": "stdout",
          "text": [
            "(32, 10, 128)\n",
            "(32, 1, 128)\n",
            "(32, 128) (32, 1280) (32, 128)\n"
          ]
        },
        {
          "output_type": "stream",
          "name": "stderr",
          "text": [
            "WARNING:tensorflow:Gradients do not exist for variables ['tf_bert_model_32/bert/pooler/dense/kernel:0', 'tf_bert_model_32/bert/pooler/dense/bias:0'] when minimizing the loss. If you're using `model.compile()`, did you forget to provide a `loss` argument?\n",
            "WARNING:tensorflow:Gradients do not exist for variables ['tf_bert_model_32/bert/pooler/dense/kernel:0', 'tf_bert_model_32/bert/pooler/dense/bias:0'] when minimizing the loss. If you're using `model.compile()`, did you forget to provide a `loss` argument?\n"
          ]
        },
        {
          "output_type": "stream",
          "name": "stdout",
          "text": [
            "(32, 10, 128)\n",
            "(32, 1, 128)\n",
            "(32, 128) (32, 1280) (32, 128)\n"
          ]
        },
        {
          "output_type": "stream",
          "name": "stderr",
          "text": [
            "WARNING:tensorflow:Gradients do not exist for variables ['tf_bert_model_32/bert/pooler/dense/kernel:0', 'tf_bert_model_32/bert/pooler/dense/bias:0'] when minimizing the loss. If you're using `model.compile()`, did you forget to provide a `loss` argument?\n",
            "WARNING:tensorflow:Gradients do not exist for variables ['tf_bert_model_32/bert/pooler/dense/kernel:0', 'tf_bert_model_32/bert/pooler/dense/bias:0'] when minimizing the loss. If you're using `model.compile()`, did you forget to provide a `loss` argument?\n"
          ]
        },
        {
          "output_type": "stream",
          "name": "stdout",
          "text": [
            "(32, 10, 128)\n",
            "(32, 1, 128)\n",
            "(32, 128) (32, 1280) (32, 128)\n"
          ]
        },
        {
          "output_type": "stream",
          "name": "stderr",
          "text": [
            "WARNING:tensorflow:Gradients do not exist for variables ['tf_bert_model_32/bert/pooler/dense/kernel:0', 'tf_bert_model_32/bert/pooler/dense/bias:0'] when minimizing the loss. If you're using `model.compile()`, did you forget to provide a `loss` argument?\n",
            "WARNING:tensorflow:Gradients do not exist for variables ['tf_bert_model_32/bert/pooler/dense/kernel:0', 'tf_bert_model_32/bert/pooler/dense/bias:0'] when minimizing the loss. If you're using `model.compile()`, did you forget to provide a `loss` argument?\n"
          ]
        },
        {
          "output_type": "stream",
          "name": "stdout",
          "text": [
            "Epoch 9/10 | Step 10/31 | Loss: 0.3010\n",
            "(32, 10, 128)\n",
            "(32, 1, 128)\n",
            "(32, 128) (32, 1280) (32, 128)\n"
          ]
        },
        {
          "output_type": "stream",
          "name": "stderr",
          "text": [
            "WARNING:tensorflow:Gradients do not exist for variables ['tf_bert_model_32/bert/pooler/dense/kernel:0', 'tf_bert_model_32/bert/pooler/dense/bias:0'] when minimizing the loss. If you're using `model.compile()`, did you forget to provide a `loss` argument?\n",
            "WARNING:tensorflow:Gradients do not exist for variables ['tf_bert_model_32/bert/pooler/dense/kernel:0', 'tf_bert_model_32/bert/pooler/dense/bias:0'] when minimizing the loss. If you're using `model.compile()`, did you forget to provide a `loss` argument?\n"
          ]
        },
        {
          "output_type": "stream",
          "name": "stdout",
          "text": [
            "(32, 10, 128)\n",
            "(32, 1, 128)\n",
            "(32, 128) (32, 1280) (32, 128)\n"
          ]
        },
        {
          "output_type": "stream",
          "name": "stderr",
          "text": [
            "WARNING:tensorflow:Gradients do not exist for variables ['tf_bert_model_32/bert/pooler/dense/kernel:0', 'tf_bert_model_32/bert/pooler/dense/bias:0'] when minimizing the loss. If you're using `model.compile()`, did you forget to provide a `loss` argument?\n",
            "WARNING:tensorflow:Gradients do not exist for variables ['tf_bert_model_32/bert/pooler/dense/kernel:0', 'tf_bert_model_32/bert/pooler/dense/bias:0'] when minimizing the loss. If you're using `model.compile()`, did you forget to provide a `loss` argument?\n"
          ]
        },
        {
          "output_type": "stream",
          "name": "stdout",
          "text": [
            "(32, 10, 128)\n",
            "(32, 1, 128)\n",
            "(32, 128) (32, 1280) (32, 128)\n"
          ]
        },
        {
          "output_type": "stream",
          "name": "stderr",
          "text": [
            "WARNING:tensorflow:Gradients do not exist for variables ['tf_bert_model_32/bert/pooler/dense/kernel:0', 'tf_bert_model_32/bert/pooler/dense/bias:0'] when minimizing the loss. If you're using `model.compile()`, did you forget to provide a `loss` argument?\n",
            "WARNING:tensorflow:Gradients do not exist for variables ['tf_bert_model_32/bert/pooler/dense/kernel:0', 'tf_bert_model_32/bert/pooler/dense/bias:0'] when minimizing the loss. If you're using `model.compile()`, did you forget to provide a `loss` argument?\n"
          ]
        },
        {
          "output_type": "stream",
          "name": "stdout",
          "text": [
            "(32, 10, 128)\n",
            "(32, 1, 128)\n",
            "(32, 128) (32, 1280) (32, 128)\n"
          ]
        },
        {
          "output_type": "stream",
          "name": "stderr",
          "text": [
            "WARNING:tensorflow:Gradients do not exist for variables ['tf_bert_model_32/bert/pooler/dense/kernel:0', 'tf_bert_model_32/bert/pooler/dense/bias:0'] when minimizing the loss. If you're using `model.compile()`, did you forget to provide a `loss` argument?\n",
            "WARNING:tensorflow:Gradients do not exist for variables ['tf_bert_model_32/bert/pooler/dense/kernel:0', 'tf_bert_model_32/bert/pooler/dense/bias:0'] when minimizing the loss. If you're using `model.compile()`, did you forget to provide a `loss` argument?\n"
          ]
        },
        {
          "output_type": "stream",
          "name": "stdout",
          "text": [
            "(32, 10, 128)\n",
            "(32, 1, 128)\n",
            "(32, 128) (32, 1280) (32, 128)\n"
          ]
        },
        {
          "output_type": "stream",
          "name": "stderr",
          "text": [
            "WARNING:tensorflow:Gradients do not exist for variables ['tf_bert_model_32/bert/pooler/dense/kernel:0', 'tf_bert_model_32/bert/pooler/dense/bias:0'] when minimizing the loss. If you're using `model.compile()`, did you forget to provide a `loss` argument?\n",
            "WARNING:tensorflow:Gradients do not exist for variables ['tf_bert_model_32/bert/pooler/dense/kernel:0', 'tf_bert_model_32/bert/pooler/dense/bias:0'] when minimizing the loss. If you're using `model.compile()`, did you forget to provide a `loss` argument?\n"
          ]
        },
        {
          "output_type": "stream",
          "name": "stdout",
          "text": [
            "(32, 10, 128)\n",
            "(32, 1, 128)\n",
            "(32, 128) (32, 1280) (32, 128)\n"
          ]
        },
        {
          "output_type": "stream",
          "name": "stderr",
          "text": [
            "WARNING:tensorflow:Gradients do not exist for variables ['tf_bert_model_32/bert/pooler/dense/kernel:0', 'tf_bert_model_32/bert/pooler/dense/bias:0'] when minimizing the loss. If you're using `model.compile()`, did you forget to provide a `loss` argument?\n",
            "WARNING:tensorflow:Gradients do not exist for variables ['tf_bert_model_32/bert/pooler/dense/kernel:0', 'tf_bert_model_32/bert/pooler/dense/bias:0'] when minimizing the loss. If you're using `model.compile()`, did you forget to provide a `loss` argument?\n"
          ]
        },
        {
          "output_type": "stream",
          "name": "stdout",
          "text": [
            "(32, 10, 128)\n",
            "(32, 1, 128)\n",
            "(32, 128) (32, 1280) (32, 128)\n"
          ]
        },
        {
          "output_type": "stream",
          "name": "stderr",
          "text": [
            "WARNING:tensorflow:Gradients do not exist for variables ['tf_bert_model_32/bert/pooler/dense/kernel:0', 'tf_bert_model_32/bert/pooler/dense/bias:0'] when minimizing the loss. If you're using `model.compile()`, did you forget to provide a `loss` argument?\n",
            "WARNING:tensorflow:Gradients do not exist for variables ['tf_bert_model_32/bert/pooler/dense/kernel:0', 'tf_bert_model_32/bert/pooler/dense/bias:0'] when minimizing the loss. If you're using `model.compile()`, did you forget to provide a `loss` argument?\n"
          ]
        },
        {
          "output_type": "stream",
          "name": "stdout",
          "text": [
            "(32, 10, 128)\n",
            "(32, 1, 128)\n",
            "(32, 128) (32, 1280) (32, 128)\n"
          ]
        },
        {
          "output_type": "stream",
          "name": "stderr",
          "text": [
            "WARNING:tensorflow:Gradients do not exist for variables ['tf_bert_model_32/bert/pooler/dense/kernel:0', 'tf_bert_model_32/bert/pooler/dense/bias:0'] when minimizing the loss. If you're using `model.compile()`, did you forget to provide a `loss` argument?\n",
            "WARNING:tensorflow:Gradients do not exist for variables ['tf_bert_model_32/bert/pooler/dense/kernel:0', 'tf_bert_model_32/bert/pooler/dense/bias:0'] when minimizing the loss. If you're using `model.compile()`, did you forget to provide a `loss` argument?\n"
          ]
        },
        {
          "output_type": "stream",
          "name": "stdout",
          "text": [
            "(32, 10, 128)\n",
            "(32, 1, 128)\n",
            "(32, 128) (32, 1280) (32, 128)\n"
          ]
        },
        {
          "output_type": "stream",
          "name": "stderr",
          "text": [
            "WARNING:tensorflow:Gradients do not exist for variables ['tf_bert_model_32/bert/pooler/dense/kernel:0', 'tf_bert_model_32/bert/pooler/dense/bias:0'] when minimizing the loss. If you're using `model.compile()`, did you forget to provide a `loss` argument?\n",
            "WARNING:tensorflow:Gradients do not exist for variables ['tf_bert_model_32/bert/pooler/dense/kernel:0', 'tf_bert_model_32/bert/pooler/dense/bias:0'] when minimizing the loss. If you're using `model.compile()`, did you forget to provide a `loss` argument?\n"
          ]
        },
        {
          "output_type": "stream",
          "name": "stdout",
          "text": [
            "(32, 10, 128)\n",
            "(32, 1, 128)\n",
            "(32, 128) (32, 1280) (32, 128)\n"
          ]
        },
        {
          "output_type": "stream",
          "name": "stderr",
          "text": [
            "WARNING:tensorflow:Gradients do not exist for variables ['tf_bert_model_32/bert/pooler/dense/kernel:0', 'tf_bert_model_32/bert/pooler/dense/bias:0'] when minimizing the loss. If you're using `model.compile()`, did you forget to provide a `loss` argument?\n",
            "WARNING:tensorflow:Gradients do not exist for variables ['tf_bert_model_32/bert/pooler/dense/kernel:0', 'tf_bert_model_32/bert/pooler/dense/bias:0'] when minimizing the loss. If you're using `model.compile()`, did you forget to provide a `loss` argument?\n"
          ]
        },
        {
          "output_type": "stream",
          "name": "stdout",
          "text": [
            "Epoch 9/10 | Step 20/31 | Loss: 0.2997\n",
            "(32, 10, 128)\n",
            "(32, 1, 128)\n",
            "(32, 128) (32, 1280) (32, 128)\n"
          ]
        },
        {
          "output_type": "stream",
          "name": "stderr",
          "text": [
            "WARNING:tensorflow:Gradients do not exist for variables ['tf_bert_model_32/bert/pooler/dense/kernel:0', 'tf_bert_model_32/bert/pooler/dense/bias:0'] when minimizing the loss. If you're using `model.compile()`, did you forget to provide a `loss` argument?\n",
            "WARNING:tensorflow:Gradients do not exist for variables ['tf_bert_model_32/bert/pooler/dense/kernel:0', 'tf_bert_model_32/bert/pooler/dense/bias:0'] when minimizing the loss. If you're using `model.compile()`, did you forget to provide a `loss` argument?\n"
          ]
        },
        {
          "output_type": "stream",
          "name": "stdout",
          "text": [
            "(32, 10, 128)\n",
            "(32, 1, 128)\n",
            "(32, 128) (32, 1280) (32, 128)\n"
          ]
        },
        {
          "output_type": "stream",
          "name": "stderr",
          "text": [
            "WARNING:tensorflow:Gradients do not exist for variables ['tf_bert_model_32/bert/pooler/dense/kernel:0', 'tf_bert_model_32/bert/pooler/dense/bias:0'] when minimizing the loss. If you're using `model.compile()`, did you forget to provide a `loss` argument?\n",
            "WARNING:tensorflow:Gradients do not exist for variables ['tf_bert_model_32/bert/pooler/dense/kernel:0', 'tf_bert_model_32/bert/pooler/dense/bias:0'] when minimizing the loss. If you're using `model.compile()`, did you forget to provide a `loss` argument?\n"
          ]
        },
        {
          "output_type": "stream",
          "name": "stdout",
          "text": [
            "(32, 10, 128)\n",
            "(32, 1, 128)\n",
            "(32, 128) (32, 1280) (32, 128)\n"
          ]
        },
        {
          "output_type": "stream",
          "name": "stderr",
          "text": [
            "WARNING:tensorflow:Gradients do not exist for variables ['tf_bert_model_32/bert/pooler/dense/kernel:0', 'tf_bert_model_32/bert/pooler/dense/bias:0'] when minimizing the loss. If you're using `model.compile()`, did you forget to provide a `loss` argument?\n",
            "WARNING:tensorflow:Gradients do not exist for variables ['tf_bert_model_32/bert/pooler/dense/kernel:0', 'tf_bert_model_32/bert/pooler/dense/bias:0'] when minimizing the loss. If you're using `model.compile()`, did you forget to provide a `loss` argument?\n"
          ]
        },
        {
          "output_type": "stream",
          "name": "stdout",
          "text": [
            "(32, 10, 128)\n",
            "(32, 1, 128)\n",
            "(32, 128) (32, 1280) (32, 128)\n"
          ]
        },
        {
          "output_type": "stream",
          "name": "stderr",
          "text": [
            "WARNING:tensorflow:Gradients do not exist for variables ['tf_bert_model_32/bert/pooler/dense/kernel:0', 'tf_bert_model_32/bert/pooler/dense/bias:0'] when minimizing the loss. If you're using `model.compile()`, did you forget to provide a `loss` argument?\n",
            "WARNING:tensorflow:Gradients do not exist for variables ['tf_bert_model_32/bert/pooler/dense/kernel:0', 'tf_bert_model_32/bert/pooler/dense/bias:0'] when minimizing the loss. If you're using `model.compile()`, did you forget to provide a `loss` argument?\n"
          ]
        },
        {
          "output_type": "stream",
          "name": "stdout",
          "text": [
            "(32, 10, 128)\n",
            "(32, 1, 128)\n",
            "(32, 128) (32, 1280) (32, 128)\n"
          ]
        },
        {
          "output_type": "stream",
          "name": "stderr",
          "text": [
            "WARNING:tensorflow:Gradients do not exist for variables ['tf_bert_model_32/bert/pooler/dense/kernel:0', 'tf_bert_model_32/bert/pooler/dense/bias:0'] when minimizing the loss. If you're using `model.compile()`, did you forget to provide a `loss` argument?\n",
            "WARNING:tensorflow:Gradients do not exist for variables ['tf_bert_model_32/bert/pooler/dense/kernel:0', 'tf_bert_model_32/bert/pooler/dense/bias:0'] when minimizing the loss. If you're using `model.compile()`, did you forget to provide a `loss` argument?\n"
          ]
        },
        {
          "output_type": "stream",
          "name": "stdout",
          "text": [
            "(32, 10, 128)\n",
            "(32, 1, 128)\n",
            "(32, 128) (32, 1280) (32, 128)\n"
          ]
        },
        {
          "output_type": "stream",
          "name": "stderr",
          "text": [
            "WARNING:tensorflow:Gradients do not exist for variables ['tf_bert_model_32/bert/pooler/dense/kernel:0', 'tf_bert_model_32/bert/pooler/dense/bias:0'] when minimizing the loss. If you're using `model.compile()`, did you forget to provide a `loss` argument?\n",
            "WARNING:tensorflow:Gradients do not exist for variables ['tf_bert_model_32/bert/pooler/dense/kernel:0', 'tf_bert_model_32/bert/pooler/dense/bias:0'] when minimizing the loss. If you're using `model.compile()`, did you forget to provide a `loss` argument?\n"
          ]
        },
        {
          "output_type": "stream",
          "name": "stdout",
          "text": [
            "(32, 10, 128)\n",
            "(32, 1, 128)\n",
            "(32, 128) (32, 1280) (32, 128)\n"
          ]
        },
        {
          "output_type": "stream",
          "name": "stderr",
          "text": [
            "WARNING:tensorflow:Gradients do not exist for variables ['tf_bert_model_32/bert/pooler/dense/kernel:0', 'tf_bert_model_32/bert/pooler/dense/bias:0'] when minimizing the loss. If you're using `model.compile()`, did you forget to provide a `loss` argument?\n",
            "WARNING:tensorflow:Gradients do not exist for variables ['tf_bert_model_32/bert/pooler/dense/kernel:0', 'tf_bert_model_32/bert/pooler/dense/bias:0'] when minimizing the loss. If you're using `model.compile()`, did you forget to provide a `loss` argument?\n"
          ]
        },
        {
          "output_type": "stream",
          "name": "stdout",
          "text": [
            "(32, 10, 128)\n",
            "(32, 1, 128)\n",
            "(32, 128) (32, 1280) (32, 128)\n"
          ]
        },
        {
          "output_type": "stream",
          "name": "stderr",
          "text": [
            "WARNING:tensorflow:Gradients do not exist for variables ['tf_bert_model_32/bert/pooler/dense/kernel:0', 'tf_bert_model_32/bert/pooler/dense/bias:0'] when minimizing the loss. If you're using `model.compile()`, did you forget to provide a `loss` argument?\n",
            "WARNING:tensorflow:Gradients do not exist for variables ['tf_bert_model_32/bert/pooler/dense/kernel:0', 'tf_bert_model_32/bert/pooler/dense/bias:0'] when minimizing the loss. If you're using `model.compile()`, did you forget to provide a `loss` argument?\n"
          ]
        },
        {
          "output_type": "stream",
          "name": "stdout",
          "text": [
            "(32, 10, 128)\n",
            "(32, 1, 128)\n",
            "(32, 128) (32, 1280) (32, 128)\n"
          ]
        },
        {
          "output_type": "stream",
          "name": "stderr",
          "text": [
            "WARNING:tensorflow:Gradients do not exist for variables ['tf_bert_model_32/bert/pooler/dense/kernel:0', 'tf_bert_model_32/bert/pooler/dense/bias:0'] when minimizing the loss. If you're using `model.compile()`, did you forget to provide a `loss` argument?\n",
            "WARNING:tensorflow:Gradients do not exist for variables ['tf_bert_model_32/bert/pooler/dense/kernel:0', 'tf_bert_model_32/bert/pooler/dense/bias:0'] when minimizing the loss. If you're using `model.compile()`, did you forget to provide a `loss` argument?\n"
          ]
        },
        {
          "output_type": "stream",
          "name": "stdout",
          "text": [
            "(32, 10, 128)\n",
            "(32, 1, 128)\n",
            "(32, 128) (32, 1280) (32, 128)\n"
          ]
        },
        {
          "output_type": "stream",
          "name": "stderr",
          "text": [
            "WARNING:tensorflow:Gradients do not exist for variables ['tf_bert_model_32/bert/pooler/dense/kernel:0', 'tf_bert_model_32/bert/pooler/dense/bias:0'] when minimizing the loss. If you're using `model.compile()`, did you forget to provide a `loss` argument?\n",
            "WARNING:tensorflow:Gradients do not exist for variables ['tf_bert_model_32/bert/pooler/dense/kernel:0', 'tf_bert_model_32/bert/pooler/dense/bias:0'] when minimizing the loss. If you're using `model.compile()`, did you forget to provide a `loss` argument?\n"
          ]
        },
        {
          "output_type": "stream",
          "name": "stdout",
          "text": [
            "Epoch 9/10 | Step 30/31 | Loss: 0.1818\n",
            "(32, 10, 128)\n",
            "(32, 1, 128)\n",
            "(32, 128) (32, 1280) (32, 128)\n"
          ]
        },
        {
          "output_type": "stream",
          "name": "stderr",
          "text": [
            "WARNING:tensorflow:Gradients do not exist for variables ['tf_bert_model_32/bert/pooler/dense/kernel:0', 'tf_bert_model_32/bert/pooler/dense/bias:0'] when minimizing the loss. If you're using `model.compile()`, did you forget to provide a `loss` argument?\n",
            "WARNING:tensorflow:Gradients do not exist for variables ['tf_bert_model_32/bert/pooler/dense/kernel:0', 'tf_bert_model_32/bert/pooler/dense/bias:0'] when minimizing the loss. If you're using `model.compile()`, did you forget to provide a `loss` argument?\n"
          ]
        },
        {
          "output_type": "stream",
          "name": "stdout",
          "text": [
            "(32, 10, 128)\n",
            "(32, 1, 128)\n",
            "(32, 128) (32, 1280) (32, 128)\n"
          ]
        },
        {
          "output_type": "stream",
          "name": "stderr",
          "text": [
            "WARNING:tensorflow:Gradients do not exist for variables ['tf_bert_model_32/bert/pooler/dense/kernel:0', 'tf_bert_model_32/bert/pooler/dense/bias:0'] when minimizing the loss. If you're using `model.compile()`, did you forget to provide a `loss` argument?\n",
            "WARNING:tensorflow:Gradients do not exist for variables ['tf_bert_model_32/bert/pooler/dense/kernel:0', 'tf_bert_model_32/bert/pooler/dense/bias:0'] when minimizing the loss. If you're using `model.compile()`, did you forget to provide a `loss` argument?\n"
          ]
        },
        {
          "output_type": "stream",
          "name": "stdout",
          "text": [
            "(32, 10, 128)\n",
            "(32, 1, 128)\n",
            "(32, 128) (32, 1280) (32, 128)\n"
          ]
        },
        {
          "output_type": "stream",
          "name": "stderr",
          "text": [
            "WARNING:tensorflow:Gradients do not exist for variables ['tf_bert_model_32/bert/pooler/dense/kernel:0', 'tf_bert_model_32/bert/pooler/dense/bias:0'] when minimizing the loss. If you're using `model.compile()`, did you forget to provide a `loss` argument?\n",
            "WARNING:tensorflow:Gradients do not exist for variables ['tf_bert_model_32/bert/pooler/dense/kernel:0', 'tf_bert_model_32/bert/pooler/dense/bias:0'] when minimizing the loss. If you're using `model.compile()`, did you forget to provide a `loss` argument?\n"
          ]
        },
        {
          "output_type": "stream",
          "name": "stdout",
          "text": [
            "(32, 10, 128)\n",
            "(32, 1, 128)\n",
            "(32, 128) (32, 1280) (32, 128)\n"
          ]
        },
        {
          "output_type": "stream",
          "name": "stderr",
          "text": [
            "WARNING:tensorflow:Gradients do not exist for variables ['tf_bert_model_32/bert/pooler/dense/kernel:0', 'tf_bert_model_32/bert/pooler/dense/bias:0'] when minimizing the loss. If you're using `model.compile()`, did you forget to provide a `loss` argument?\n",
            "WARNING:tensorflow:Gradients do not exist for variables ['tf_bert_model_32/bert/pooler/dense/kernel:0', 'tf_bert_model_32/bert/pooler/dense/bias:0'] when minimizing the loss. If you're using `model.compile()`, did you forget to provide a `loss` argument?\n"
          ]
        },
        {
          "output_type": "stream",
          "name": "stdout",
          "text": [
            "(32, 10, 128)\n",
            "(32, 1, 128)\n",
            "(32, 128) (32, 1280) (32, 128)\n"
          ]
        },
        {
          "output_type": "stream",
          "name": "stderr",
          "text": [
            "WARNING:tensorflow:Gradients do not exist for variables ['tf_bert_model_32/bert/pooler/dense/kernel:0', 'tf_bert_model_32/bert/pooler/dense/bias:0'] when minimizing the loss. If you're using `model.compile()`, did you forget to provide a `loss` argument?\n",
            "WARNING:tensorflow:Gradients do not exist for variables ['tf_bert_model_32/bert/pooler/dense/kernel:0', 'tf_bert_model_32/bert/pooler/dense/bias:0'] when minimizing the loss. If you're using `model.compile()`, did you forget to provide a `loss` argument?\n"
          ]
        },
        {
          "output_type": "stream",
          "name": "stdout",
          "text": [
            "(32, 10, 128)\n",
            "(32, 1, 128)\n",
            "(32, 128) (32, 1280) (32, 128)\n"
          ]
        },
        {
          "output_type": "stream",
          "name": "stderr",
          "text": [
            "WARNING:tensorflow:Gradients do not exist for variables ['tf_bert_model_32/bert/pooler/dense/kernel:0', 'tf_bert_model_32/bert/pooler/dense/bias:0'] when minimizing the loss. If you're using `model.compile()`, did you forget to provide a `loss` argument?\n",
            "WARNING:tensorflow:Gradients do not exist for variables ['tf_bert_model_32/bert/pooler/dense/kernel:0', 'tf_bert_model_32/bert/pooler/dense/bias:0'] when minimizing the loss. If you're using `model.compile()`, did you forget to provide a `loss` argument?\n"
          ]
        },
        {
          "output_type": "stream",
          "name": "stdout",
          "text": [
            "(32, 10, 128)\n",
            "(32, 1, 128)\n",
            "(32, 128) (32, 1280) (32, 128)\n"
          ]
        },
        {
          "output_type": "stream",
          "name": "stderr",
          "text": [
            "WARNING:tensorflow:Gradients do not exist for variables ['tf_bert_model_32/bert/pooler/dense/kernel:0', 'tf_bert_model_32/bert/pooler/dense/bias:0'] when minimizing the loss. If you're using `model.compile()`, did you forget to provide a `loss` argument?\n",
            "WARNING:tensorflow:Gradients do not exist for variables ['tf_bert_model_32/bert/pooler/dense/kernel:0', 'tf_bert_model_32/bert/pooler/dense/bias:0'] when minimizing the loss. If you're using `model.compile()`, did you forget to provide a `loss` argument?\n"
          ]
        },
        {
          "output_type": "stream",
          "name": "stdout",
          "text": [
            "(32, 10, 128)\n",
            "(32, 1, 128)\n",
            "(32, 128) (32, 1280) (32, 128)\n"
          ]
        },
        {
          "output_type": "stream",
          "name": "stderr",
          "text": [
            "WARNING:tensorflow:Gradients do not exist for variables ['tf_bert_model_32/bert/pooler/dense/kernel:0', 'tf_bert_model_32/bert/pooler/dense/bias:0'] when minimizing the loss. If you're using `model.compile()`, did you forget to provide a `loss` argument?\n",
            "WARNING:tensorflow:Gradients do not exist for variables ['tf_bert_model_32/bert/pooler/dense/kernel:0', 'tf_bert_model_32/bert/pooler/dense/bias:0'] when minimizing the loss. If you're using `model.compile()`, did you forget to provide a `loss` argument?\n"
          ]
        },
        {
          "output_type": "stream",
          "name": "stdout",
          "text": [
            "(32, 10, 128)\n",
            "(32, 1, 128)\n",
            "(32, 128) (32, 1280) (32, 128)\n"
          ]
        },
        {
          "output_type": "stream",
          "name": "stderr",
          "text": [
            "WARNING:tensorflow:Gradients do not exist for variables ['tf_bert_model_32/bert/pooler/dense/kernel:0', 'tf_bert_model_32/bert/pooler/dense/bias:0'] when minimizing the loss. If you're using `model.compile()`, did you forget to provide a `loss` argument?\n",
            "WARNING:tensorflow:Gradients do not exist for variables ['tf_bert_model_32/bert/pooler/dense/kernel:0', 'tf_bert_model_32/bert/pooler/dense/bias:0'] when minimizing the loss. If you're using `model.compile()`, did you forget to provide a `loss` argument?\n"
          ]
        },
        {
          "output_type": "stream",
          "name": "stdout",
          "text": [
            "(32, 10, 128)\n",
            "(32, 1, 128)\n",
            "(32, 128) (32, 1280) (32, 128)\n"
          ]
        },
        {
          "output_type": "stream",
          "name": "stderr",
          "text": [
            "WARNING:tensorflow:Gradients do not exist for variables ['tf_bert_model_32/bert/pooler/dense/kernel:0', 'tf_bert_model_32/bert/pooler/dense/bias:0'] when minimizing the loss. If you're using `model.compile()`, did you forget to provide a `loss` argument?\n",
            "WARNING:tensorflow:Gradients do not exist for variables ['tf_bert_model_32/bert/pooler/dense/kernel:0', 'tf_bert_model_32/bert/pooler/dense/bias:0'] when minimizing the loss. If you're using `model.compile()`, did you forget to provide a `loss` argument?\n"
          ]
        },
        {
          "output_type": "stream",
          "name": "stdout",
          "text": [
            "(32, 10, 128)\n",
            "(32, 1, 128)\n",
            "(32, 128) (32, 1280) (32, 128)\n"
          ]
        },
        {
          "output_type": "stream",
          "name": "stderr",
          "text": [
            "WARNING:tensorflow:Gradients do not exist for variables ['tf_bert_model_32/bert/pooler/dense/kernel:0', 'tf_bert_model_32/bert/pooler/dense/bias:0'] when minimizing the loss. If you're using `model.compile()`, did you forget to provide a `loss` argument?\n",
            "WARNING:tensorflow:Gradients do not exist for variables ['tf_bert_model_32/bert/pooler/dense/kernel:0', 'tf_bert_model_32/bert/pooler/dense/bias:0'] when minimizing the loss. If you're using `model.compile()`, did you forget to provide a `loss` argument?\n"
          ]
        },
        {
          "output_type": "stream",
          "name": "stdout",
          "text": [
            "Epoch 10/10 | Step 10/31 | Loss: 0.2421\n",
            "(32, 10, 128)\n",
            "(32, 1, 128)\n",
            "(32, 128) (32, 1280) (32, 128)\n"
          ]
        },
        {
          "output_type": "stream",
          "name": "stderr",
          "text": [
            "WARNING:tensorflow:Gradients do not exist for variables ['tf_bert_model_32/bert/pooler/dense/kernel:0', 'tf_bert_model_32/bert/pooler/dense/bias:0'] when minimizing the loss. If you're using `model.compile()`, did you forget to provide a `loss` argument?\n",
            "WARNING:tensorflow:Gradients do not exist for variables ['tf_bert_model_32/bert/pooler/dense/kernel:0', 'tf_bert_model_32/bert/pooler/dense/bias:0'] when minimizing the loss. If you're using `model.compile()`, did you forget to provide a `loss` argument?\n"
          ]
        },
        {
          "output_type": "stream",
          "name": "stdout",
          "text": [
            "(32, 10, 128)\n",
            "(32, 1, 128)\n",
            "(32, 128) (32, 1280) (32, 128)\n"
          ]
        },
        {
          "output_type": "stream",
          "name": "stderr",
          "text": [
            "WARNING:tensorflow:Gradients do not exist for variables ['tf_bert_model_32/bert/pooler/dense/kernel:0', 'tf_bert_model_32/bert/pooler/dense/bias:0'] when minimizing the loss. If you're using `model.compile()`, did you forget to provide a `loss` argument?\n",
            "WARNING:tensorflow:Gradients do not exist for variables ['tf_bert_model_32/bert/pooler/dense/kernel:0', 'tf_bert_model_32/bert/pooler/dense/bias:0'] when minimizing the loss. If you're using `model.compile()`, did you forget to provide a `loss` argument?\n"
          ]
        },
        {
          "output_type": "stream",
          "name": "stdout",
          "text": [
            "(32, 10, 128)\n",
            "(32, 1, 128)\n",
            "(32, 128) (32, 1280) (32, 128)\n"
          ]
        },
        {
          "output_type": "stream",
          "name": "stderr",
          "text": [
            "WARNING:tensorflow:Gradients do not exist for variables ['tf_bert_model_32/bert/pooler/dense/kernel:0', 'tf_bert_model_32/bert/pooler/dense/bias:0'] when minimizing the loss. If you're using `model.compile()`, did you forget to provide a `loss` argument?\n",
            "WARNING:tensorflow:Gradients do not exist for variables ['tf_bert_model_32/bert/pooler/dense/kernel:0', 'tf_bert_model_32/bert/pooler/dense/bias:0'] when minimizing the loss. If you're using `model.compile()`, did you forget to provide a `loss` argument?\n"
          ]
        },
        {
          "output_type": "stream",
          "name": "stdout",
          "text": [
            "(32, 10, 128)\n",
            "(32, 1, 128)\n",
            "(32, 128) (32, 1280) (32, 128)\n"
          ]
        },
        {
          "output_type": "stream",
          "name": "stderr",
          "text": [
            "WARNING:tensorflow:Gradients do not exist for variables ['tf_bert_model_32/bert/pooler/dense/kernel:0', 'tf_bert_model_32/bert/pooler/dense/bias:0'] when minimizing the loss. If you're using `model.compile()`, did you forget to provide a `loss` argument?\n",
            "WARNING:tensorflow:Gradients do not exist for variables ['tf_bert_model_32/bert/pooler/dense/kernel:0', 'tf_bert_model_32/bert/pooler/dense/bias:0'] when minimizing the loss. If you're using `model.compile()`, did you forget to provide a `loss` argument?\n"
          ]
        },
        {
          "output_type": "stream",
          "name": "stdout",
          "text": [
            "(32, 10, 128)\n",
            "(32, 1, 128)\n",
            "(32, 128) (32, 1280) (32, 128)\n"
          ]
        },
        {
          "output_type": "stream",
          "name": "stderr",
          "text": [
            "WARNING:tensorflow:Gradients do not exist for variables ['tf_bert_model_32/bert/pooler/dense/kernel:0', 'tf_bert_model_32/bert/pooler/dense/bias:0'] when minimizing the loss. If you're using `model.compile()`, did you forget to provide a `loss` argument?\n",
            "WARNING:tensorflow:Gradients do not exist for variables ['tf_bert_model_32/bert/pooler/dense/kernel:0', 'tf_bert_model_32/bert/pooler/dense/bias:0'] when minimizing the loss. If you're using `model.compile()`, did you forget to provide a `loss` argument?\n"
          ]
        },
        {
          "output_type": "stream",
          "name": "stdout",
          "text": [
            "(32, 10, 128)\n",
            "(32, 1, 128)\n",
            "(32, 128) (32, 1280) (32, 128)\n"
          ]
        },
        {
          "output_type": "stream",
          "name": "stderr",
          "text": [
            "WARNING:tensorflow:Gradients do not exist for variables ['tf_bert_model_32/bert/pooler/dense/kernel:0', 'tf_bert_model_32/bert/pooler/dense/bias:0'] when minimizing the loss. If you're using `model.compile()`, did you forget to provide a `loss` argument?\n",
            "WARNING:tensorflow:Gradients do not exist for variables ['tf_bert_model_32/bert/pooler/dense/kernel:0', 'tf_bert_model_32/bert/pooler/dense/bias:0'] when minimizing the loss. If you're using `model.compile()`, did you forget to provide a `loss` argument?\n"
          ]
        },
        {
          "output_type": "stream",
          "name": "stdout",
          "text": [
            "(32, 10, 128)\n",
            "(32, 1, 128)\n",
            "(32, 128) (32, 1280) (32, 128)\n"
          ]
        },
        {
          "output_type": "stream",
          "name": "stderr",
          "text": [
            "WARNING:tensorflow:Gradients do not exist for variables ['tf_bert_model_32/bert/pooler/dense/kernel:0', 'tf_bert_model_32/bert/pooler/dense/bias:0'] when minimizing the loss. If you're using `model.compile()`, did you forget to provide a `loss` argument?\n",
            "WARNING:tensorflow:Gradients do not exist for variables ['tf_bert_model_32/bert/pooler/dense/kernel:0', 'tf_bert_model_32/bert/pooler/dense/bias:0'] when minimizing the loss. If you're using `model.compile()`, did you forget to provide a `loss` argument?\n"
          ]
        },
        {
          "output_type": "stream",
          "name": "stdout",
          "text": [
            "(32, 10, 128)\n",
            "(32, 1, 128)\n",
            "(32, 128) (32, 1280) (32, 128)\n"
          ]
        },
        {
          "output_type": "stream",
          "name": "stderr",
          "text": [
            "WARNING:tensorflow:Gradients do not exist for variables ['tf_bert_model_32/bert/pooler/dense/kernel:0', 'tf_bert_model_32/bert/pooler/dense/bias:0'] when minimizing the loss. If you're using `model.compile()`, did you forget to provide a `loss` argument?\n",
            "WARNING:tensorflow:Gradients do not exist for variables ['tf_bert_model_32/bert/pooler/dense/kernel:0', 'tf_bert_model_32/bert/pooler/dense/bias:0'] when minimizing the loss. If you're using `model.compile()`, did you forget to provide a `loss` argument?\n"
          ]
        },
        {
          "output_type": "stream",
          "name": "stdout",
          "text": [
            "(32, 10, 128)\n",
            "(32, 1, 128)\n",
            "(32, 128) (32, 1280) (32, 128)\n"
          ]
        },
        {
          "output_type": "stream",
          "name": "stderr",
          "text": [
            "WARNING:tensorflow:Gradients do not exist for variables ['tf_bert_model_32/bert/pooler/dense/kernel:0', 'tf_bert_model_32/bert/pooler/dense/bias:0'] when minimizing the loss. If you're using `model.compile()`, did you forget to provide a `loss` argument?\n",
            "WARNING:tensorflow:Gradients do not exist for variables ['tf_bert_model_32/bert/pooler/dense/kernel:0', 'tf_bert_model_32/bert/pooler/dense/bias:0'] when minimizing the loss. If you're using `model.compile()`, did you forget to provide a `loss` argument?\n"
          ]
        },
        {
          "output_type": "stream",
          "name": "stdout",
          "text": [
            "(32, 10, 128)\n",
            "(32, 1, 128)\n",
            "(32, 128) (32, 1280) (32, 128)\n"
          ]
        },
        {
          "output_type": "stream",
          "name": "stderr",
          "text": [
            "WARNING:tensorflow:Gradients do not exist for variables ['tf_bert_model_32/bert/pooler/dense/kernel:0', 'tf_bert_model_32/bert/pooler/dense/bias:0'] when minimizing the loss. If you're using `model.compile()`, did you forget to provide a `loss` argument?\n",
            "WARNING:tensorflow:Gradients do not exist for variables ['tf_bert_model_32/bert/pooler/dense/kernel:0', 'tf_bert_model_32/bert/pooler/dense/bias:0'] when minimizing the loss. If you're using `model.compile()`, did you forget to provide a `loss` argument?\n"
          ]
        },
        {
          "output_type": "stream",
          "name": "stdout",
          "text": [
            "Epoch 10/10 | Step 20/31 | Loss: 0.2356\n",
            "(32, 10, 128)\n",
            "(32, 1, 128)\n",
            "(32, 128) (32, 1280) (32, 128)\n"
          ]
        },
        {
          "output_type": "stream",
          "name": "stderr",
          "text": [
            "WARNING:tensorflow:Gradients do not exist for variables ['tf_bert_model_32/bert/pooler/dense/kernel:0', 'tf_bert_model_32/bert/pooler/dense/bias:0'] when minimizing the loss. If you're using `model.compile()`, did you forget to provide a `loss` argument?\n",
            "WARNING:tensorflow:Gradients do not exist for variables ['tf_bert_model_32/bert/pooler/dense/kernel:0', 'tf_bert_model_32/bert/pooler/dense/bias:0'] when minimizing the loss. If you're using `model.compile()`, did you forget to provide a `loss` argument?\n"
          ]
        },
        {
          "output_type": "stream",
          "name": "stdout",
          "text": [
            "(32, 10, 128)\n",
            "(32, 1, 128)\n",
            "(32, 128) (32, 1280) (32, 128)\n"
          ]
        },
        {
          "output_type": "stream",
          "name": "stderr",
          "text": [
            "WARNING:tensorflow:Gradients do not exist for variables ['tf_bert_model_32/bert/pooler/dense/kernel:0', 'tf_bert_model_32/bert/pooler/dense/bias:0'] when minimizing the loss. If you're using `model.compile()`, did you forget to provide a `loss` argument?\n",
            "WARNING:tensorflow:Gradients do not exist for variables ['tf_bert_model_32/bert/pooler/dense/kernel:0', 'tf_bert_model_32/bert/pooler/dense/bias:0'] when minimizing the loss. If you're using `model.compile()`, did you forget to provide a `loss` argument?\n"
          ]
        },
        {
          "output_type": "stream",
          "name": "stdout",
          "text": [
            "(32, 10, 128)\n",
            "(32, 1, 128)\n",
            "(32, 128) (32, 1280) (32, 128)\n"
          ]
        },
        {
          "output_type": "stream",
          "name": "stderr",
          "text": [
            "WARNING:tensorflow:Gradients do not exist for variables ['tf_bert_model_32/bert/pooler/dense/kernel:0', 'tf_bert_model_32/bert/pooler/dense/bias:0'] when minimizing the loss. If you're using `model.compile()`, did you forget to provide a `loss` argument?\n",
            "WARNING:tensorflow:Gradients do not exist for variables ['tf_bert_model_32/bert/pooler/dense/kernel:0', 'tf_bert_model_32/bert/pooler/dense/bias:0'] when minimizing the loss. If you're using `model.compile()`, did you forget to provide a `loss` argument?\n"
          ]
        },
        {
          "output_type": "stream",
          "name": "stdout",
          "text": [
            "(32, 10, 128)\n",
            "(32, 1, 128)\n",
            "(32, 128) (32, 1280) (32, 128)\n"
          ]
        },
        {
          "output_type": "stream",
          "name": "stderr",
          "text": [
            "WARNING:tensorflow:Gradients do not exist for variables ['tf_bert_model_32/bert/pooler/dense/kernel:0', 'tf_bert_model_32/bert/pooler/dense/bias:0'] when minimizing the loss. If you're using `model.compile()`, did you forget to provide a `loss` argument?\n",
            "WARNING:tensorflow:Gradients do not exist for variables ['tf_bert_model_32/bert/pooler/dense/kernel:0', 'tf_bert_model_32/bert/pooler/dense/bias:0'] when minimizing the loss. If you're using `model.compile()`, did you forget to provide a `loss` argument?\n"
          ]
        },
        {
          "output_type": "stream",
          "name": "stdout",
          "text": [
            "(32, 10, 128)\n",
            "(32, 1, 128)\n",
            "(32, 128) (32, 1280) (32, 128)\n"
          ]
        },
        {
          "output_type": "stream",
          "name": "stderr",
          "text": [
            "WARNING:tensorflow:Gradients do not exist for variables ['tf_bert_model_32/bert/pooler/dense/kernel:0', 'tf_bert_model_32/bert/pooler/dense/bias:0'] when minimizing the loss. If you're using `model.compile()`, did you forget to provide a `loss` argument?\n",
            "WARNING:tensorflow:Gradients do not exist for variables ['tf_bert_model_32/bert/pooler/dense/kernel:0', 'tf_bert_model_32/bert/pooler/dense/bias:0'] when minimizing the loss. If you're using `model.compile()`, did you forget to provide a `loss` argument?\n"
          ]
        },
        {
          "output_type": "stream",
          "name": "stdout",
          "text": [
            "(32, 10, 128)\n",
            "(32, 1, 128)\n",
            "(32, 128) (32, 1280) (32, 128)\n"
          ]
        },
        {
          "output_type": "stream",
          "name": "stderr",
          "text": [
            "WARNING:tensorflow:Gradients do not exist for variables ['tf_bert_model_32/bert/pooler/dense/kernel:0', 'tf_bert_model_32/bert/pooler/dense/bias:0'] when minimizing the loss. If you're using `model.compile()`, did you forget to provide a `loss` argument?\n",
            "WARNING:tensorflow:Gradients do not exist for variables ['tf_bert_model_32/bert/pooler/dense/kernel:0', 'tf_bert_model_32/bert/pooler/dense/bias:0'] when minimizing the loss. If you're using `model.compile()`, did you forget to provide a `loss` argument?\n"
          ]
        },
        {
          "output_type": "stream",
          "name": "stdout",
          "text": [
            "(32, 10, 128)\n",
            "(32, 1, 128)\n",
            "(32, 128) (32, 1280) (32, 128)\n"
          ]
        },
        {
          "output_type": "stream",
          "name": "stderr",
          "text": [
            "WARNING:tensorflow:Gradients do not exist for variables ['tf_bert_model_32/bert/pooler/dense/kernel:0', 'tf_bert_model_32/bert/pooler/dense/bias:0'] when minimizing the loss. If you're using `model.compile()`, did you forget to provide a `loss` argument?\n",
            "WARNING:tensorflow:Gradients do not exist for variables ['tf_bert_model_32/bert/pooler/dense/kernel:0', 'tf_bert_model_32/bert/pooler/dense/bias:0'] when minimizing the loss. If you're using `model.compile()`, did you forget to provide a `loss` argument?\n"
          ]
        },
        {
          "output_type": "stream",
          "name": "stdout",
          "text": [
            "(32, 10, 128)\n",
            "(32, 1, 128)\n",
            "(32, 128) (32, 1280) (32, 128)\n"
          ]
        },
        {
          "output_type": "stream",
          "name": "stderr",
          "text": [
            "WARNING:tensorflow:Gradients do not exist for variables ['tf_bert_model_32/bert/pooler/dense/kernel:0', 'tf_bert_model_32/bert/pooler/dense/bias:0'] when minimizing the loss. If you're using `model.compile()`, did you forget to provide a `loss` argument?\n",
            "WARNING:tensorflow:Gradients do not exist for variables ['tf_bert_model_32/bert/pooler/dense/kernel:0', 'tf_bert_model_32/bert/pooler/dense/bias:0'] when minimizing the loss. If you're using `model.compile()`, did you forget to provide a `loss` argument?\n"
          ]
        },
        {
          "output_type": "stream",
          "name": "stdout",
          "text": [
            "(32, 10, 128)\n",
            "(32, 1, 128)\n",
            "(32, 128) (32, 1280) (32, 128)\n"
          ]
        },
        {
          "output_type": "stream",
          "name": "stderr",
          "text": [
            "WARNING:tensorflow:Gradients do not exist for variables ['tf_bert_model_32/bert/pooler/dense/kernel:0', 'tf_bert_model_32/bert/pooler/dense/bias:0'] when minimizing the loss. If you're using `model.compile()`, did you forget to provide a `loss` argument?\n",
            "WARNING:tensorflow:Gradients do not exist for variables ['tf_bert_model_32/bert/pooler/dense/kernel:0', 'tf_bert_model_32/bert/pooler/dense/bias:0'] when minimizing the loss. If you're using `model.compile()`, did you forget to provide a `loss` argument?\n"
          ]
        },
        {
          "output_type": "stream",
          "name": "stdout",
          "text": [
            "(32, 10, 128)\n",
            "(32, 1, 128)\n",
            "(32, 128) (32, 1280) (32, 128)\n"
          ]
        },
        {
          "output_type": "stream",
          "name": "stderr",
          "text": [
            "WARNING:tensorflow:Gradients do not exist for variables ['tf_bert_model_32/bert/pooler/dense/kernel:0', 'tf_bert_model_32/bert/pooler/dense/bias:0'] when minimizing the loss. If you're using `model.compile()`, did you forget to provide a `loss` argument?\n",
            "WARNING:tensorflow:Gradients do not exist for variables ['tf_bert_model_32/bert/pooler/dense/kernel:0', 'tf_bert_model_32/bert/pooler/dense/bias:0'] when minimizing the loss. If you're using `model.compile()`, did you forget to provide a `loss` argument?\n"
          ]
        },
        {
          "output_type": "stream",
          "name": "stdout",
          "text": [
            "Epoch 10/10 | Step 30/31 | Loss: 0.1897\n",
            "(32, 10, 128)\n",
            "(32, 1, 128)\n",
            "(32, 128) (32, 1280) (32, 128)\n"
          ]
        },
        {
          "output_type": "stream",
          "name": "stderr",
          "text": [
            "WARNING:tensorflow:Gradients do not exist for variables ['tf_bert_model_32/bert/pooler/dense/kernel:0', 'tf_bert_model_32/bert/pooler/dense/bias:0'] when minimizing the loss. If you're using `model.compile()`, did you forget to provide a `loss` argument?\n",
            "WARNING:tensorflow:Gradients do not exist for variables ['tf_bert_model_32/bert/pooler/dense/kernel:0', 'tf_bert_model_32/bert/pooler/dense/bias:0'] when minimizing the loss. If you're using `model.compile()`, did you forget to provide a `loss` argument?\n"
          ]
        }
      ]
    },
    {
      "cell_type": "code",
      "source": [
        "model.summary()"
      ],
      "metadata": {
        "colab": {
          "base_uri": "https://localhost:8080/"
        },
        "id": "HjgQoojEMQhe",
        "outputId": "88d8c04c-5538-43a8-ea1f-105c0c822346"
      },
      "execution_count": 22,
      "outputs": [
        {
          "output_type": "stream",
          "name": "stdout",
          "text": [
            "Model: \"cf_hybrid_bert4_rec_4\"\n",
            "_________________________________________________________________\n",
            " Layer (type)                Output Shape              Param #   \n",
            "=================================================================\n",
            " embedding_8 (Embedding)     multiple                  128000    \n",
            "                                                                 \n",
            " embedding_9 (Embedding)     multiple                  256000    \n",
            "                                                                 \n",
            " dense_10 (Dense)            multiple                  0 (unused)\n",
            "                                                                 \n",
            " tf_bert_model_4 (TFBertMode  multiple                 109482240 \n",
            " l)                                                              \n",
            "                                                                 \n",
            " dropout_187 (Dropout)       multiple                  0 (unused)\n",
            "                                                                 \n",
            " dense_11 (Dense)            multiple                  0 (unused)\n",
            "                                                                 \n",
            " dense_12 (Dense)            multiple                  0 (unused)\n",
            "                                                                 \n",
            "=================================================================\n",
            "Total params: 109,866,240\n",
            "Trainable params: 109,866,240\n",
            "Non-trainable params: 0\n",
            "_________________________________________________________________\n"
          ]
        }
      ]
    },
    {
      "cell_type": "code",
      "source": [
        "predictions = model(batch_user_ids, batch_item_ids, batch_item_tokens, batch_attention_mask, batch_numeric_features)"
      ],
      "metadata": {
        "colab": {
          "base_uri": "https://localhost:8080/"
        },
        "id": "SYw1NfzvaYhw",
        "outputId": "ad714f2a-ee43-4a0a-a5f8-369e9523db23"
      },
      "execution_count": 186,
      "outputs": [
        {
          "output_type": "stream",
          "name": "stdout",
          "text": [
            "(32, 10, 128)\n",
            "(32, 1, 128)\n",
            "(32, 128) (32, 1280) (32, 128)\n"
          ]
        }
      ]
    },
    {
      "cell_type": "code",
      "source": [
        "batch_ratings"
      ],
      "metadata": {
        "colab": {
          "base_uri": "https://localhost:8080/"
        },
        "id": "uQkYzleNabVw",
        "outputId": "300bea06-0efc-4ee5-b26d-71973c0afdbc"
      },
      "execution_count": 189,
      "outputs": [
        {
          "output_type": "execute_result",
          "data": {
            "text/plain": [
              "<tf.Tensor: shape=(32,), dtype=float32, numpy=\n",
              "array([0., 0., 0., 1., 0., 1., 1., 0., 0., 0., 0., 1., 0., 1., 1., 1., 0.,\n",
              "       1., 0., 0., 0., 1., 0., 0., 1., 1., 1., 0., 0., 1., 0., 0.],\n",
              "      dtype=float32)>"
            ]
          },
          "metadata": {},
          "execution_count": 189
        }
      ]
    },
    {
      "cell_type": "code",
      "source": [
        "predictions"
      ],
      "metadata": {
        "colab": {
          "base_uri": "https://localhost:8080/"
        },
        "id": "mYWMI9AmaloT",
        "outputId": "d0af0ded-9faf-4862-871f-d0f0e6676122"
      },
      "execution_count": 190,
      "outputs": [
        {
          "output_type": "execute_result",
          "data": {
            "text/plain": [
              "<tf.Tensor: shape=(32, 1), dtype=float32, numpy=\n",
              "array([[0.00563574],\n",
              "       [0.04057363],\n",
              "       [0.05061217],\n",
              "       [0.9901481 ],\n",
              "       [0.65675175],\n",
              "       [0.9943834 ],\n",
              "       [0.99491274],\n",
              "       [0.04208165],\n",
              "       [0.03709753],\n",
              "       [0.0261826 ],\n",
              "       [0.03206322],\n",
              "       [0.8445351 ],\n",
              "       [0.02718589],\n",
              "       [0.99544483],\n",
              "       [0.9976927 ],\n",
              "       [0.88735306],\n",
              "       [0.72908926],\n",
              "       [0.9955383 ],\n",
              "       [0.00664295],\n",
              "       [0.7462278 ],\n",
              "       [0.02873709],\n",
              "       [0.8986698 ],\n",
              "       [0.3220855 ],\n",
              "       [0.02681949],\n",
              "       [0.77466637],\n",
              "       [0.9941871 ],\n",
              "       [0.9942861 ],\n",
              "       [0.01569121],\n",
              "       [0.7390073 ],\n",
              "       [0.9373528 ],\n",
              "       [0.01710252],\n",
              "       [0.00503302]], dtype=float32)>"
            ]
          },
          "metadata": {},
          "execution_count": 190
        }
      ]
    },
    {
      "cell_type": "code",
      "source": [],
      "metadata": {
        "id": "BmKwvzbdallU"
      },
      "execution_count": null,
      "outputs": []
    },
    {
      "cell_type": "code",
      "source": [
        "\n",
        "# Example prediction\n",
        "test_user_ids = tf.constant([0, 1, 2], dtype=tf.int32)\n",
        "test_item_ids = tf.constant([100, 101, 102], dtype=tf.int32)\n",
        "test_item_tokens = tf.constant(tokenizer.encode([\"item1\", \"item2\", \"item3\"], max_length=max_sequence_length, padding='max_length'), dtype=tf.int32)\n",
        "test_attention_mask = tf.constant(np.ones((3, max_sequence_length)), dtype=tf.int32)\n",
        "test_numeric_features = tf.constant([[0.1, 0.2, 0.3, 0.4, 0.5], [0.6, 0.7, 0.8, 0.9, 1.0], [0.2, 0.4, 0.6, 0.8, 1.0]], dtype=tf.float32)\n",
        "\n",
        "predictions = model(test_user_ids, test_item_ids, test_item_tokens, test_attention_mask, test_numeric_features)\n",
        "print(\"Predictions:\", predictions.numpy())"
      ],
      "metadata": {
        "id": "FpbKBOXHMNvW"
      },
      "execution_count": null,
      "outputs": []
    },
    {
      "cell_type": "markdown",
      "source": [
        "### Code"
      ],
      "metadata": {
        "id": "WPCLq9lM6NcL"
      }
    },
    {
      "cell_type": "code",
      "source": [
        "import tensorflow as tf\n",
        "from transformers import TFBertModel\n",
        "\n",
        "class CFHybridBERT4Rec(tf.keras.Model):\n",
        "    def __init__(self, num_users, num_items, num_numerical_features, bert_model_name, hidden_size=128):\n",
        "        super(CFHybridBERT4Rec, self).__init__()\n",
        "        self.num_users = num_users\n",
        "        self.num_items = num_items\n",
        "        self.num_numerical_features = num_numerical_features\n",
        "        self.hidden_size = hidden_size\n",
        "\n",
        "        # Collaborative Filtering Embeddings\n",
        "        self.user_embedding = tf.keras.layers.Embedding(num_users, hidden_size)\n",
        "        self.item_embedding = tf.keras.layers.Embedding(num_items, hidden_size)\n",
        "\n",
        "        # BERT model\n",
        "        self.bert = TFBertModel.from_pretrained(bert_model_name)\n",
        "\n",
        "        # Linear layers for numerical features\n",
        "        self.numerical_features_linear = tf.keras.layers.Dense(hidden_size)\n",
        "\n",
        "        # Final prediction layer\n",
        "        self.predict_layer = tf.keras.layers.Dense(1)\n",
        "\n",
        "    def call(self, user_ids, item_ids, item_tokens, numerical_features, attention_mask):\n",
        "        # Collaborative Filtering Embeddings\n",
        "        user_embedded = self.user_embedding(user_ids)\n",
        "        item_embedded = self.item_embedding(item_ids)\n",
        "\n",
        "        # BERT-based embeddings\n",
        "        bert_outputs = self.bert(input_ids=item_tokens, attention_mask=attention_mask)\n",
        "        bert_pooled_output = bert_outputs.pooler_output\n",
        "\n",
        "        # Numerical features\n",
        "        numerical_features_embedded = self.numerical_features_linear(numerical_features)\n",
        "\n",
        "        # Concatenate embeddings\n",
        "        concatenated = tf.concat((user_embedded, item_embedded, bert_pooled_output, numerical_features_embedded), axis=1)\n",
        "\n",
        "        # Prediction\n",
        "        predicted_rating = self.predict_layer(concatenated)\n",
        "\n",
        "        return tf.squeeze(predicted_rating)\n",
        "\n"
      ],
      "metadata": {
        "id": "mlM01tRG6S4E"
      },
      "execution_count": 4,
      "outputs": []
    },
    {
      "cell_type": "code",
      "source": [],
      "metadata": {
        "id": "VTk7y5H6HI1i"
      },
      "execution_count": 103,
      "outputs": []
    },
    {
      "cell_type": "code",
      "source": [
        "# Example usage\n",
        "num_users = 1000\n",
        "num_items = 5000\n",
        "num_numerical_features = 10\n",
        "bert_model_name = 'bert-base-uncased'\n",
        "\n",
        "model = CFHybridBERT4Rec(num_users, num_items, num_numerical_features, bert_model_name)\n"
      ],
      "metadata": {
        "colab": {
          "base_uri": "https://localhost:8080/",
          "height": 200
        },
        "id": "qzNqblu86U7k",
        "outputId": "9b7b9b9e-9bb2-45ec-a6dd-93acb4aa5fdc"
      },
      "execution_count": 104,
      "outputs": [
        {
          "output_type": "error",
          "ename": "TypeError",
          "evalue": "ignored",
          "traceback": [
            "\u001b[0;31m---------------------------------------------------------------------------\u001b[0m",
            "\u001b[0;31mTypeError\u001b[0m                                 Traceback (most recent call last)",
            "\u001b[0;32m<ipython-input-104-991c88d0aa52>\u001b[0m in \u001b[0;36m<cell line: 7>\u001b[0;34m()\u001b[0m\n\u001b[1;32m      5\u001b[0m \u001b[0mbert_model_name\u001b[0m \u001b[0;34m=\u001b[0m \u001b[0;34m'bert-base-uncased'\u001b[0m\u001b[0;34m\u001b[0m\u001b[0;34m\u001b[0m\u001b[0m\n\u001b[1;32m      6\u001b[0m \u001b[0;34m\u001b[0m\u001b[0m\n\u001b[0;32m----> 7\u001b[0;31m \u001b[0mmodel\u001b[0m \u001b[0;34m=\u001b[0m \u001b[0mCFHybridBERT4Rec\u001b[0m\u001b[0;34m(\u001b[0m\u001b[0mnum_users\u001b[0m\u001b[0;34m,\u001b[0m \u001b[0mnum_items\u001b[0m\u001b[0;34m,\u001b[0m \u001b[0mnum_numerical_features\u001b[0m\u001b[0;34m,\u001b[0m \u001b[0mbert_model_name\u001b[0m\u001b[0;34m)\u001b[0m\u001b[0;34m\u001b[0m\u001b[0;34m\u001b[0m\u001b[0m\n\u001b[0m",
            "\u001b[0;31mTypeError\u001b[0m: CFHybridBERT4Rec.__init__() missing 2 required positional arguments: 'hidden_size' and 'dropout_prob'"
          ]
        }
      ]
    },
    {
      "cell_type": "code",
      "source": [
        "user_ids = tf.constant([1, 2, 3, 4])\n",
        "item_ids = tf.constant([100, 200, 300, 400])\n",
        "item_tokens = tf.constant([[101, 1045, 2061, 1012, 102,  1037, 2036],  # Example tokenized item 1\n",
        "                           [101, 2054, 2023, 2003, 1037, 2047, 102],  # Example tokenized item 2\n",
        "                           [101, 2049, 1005, 1055, 2342, 102, 2031],  # Example tokenized item 3\n",
        "                           [101, 2031, 2028, 2145, 2000, 2228, 102]])  # Example tokenized item 4\n",
        "numerical_features = tf.constant([[0.1, 0.2, 0.3, 0.4, 0.5, 0.6, 0.7, 0.8, 0.9, 1.0],\n",
        "                                  [1.0, 0.9, 0.8, 0.7, 0.6, 0.5, 0.4, 0.3, 0.2, 0.1],\n",
        "                                  [0.5, 0.5, 0.5, 0.5, 0.5, 0.5, 0.5, 0.5, 0.5, 0.5],\n",
        "                                  [0.9, 0.1, 0.8, 0.2, 0.7, 0.3, 0.6, 0.4, 0.5, 0.5]])\n",
        "attention_mask = tf.constant([[1, 1, 1, 1, 1, 1, 1, 1, 1, 1],\n",
        "                              [1, 1, 1, 1, 1, 1, 1, 1, 1, 1],\n",
        "                              [1, 1, 1, 1, 1, 1, 1, 1, 1, 1],\n",
        "                              [1, 1, 1, 1, 1, 1, 1, 1, 1, 1]])\n",
        "\n",
        "predictions = model(user_ids, item_ids, item_tokens, numerical_features, attention_mask)\n",
        "print(predictions)\n"
      ],
      "metadata": {
        "id": "JosModCE6htz"
      },
      "execution_count": null,
      "outputs": []
    },
    {
      "cell_type": "code",
      "source": [],
      "metadata": {
        "id": "riFafcRJ_-eH"
      },
      "execution_count": null,
      "outputs": []
    },
    {
      "cell_type": "markdown",
      "source": [
        "### Version - 3"
      ],
      "metadata": {
        "id": "_GWuxJZi__M4"
      }
    },
    {
      "cell_type": "code",
      "source": [
        "import tensorflow as tf\n",
        "from transformers import TFBertModel\n",
        "\n",
        "class CFHybridBERT4Rec(tf.keras.Model):\n",
        "    def __init__(self, num_users, num_items, num_numerical_features, bert_model_name, hidden_size=128):\n",
        "        super(CFHybridBERT4Rec, self).__init__()\n",
        "        self.num_users = num_users\n",
        "        self.num_items = num_items\n",
        "        self.num_numerical_features = num_numerical_features\n",
        "        self.hidden_size = hidden_size\n",
        "\n",
        "        # Collaborative Filtering Embeddings\n",
        "        self.user_embedding = tf.keras.layers.Embedding(num_users, hidden_size)\n",
        "        self.item_embedding = tf.keras.layers.Embedding(num_items, hidden_size)\n",
        "\n",
        "        # BERT model\n",
        "        self.bert = TFBertModel.from_pretrained(bert_model_name)\n",
        "\n",
        "        # Linear layers for numerical features\n",
        "        self.numerical_features_linear = tf.keras.layers.Dense(hidden_size)\n",
        "\n",
        "        # Final prediction layer\n",
        "        self.predict_layer = tf.keras.layers.Dense(1)\n",
        "\n",
        "    def call(self, user_ids, item_ids, item_tokens, numerical_features, attention_mask):\n",
        "        # Collaborative Filtering Embeddings\n",
        "        user_embedded = self.user_embedding(user_ids)\n",
        "        item_embedded = self.item_embedding(item_ids)\n",
        "\n",
        "        # BERT-based embeddings\n",
        "        bert_outputs = self.bert(input_ids=item_tokens, attention_mask=attention_mask)\n",
        "        bert_pooled_output = bert_outputs.pooler_output\n",
        "\n",
        "        # Numerical features\n",
        "        numerical_features_embedded = self.numerical_features_linear(numerical_features)\n",
        "\n",
        "        # Concatenate embeddings\n",
        "        concatenated = tf.concat((user_embedded, item_embedded, bert_pooled_output, numerical_features_embedded), axis=1)\n",
        "\n",
        "        # Prediction\n",
        "        predicted_rating = self.predict_layer(concatenated)\n",
        "\n",
        "        return tf.squeeze(predicted_rating)\n"
      ],
      "metadata": {
        "id": "4_bb5IwM_-UQ"
      },
      "execution_count": 44,
      "outputs": []
    },
    {
      "cell_type": "code",
      "source": [
        "import tensorflow as tf\n",
        "from transformers import BertTokenizer\n",
        "\n",
        "# Set hyperparameters and data paths\n",
        "num_users = 1000\n",
        "num_items = 2000\n",
        "num_numerical_features = 5\n",
        "hidden_size = 128\n",
        "bert_model_name = 'bert-base-uncased'\n",
        "train_data_path = 'train_data.csv'\n",
        "valid_data_path = 'valid_data.csv'\n",
        "batch_size = 32\n",
        "num_epochs = 10\n",
        "learning_rate = 0.001"
      ],
      "metadata": {
        "id": "VRfdwGBHAJ59"
      },
      "execution_count": 46,
      "outputs": []
    },
    {
      "cell_type": "code",
      "source": [
        "\n",
        "\n",
        "# Create an instance of the CFHybridBERT4Rec model\n",
        "model = CFHybridBERT4Rec(num_users, num_items, num_numerical_features, bert_model_name, hidden_size)\n",
        "\n",
        "# Define loss function and optimizer\n",
        "loss_fn = tf.keras.losses.MeanSquaredError()\n",
        "optimizer = tf.keras.optimizers.Adam(learning_rate)\n",
        "\n",
        "# Create tokenizer for BERT\n",
        "tokenizer = BertTokenizer.from_pretrained(bert_model_name)"
      ],
      "metadata": {
        "colab": {
          "base_uri": "https://localhost:8080/"
        },
        "id": "TqwZRRUFAL6C",
        "outputId": "1e9d0f99-9052-424b-beb0-3f2409efe0f0"
      },
      "execution_count": 47,
      "outputs": [
        {
          "output_type": "stream",
          "name": "stderr",
          "text": [
            "Some weights of the PyTorch model were not used when initializing the TF 2.0 model TFBertModel: ['cls.predictions.transform.dense.weight', 'cls.seq_relationship.weight', 'cls.seq_relationship.bias', 'cls.predictions.transform.LayerNorm.weight', 'cls.predictions.transform.LayerNorm.bias', 'cls.predictions.transform.dense.bias', 'cls.predictions.bias']\n",
            "- This IS expected if you are initializing TFBertModel from a PyTorch model trained on another task or with another architecture (e.g. initializing a TFBertForSequenceClassification model from a BertForPreTraining model).\n",
            "- This IS NOT expected if you are initializing TFBertModel from a PyTorch model that you expect to be exactly identical (e.g. initializing a TFBertForSequenceClassification model from a BertForSequenceClassification model).\n",
            "All the weights of TFBertModel were initialized from the PyTorch model.\n",
            "If your task is similar to the task the model of the checkpoint was trained on, you can already use TFBertModel for predictions without further training.\n"
          ]
        }
      ]
    },
    {
      "cell_type": "code",
      "source": [
        "# Function to preprocess a batch of data\n",
        "def preprocess_batch(data_batch):\n",
        "    user_ids = data_batch['user_ids']\n",
        "    item_ids = data_batch['item_ids']\n",
        "    item_tokens = tokenizer.batch_encode_plus(data_batch['item_texts'], padding='longest', truncation=True, max_length=128, return_tensors='tf')['input_ids']\n",
        "    numerical_features = data_batch['numerical_features']\n",
        "    attention_mask = tf.cast(item_tokens != 0, tf.int32)\n",
        "    ratings = data_batch['ratings']\n",
        "\n",
        "    return user_ids, item_ids, item_tokens, numerical_features, attention_mask, ratings"
      ],
      "metadata": {
        "id": "gCjITjxNAUcS"
      },
      "execution_count": 48,
      "outputs": []
    },
    {
      "cell_type": "code",
      "source": [
        "# Function to compute the forward pass and loss\n",
        "@tf.function\n",
        "def compute_loss(user_ids, item_ids, item_tokens, numerical_features, attention_mask, ratings):\n",
        "    with tf.GradientTape() as tape:\n",
        "        predicted_ratings = model(user_ids, item_ids, item_tokens, numerical_features, attention_mask)\n",
        "        loss = loss_fn(ratings, predicted_ratings)\n",
        "\n",
        "    gradients = tape.gradient(loss, model.trainable_variables)\n",
        "    optimizer.apply_gradients(zip(gradients, model.trainable_variables))\n",
        "\n",
        "    return loss\n"
      ],
      "metadata": {
        "id": "Jkms93IYAX8_"
      },
      "execution_count": 49,
      "outputs": []
    },
    {
      "cell_type": "markdown",
      "source": [
        "### Generate Data"
      ],
      "metadata": {
        "id": "zuqDCbEwAmoZ"
      }
    },
    {
      "cell_type": "code",
      "source": [
        "import numpy as np\n",
        "import pandas as pd\n",
        "\n",
        "# Generate random training data\n",
        "num_train_samples = 1000\n",
        "\n",
        "train_user_ids = np.random.randint(1, num_users + 1, size=num_train_samples)\n",
        "train_item_ids = np.random.randint(1, num_items + 1, size=num_train_samples)\n",
        "train_item_texts = [f\"Item {item_id}\" for item_id in train_item_ids]\n",
        "train_numerical_features = np.random.randn(num_train_samples, num_numerical_features)\n",
        "train_ratings = np.random.randint(1, 6, size=num_train_samples)\n",
        "\n",
        "train_data = pd.DataFrame({\n",
        "    'user_ids': train_user_ids,\n",
        "    'item_ids': train_item_ids,\n",
        "    'item_texts': train_item_texts,\n",
        "    'numerical_features': train_numerical_features.tolist(),\n",
        "    'ratings': train_ratings\n",
        "})\n",
        "\n",
        "# Generate random validation data\n",
        "num_valid_samples = 200\n",
        "\n",
        "valid_user_ids = np.random.randint(1, num_users + 1, size=num_valid_samples)\n",
        "valid_item_ids = np.random.randint(1, num_items + 1, size=num_valid_samples)\n",
        "valid_item_texts = [f\"Item {item_id}\" for item_id in valid_item_ids]\n",
        "valid_numerical_features = np.random.randn(num_valid_samples, num_numerical_features)\n",
        "valid_ratings = np.random.randint(1, 6, size=num_valid_samples)\n",
        "\n",
        "valid_data = pd.DataFrame({\n",
        "    'user_ids': valid_user_ids,\n",
        "    'item_ids': valid_item_ids,\n",
        "    'item_texts': valid_item_texts,\n",
        "    'numerical_features': valid_numerical_features.tolist(),\n",
        "    'ratings': valid_ratings\n",
        "})\n",
        "\n",
        "# # Save the generated data to CSV files\n",
        "# train_data.to_csv('train_data.csv', index=False)\n",
        "# valid_data.to_csv('valid_data.csv', index=False)\n"
      ],
      "metadata": {
        "id": "I-OReK6sAlr7"
      },
      "execution_count": 50,
      "outputs": []
    },
    {
      "cell_type": "code",
      "source": [
        "train_data.head()"
      ],
      "metadata": {
        "colab": {
          "base_uri": "https://localhost:8080/",
          "height": 206
        },
        "id": "U49SIL21Aq2U",
        "outputId": "def49e7c-e34d-47e7-e2f3-97c2e3fcb67c"
      },
      "execution_count": 51,
      "outputs": [
        {
          "output_type": "execute_result",
          "data": {
            "text/plain": [
              "   user_ids  item_ids item_texts  \\\n",
              "0        36       714   Item 714   \n",
              "1      1000      1068  Item 1068   \n",
              "2       953      1751  Item 1751   \n",
              "3        23       523   Item 523   \n",
              "4       370      1500  Item 1500   \n",
              "\n",
              "                                  numerical_features  ratings  \n",
              "0  [-1.5870669548122613, 0.3729184445593504, 0.53...        1  \n",
              "1  [0.002471331942127893, -0.05856419713042212, -...        3  \n",
              "2  [-1.0458181107350684, 0.8712534899759317, 0.34...        1  \n",
              "3  [-1.112180638235938, 1.3135616534328622, 0.192...        4  \n",
              "4  [0.39134713293964674, -1.8222047071104766, 1.7...        4  "
            ],
            "text/html": [
              "\n",
              "  <div id=\"df-1a12ad84-2ad8-4775-8965-6fbf2aaaf3ac\">\n",
              "    <div class=\"colab-df-container\">\n",
              "      <div>\n",
              "<style scoped>\n",
              "    .dataframe tbody tr th:only-of-type {\n",
              "        vertical-align: middle;\n",
              "    }\n",
              "\n",
              "    .dataframe tbody tr th {\n",
              "        vertical-align: top;\n",
              "    }\n",
              "\n",
              "    .dataframe thead th {\n",
              "        text-align: right;\n",
              "    }\n",
              "</style>\n",
              "<table border=\"1\" class=\"dataframe\">\n",
              "  <thead>\n",
              "    <tr style=\"text-align: right;\">\n",
              "      <th></th>\n",
              "      <th>user_ids</th>\n",
              "      <th>item_ids</th>\n",
              "      <th>item_texts</th>\n",
              "      <th>numerical_features</th>\n",
              "      <th>ratings</th>\n",
              "    </tr>\n",
              "  </thead>\n",
              "  <tbody>\n",
              "    <tr>\n",
              "      <th>0</th>\n",
              "      <td>36</td>\n",
              "      <td>714</td>\n",
              "      <td>Item 714</td>\n",
              "      <td>[-1.5870669548122613, 0.3729184445593504, 0.53...</td>\n",
              "      <td>1</td>\n",
              "    </tr>\n",
              "    <tr>\n",
              "      <th>1</th>\n",
              "      <td>1000</td>\n",
              "      <td>1068</td>\n",
              "      <td>Item 1068</td>\n",
              "      <td>[0.002471331942127893, -0.05856419713042212, -...</td>\n",
              "      <td>3</td>\n",
              "    </tr>\n",
              "    <tr>\n",
              "      <th>2</th>\n",
              "      <td>953</td>\n",
              "      <td>1751</td>\n",
              "      <td>Item 1751</td>\n",
              "      <td>[-1.0458181107350684, 0.8712534899759317, 0.34...</td>\n",
              "      <td>1</td>\n",
              "    </tr>\n",
              "    <tr>\n",
              "      <th>3</th>\n",
              "      <td>23</td>\n",
              "      <td>523</td>\n",
              "      <td>Item 523</td>\n",
              "      <td>[-1.112180638235938, 1.3135616534328622, 0.192...</td>\n",
              "      <td>4</td>\n",
              "    </tr>\n",
              "    <tr>\n",
              "      <th>4</th>\n",
              "      <td>370</td>\n",
              "      <td>1500</td>\n",
              "      <td>Item 1500</td>\n",
              "      <td>[0.39134713293964674, -1.8222047071104766, 1.7...</td>\n",
              "      <td>4</td>\n",
              "    </tr>\n",
              "  </tbody>\n",
              "</table>\n",
              "</div>\n",
              "      <button class=\"colab-df-convert\" onclick=\"convertToInteractive('df-1a12ad84-2ad8-4775-8965-6fbf2aaaf3ac')\"\n",
              "              title=\"Convert this dataframe to an interactive table.\"\n",
              "              style=\"display:none;\">\n",
              "        \n",
              "  <svg xmlns=\"http://www.w3.org/2000/svg\" height=\"24px\"viewBox=\"0 0 24 24\"\n",
              "       width=\"24px\">\n",
              "    <path d=\"M0 0h24v24H0V0z\" fill=\"none\"/>\n",
              "    <path d=\"M18.56 5.44l.94 2.06.94-2.06 2.06-.94-2.06-.94-.94-2.06-.94 2.06-2.06.94zm-11 1L8.5 8.5l.94-2.06 2.06-.94-2.06-.94L8.5 2.5l-.94 2.06-2.06.94zm10 10l.94 2.06.94-2.06 2.06-.94-2.06-.94-.94-2.06-.94 2.06-2.06.94z\"/><path d=\"M17.41 7.96l-1.37-1.37c-.4-.4-.92-.59-1.43-.59-.52 0-1.04.2-1.43.59L10.3 9.45l-7.72 7.72c-.78.78-.78 2.05 0 2.83L4 21.41c.39.39.9.59 1.41.59.51 0 1.02-.2 1.41-.59l7.78-7.78 2.81-2.81c.8-.78.8-2.07 0-2.86zM5.41 20L4 18.59l7.72-7.72 1.47 1.35L5.41 20z\"/>\n",
              "  </svg>\n",
              "      </button>\n",
              "      \n",
              "  <style>\n",
              "    .colab-df-container {\n",
              "      display:flex;\n",
              "      flex-wrap:wrap;\n",
              "      gap: 12px;\n",
              "    }\n",
              "\n",
              "    .colab-df-convert {\n",
              "      background-color: #E8F0FE;\n",
              "      border: none;\n",
              "      border-radius: 50%;\n",
              "      cursor: pointer;\n",
              "      display: none;\n",
              "      fill: #1967D2;\n",
              "      height: 32px;\n",
              "      padding: 0 0 0 0;\n",
              "      width: 32px;\n",
              "    }\n",
              "\n",
              "    .colab-df-convert:hover {\n",
              "      background-color: #E2EBFA;\n",
              "      box-shadow: 0px 1px 2px rgba(60, 64, 67, 0.3), 0px 1px 3px 1px rgba(60, 64, 67, 0.15);\n",
              "      fill: #174EA6;\n",
              "    }\n",
              "\n",
              "    [theme=dark] .colab-df-convert {\n",
              "      background-color: #3B4455;\n",
              "      fill: #D2E3FC;\n",
              "    }\n",
              "\n",
              "    [theme=dark] .colab-df-convert:hover {\n",
              "      background-color: #434B5C;\n",
              "      box-shadow: 0px 1px 3px 1px rgba(0, 0, 0, 0.15);\n",
              "      filter: drop-shadow(0px 1px 2px rgba(0, 0, 0, 0.3));\n",
              "      fill: #FFFFFF;\n",
              "    }\n",
              "  </style>\n",
              "\n",
              "      <script>\n",
              "        const buttonEl =\n",
              "          document.querySelector('#df-1a12ad84-2ad8-4775-8965-6fbf2aaaf3ac button.colab-df-convert');\n",
              "        buttonEl.style.display =\n",
              "          google.colab.kernel.accessAllowed ? 'block' : 'none';\n",
              "\n",
              "        async function convertToInteractive(key) {\n",
              "          const element = document.querySelector('#df-1a12ad84-2ad8-4775-8965-6fbf2aaaf3ac');\n",
              "          const dataTable =\n",
              "            await google.colab.kernel.invokeFunction('convertToInteractive',\n",
              "                                                     [key], {});\n",
              "          if (!dataTable) return;\n",
              "\n",
              "          const docLinkHtml = 'Like what you see? Visit the ' +\n",
              "            '<a target=\"_blank\" href=https://colab.research.google.com/notebooks/data_table.ipynb>data table notebook</a>'\n",
              "            + ' to learn more about interactive tables.';\n",
              "          element.innerHTML = '';\n",
              "          dataTable['output_type'] = 'display_data';\n",
              "          await google.colab.output.renderOutput(dataTable, element);\n",
              "          const docLink = document.createElement('div');\n",
              "          docLink.innerHTML = docLinkHtml;\n",
              "          element.appendChild(docLink);\n",
              "        }\n",
              "      </script>\n",
              "    </div>\n",
              "  </div>\n",
              "  "
            ]
          },
          "metadata": {},
          "execution_count": 51
        }
      ]
    },
    {
      "cell_type": "code",
      "source": [
        "user_ids, item_ids, item_tokens, numerical_features, attention_mask, ratings = preprocess_batch(train_data)"
      ],
      "metadata": {
        "id": "jKTOqRNQBFzg"
      },
      "execution_count": 52,
      "outputs": []
    },
    {
      "cell_type": "code",
      "source": [
        "predicted_ratings = model(user_ids, item_ids, item_tokens, numerical_features, attention_mask)"
      ],
      "metadata": {
        "colab": {
          "base_uri": "https://localhost:8080/",
          "height": 588
        },
        "id": "X45tbzOKBMyG",
        "outputId": "225da9f9-e691-43c9-c94f-352dc7334160"
      },
      "execution_count": 56,
      "outputs": [
        {
          "output_type": "error",
          "ename": "AttributeError",
          "evalue": "ignored",
          "traceback": [
            "\u001b[0;31m---------------------------------------------------------------------------\u001b[0m",
            "\u001b[0;31mAttributeError\u001b[0m                            Traceback (most recent call last)",
            "\u001b[0;32m<ipython-input-56-ef2cdc6d91ad>\u001b[0m in \u001b[0;36m<cell line: 1>\u001b[0;34m()\u001b[0m\n\u001b[0;32m----> 1\u001b[0;31m \u001b[0mpredicted_ratings\u001b[0m \u001b[0;34m=\u001b[0m \u001b[0mmodel\u001b[0m\u001b[0;34m(\u001b[0m\u001b[0muser_ids\u001b[0m\u001b[0;34m,\u001b[0m \u001b[0mitem_ids\u001b[0m\u001b[0;34m,\u001b[0m \u001b[0mitem_tokens\u001b[0m\u001b[0;34m,\u001b[0m \u001b[0mnumerical_features\u001b[0m\u001b[0;34m,\u001b[0m \u001b[0mattention_mask\u001b[0m\u001b[0;34m)\u001b[0m\u001b[0;34m\u001b[0m\u001b[0;34m\u001b[0m\u001b[0m\n\u001b[0m",
            "\u001b[0;32m/usr/local/lib/python3.10/dist-packages/keras/utils/traceback_utils.py\u001b[0m in \u001b[0;36merror_handler\u001b[0;34m(*args, **kwargs)\u001b[0m\n\u001b[1;32m     68\u001b[0m             \u001b[0;31m# To get the full stack trace, call:\u001b[0m\u001b[0;34m\u001b[0m\u001b[0;34m\u001b[0m\u001b[0m\n\u001b[1;32m     69\u001b[0m             \u001b[0;31m# `tf.debugging.disable_traceback_filtering()`\u001b[0m\u001b[0;34m\u001b[0m\u001b[0;34m\u001b[0m\u001b[0m\n\u001b[0;32m---> 70\u001b[0;31m             \u001b[0;32mraise\u001b[0m \u001b[0me\u001b[0m\u001b[0;34m.\u001b[0m\u001b[0mwith_traceback\u001b[0m\u001b[0;34m(\u001b[0m\u001b[0mfiltered_tb\u001b[0m\u001b[0;34m)\u001b[0m \u001b[0;32mfrom\u001b[0m \u001b[0;32mNone\u001b[0m\u001b[0;34m\u001b[0m\u001b[0;34m\u001b[0m\u001b[0m\n\u001b[0m\u001b[1;32m     71\u001b[0m         \u001b[0;32mfinally\u001b[0m\u001b[0;34m:\u001b[0m\u001b[0;34m\u001b[0m\u001b[0;34m\u001b[0m\u001b[0m\n\u001b[1;32m     72\u001b[0m             \u001b[0;32mdel\u001b[0m \u001b[0mfiltered_tb\u001b[0m\u001b[0;34m\u001b[0m\u001b[0;34m\u001b[0m\u001b[0m\n",
            "\u001b[0;32m<ipython-input-44-bac4d1e9c59a>\u001b[0m in \u001b[0;36mcall\u001b[0;34m(self, user_ids, item_ids, item_tokens, numerical_features, attention_mask)\u001b[0m\n\u001b[1;32m     25\u001b[0m     \u001b[0;32mdef\u001b[0m \u001b[0mcall\u001b[0m\u001b[0;34m(\u001b[0m\u001b[0mself\u001b[0m\u001b[0;34m,\u001b[0m \u001b[0muser_ids\u001b[0m\u001b[0;34m,\u001b[0m \u001b[0mitem_ids\u001b[0m\u001b[0;34m,\u001b[0m \u001b[0mitem_tokens\u001b[0m\u001b[0;34m,\u001b[0m \u001b[0mnumerical_features\u001b[0m\u001b[0;34m,\u001b[0m \u001b[0mattention_mask\u001b[0m\u001b[0;34m)\u001b[0m\u001b[0;34m:\u001b[0m\u001b[0;34m\u001b[0m\u001b[0;34m\u001b[0m\u001b[0m\n\u001b[1;32m     26\u001b[0m         \u001b[0;31m# Collaborative Filtering Embeddings\u001b[0m\u001b[0;34m\u001b[0m\u001b[0;34m\u001b[0m\u001b[0m\n\u001b[0;32m---> 27\u001b[0;31m         \u001b[0muser_embedded\u001b[0m \u001b[0;34m=\u001b[0m \u001b[0mself\u001b[0m\u001b[0;34m.\u001b[0m\u001b[0muser_embedding\u001b[0m\u001b[0;34m(\u001b[0m\u001b[0muser_ids\u001b[0m\u001b[0;34m)\u001b[0m\u001b[0;34m\u001b[0m\u001b[0;34m\u001b[0m\u001b[0m\n\u001b[0m\u001b[1;32m     28\u001b[0m         \u001b[0mitem_embedded\u001b[0m \u001b[0;34m=\u001b[0m \u001b[0mself\u001b[0m\u001b[0;34m.\u001b[0m\u001b[0mitem_embedding\u001b[0m\u001b[0;34m(\u001b[0m\u001b[0mitem_ids\u001b[0m\u001b[0;34m)\u001b[0m\u001b[0;34m\u001b[0m\u001b[0;34m\u001b[0m\u001b[0m\n\u001b[1;32m     29\u001b[0m \u001b[0;34m\u001b[0m\u001b[0m\n",
            "\u001b[0;31mAttributeError\u001b[0m: Exception encountered when calling layer 'embedding_22' (type Embedding).\n\n'numpy.dtype[int64]' object has no attribute 'base_dtype'\n\nCall arguments received by layer 'embedding_22' (type Embedding):\n  • inputs=0        36\n1      1000\n2       953\n3        23\n4       370\n       ... \n995     486\n996     524\n997      55\n998     373\n999     987\nName: user_ids, Length: 1000, dtype: int64"
          ]
        }
      ]
    },
    {
      "cell_type": "code",
      "source": [
        "\n",
        "\n",
        "\n",
        "\n",
        "\n",
        "# # Load and preprocess the training and validation data\n",
        "# train_data = load_data(train_data_path)  # Replace with your data loading function\n",
        "# valid_data = load_data(valid_data_path)  # Replace with your data loading function\n",
        "\n",
        "# Training loop\n",
        "for epoch in range(num_epochs):\n",
        "    train_loss = tf.keras.metrics.Mean()\n",
        "    valid_loss = tf.keras.metrics.Mean()\n",
        "\n",
        "    # Training\n",
        "    for batch in get_batches(train_data, batch_size):\n",
        "        user_ids, item_ids, item_tokens, numerical_features, attention_mask, ratings = preprocess_batch(batch)\n",
        "        loss = compute_loss(user_ids, item_ids, item_tokens, numerical_features, attention_mask, ratings)\n",
        "        train_loss(loss)\n",
        "\n",
        "    # Validation\n",
        "    for batch in get_batches(valid_data, batch_size):\n",
        "        user_ids, item_ids, item_tokens, numerical_features, attention_mask, ratings = preprocess_batch(batch)\n",
        "        predicted_ratings = model(user_ids, item_ids, item_tokens, numerical_features, attention_mask)\n",
        "        loss = loss_fn(ratings, predicted_ratings)\n",
        "        valid_loss(loss)\n",
        "\n",
        "    # Print training progress\n",
        "    print(f\"Epoch {epoch+1}: Train Loss = {train_loss.result()}, Valid Loss = {valid_loss.result()}\")\n",
        "\n",
        "# Save the trained model\n",
        "model.save_weights('cf_hybridbert4rec_weights.h5')\n"
      ],
      "metadata": {
        "id": "kv7YG1mGAEyo"
      },
      "execution_count": null,
      "outputs": []
    }
  ]
}